{
 "cells": [
  {
   "cell_type": "code",
   "execution_count": 14,
   "metadata": {},
   "outputs": [],
   "source": [
    "import pandas as pd\n",
    "from transformers import BartForSequenceClassification, BartTokenizer\n",
    "from tqdm import tqdm\n",
    "\n",
    "btc = pd.read_csv('../Cleaned_Data/Gnews.csv')"
   ]
  },
  {
   "cell_type": "code",
   "execution_count": 15,
   "metadata": {},
   "outputs": [
    {
     "name": "stderr",
     "output_type": "stream",
     "text": [
      "Classifying: 100%|██████████| 62756/62756 [2:46:52<00:00,  6.27it/s]  \n"
     ]
    }
   ],
   "source": [
    "# Initialize the tokenizer and model\n",
    "tokenizer = BartTokenizer.from_pretrained('facebook/bart-large-mnli')\n",
    "model = BartForSequenceClassification.from_pretrained('facebook/bart-large-mnli')\n",
    "\n",
    "# Define the classify_text function\n",
    "def classify_text(premise, hypothesis=\"This news is bullish for Bitcoin\"):\n",
    "    input_ids = tokenizer.encode(premise, hypothesis, return_tensors='pt')\n",
    "    logits = model(input_ids)[0]\n",
    "    entail_contradiction_logits = logits[:,[0,2]]\n",
    "    probs = entail_contradiction_logits.softmax(dim=1)\n",
    "    true_prob = probs[:,1].item() * 100\n",
    "    return true_prob\n",
    "\n",
    "# Assuming btc is your dataframe and 'description' is the column with text\n",
    "# Wrap the apply function with tqdm for a progress bar\n",
    "tqdm.pandas(desc=\"Classifying\")\n",
    "btc['bullish_bitcoin_prob'] = btc['description'].progress_apply(classify_text)"
   ]
  },
  {
   "cell_type": "code",
   "execution_count": 16,
   "metadata": {},
   "outputs": [],
   "source": [
    "#btc.to_csv('../Cleaned_Data/Gnews_sentiment.csv')"
   ]
  },
  {
   "cell_type": "code",
   "execution_count": 16,
   "metadata": {},
   "outputs": [],
   "source": [
    "gnews = pd.read_csv('../Cleaned_Data/Gnews_sentiment.csv')\n",
    "\n",
    "gnews['Date'] = pd.to_datetime(gnews['published date']).dt.date\n",
    "\n",
    "gnews = gnews.drop(columns=['published date', 'Unnamed: 0', 'title', 'description', 'url', 'publisher'])\n",
    "\n",
    "gnews = gnews.groupby(['Date']).agg(Sentiment_Bullish=('bullish_bitcoin_prob', 'mean')).reset_index()\n",
    "\n",
    "gnews.to_csv('../Cleaned_Data/Gnews_sentiment_daily.csv', index=False)"
   ]
  }
 ],
 "metadata": {
  "kernelspec": {
   "display_name": "base",
   "language": "python",
   "name": "python3"
  },
  "language_info": {
   "codemirror_mode": {
    "name": "ipython",
    "version": 3
   },
   "file_extension": ".py",
   "mimetype": "text/x-python",
   "name": "python",
   "nbconvert_exporter": "python",
   "pygments_lexer": "ipython3",
   "version": "3.11.7"
  }
 },
 "nbformat": 4,
 "nbformat_minor": 2
}

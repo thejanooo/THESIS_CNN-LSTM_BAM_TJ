{
 "cells": [
  {
   "cell_type": "code",
   "execution_count": 1,
   "metadata": {},
   "outputs": [
    {
     "name": "stdout",
     "output_type": "stream",
     "text": [
      "Trial 30 Complete [00h 00m 14s]\n",
      "val_accuracy: 0.520900309085846\n",
      "\n",
      "Best val_accuracy So Far: 0.5659164190292358\n",
      "Total elapsed time: 00h 07m 10s\n"
     ]
    },
    {
     "data": {
      "text/html": [
       "<pre style=\"white-space:pre;overflow-x:auto;line-height:normal;font-family:Menlo,'DejaVu Sans Mono',consolas,'Courier New',monospace\"><span style=\"font-weight: bold\">Model: \"sequential_1\"</span>\n",
       "</pre>\n"
      ],
      "text/plain": [
       "\u001b[1mModel: \"sequential_1\"\u001b[0m\n"
      ]
     },
     "metadata": {},
     "output_type": "display_data"
    },
    {
     "data": {
      "text/html": [
       "<pre style=\"white-space:pre;overflow-x:auto;line-height:normal;font-family:Menlo,'DejaVu Sans Mono',consolas,'Courier New',monospace\">┏━━━━━━━━━━━━━━━━━━━━━━━━━━━━━━━━━┳━━━━━━━━━━━━━━━━━━━━━━━━┳━━━━━━━━━━━━━━━┓\n",
       "┃<span style=\"font-weight: bold\"> Layer (type)                    </span>┃<span style=\"font-weight: bold\"> Output Shape           </span>┃<span style=\"font-weight: bold\">       Param # </span>┃\n",
       "┡━━━━━━━━━━━━━━━━━━━━━━━━━━━━━━━━━╇━━━━━━━━━━━━━━━━━━━━━━━━╇━━━━━━━━━━━━━━━┩\n",
       "│ conv2d_2 (<span style=\"color: #0087ff; text-decoration-color: #0087ff\">Conv2D</span>)               │ (<span style=\"color: #00d7ff; text-decoration-color: #00d7ff\">None</span>, <span style=\"color: #00af00; text-decoration-color: #00af00\">3</span>, <span style=\"color: #00af00; text-decoration-color: #00af00\">23</span>, <span style=\"color: #00af00; text-decoration-color: #00af00\">95</span>)      │           <span style=\"color: #00af00; text-decoration-color: #00af00\">950</span> │\n",
       "├─────────────────────────────────┼────────────────────────┼───────────────┤\n",
       "│ max_pooling2d_2 (<span style=\"color: #0087ff; text-decoration-color: #0087ff\">MaxPooling2D</span>)  │ (<span style=\"color: #00d7ff; text-decoration-color: #00d7ff\">None</span>, <span style=\"color: #00af00; text-decoration-color: #00af00\">1</span>, <span style=\"color: #00af00; text-decoration-color: #00af00\">8</span>, <span style=\"color: #00af00; text-decoration-color: #00af00\">95</span>)       │             <span style=\"color: #00af00; text-decoration-color: #00af00\">0</span> │\n",
       "├─────────────────────────────────┼────────────────────────┼───────────────┤\n",
       "│ conv2d_3 (<span style=\"color: #0087ff; text-decoration-color: #0087ff\">Conv2D</span>)               │ (<span style=\"color: #00d7ff; text-decoration-color: #00d7ff\">None</span>, <span style=\"color: #00af00; text-decoration-color: #00af00\">1</span>, <span style=\"color: #00af00; text-decoration-color: #00af00\">8</span>, <span style=\"color: #00af00; text-decoration-color: #00af00\">95</span>)       │        <span style=\"color: #00af00; text-decoration-color: #00af00\">81,320</span> │\n",
       "├─────────────────────────────────┼────────────────────────┼───────────────┤\n",
       "│ max_pooling2d_3 (<span style=\"color: #0087ff; text-decoration-color: #0087ff\">MaxPooling2D</span>)  │ (<span style=\"color: #00d7ff; text-decoration-color: #00d7ff\">None</span>, <span style=\"color: #00af00; text-decoration-color: #00af00\">1</span>, <span style=\"color: #00af00; text-decoration-color: #00af00\">3</span>, <span style=\"color: #00af00; text-decoration-color: #00af00\">95</span>)       │             <span style=\"color: #00af00; text-decoration-color: #00af00\">0</span> │\n",
       "├─────────────────────────────────┼────────────────────────┼───────────────┤\n",
       "│ dense_2 (<span style=\"color: #0087ff; text-decoration-color: #0087ff\">Dense</span>)                 │ (<span style=\"color: #00d7ff; text-decoration-color: #00d7ff\">None</span>, <span style=\"color: #00af00; text-decoration-color: #00af00\">1</span>, <span style=\"color: #00af00; text-decoration-color: #00af00\">3</span>, <span style=\"color: #00af00; text-decoration-color: #00af00\">115</span>)      │        <span style=\"color: #00af00; text-decoration-color: #00af00\">11,040</span> │\n",
       "├─────────────────────────────────┼────────────────────────┼───────────────┤\n",
       "│ reshape_1 (<span style=\"color: #0087ff; text-decoration-color: #0087ff\">Reshape</span>)             │ (<span style=\"color: #00d7ff; text-decoration-color: #00d7ff\">None</span>, <span style=\"color: #00af00; text-decoration-color: #00af00\">3</span>, <span style=\"color: #00af00; text-decoration-color: #00af00\">115</span>)         │             <span style=\"color: #00af00; text-decoration-color: #00af00\">0</span> │\n",
       "├─────────────────────────────────┼────────────────────────┼───────────────┤\n",
       "│ lstm_1 (<span style=\"color: #0087ff; text-decoration-color: #0087ff\">LSTM</span>)                   │ (<span style=\"color: #00d7ff; text-decoration-color: #00d7ff\">None</span>, <span style=\"color: #00af00; text-decoration-color: #00af00\">30</span>)             │        <span style=\"color: #00af00; text-decoration-color: #00af00\">17,520</span> │\n",
       "├─────────────────────────────────┼────────────────────────┼───────────────┤\n",
       "│ dropout_1 (<span style=\"color: #0087ff; text-decoration-color: #0087ff\">Dropout</span>)             │ (<span style=\"color: #00d7ff; text-decoration-color: #00d7ff\">None</span>, <span style=\"color: #00af00; text-decoration-color: #00af00\">30</span>)             │             <span style=\"color: #00af00; text-decoration-color: #00af00\">0</span> │\n",
       "├─────────────────────────────────┼────────────────────────┼───────────────┤\n",
       "│ dense_3 (<span style=\"color: #0087ff; text-decoration-color: #0087ff\">Dense</span>)                 │ (<span style=\"color: #00d7ff; text-decoration-color: #00d7ff\">None</span>, <span style=\"color: #00af00; text-decoration-color: #00af00\">1</span>)              │            <span style=\"color: #00af00; text-decoration-color: #00af00\">31</span> │\n",
       "└─────────────────────────────────┴────────────────────────┴───────────────┘\n",
       "</pre>\n"
      ],
      "text/plain": [
       "┏━━━━━━━━━━━━━━━━━━━━━━━━━━━━━━━━━┳━━━━━━━━━━━━━━━━━━━━━━━━┳━━━━━━━━━━━━━━━┓\n",
       "┃\u001b[1m \u001b[0m\u001b[1mLayer (type)                   \u001b[0m\u001b[1m \u001b[0m┃\u001b[1m \u001b[0m\u001b[1mOutput Shape          \u001b[0m\u001b[1m \u001b[0m┃\u001b[1m \u001b[0m\u001b[1m      Param #\u001b[0m\u001b[1m \u001b[0m┃\n",
       "┡━━━━━━━━━━━━━━━━━━━━━━━━━━━━━━━━━╇━━━━━━━━━━━━━━━━━━━━━━━━╇━━━━━━━━━━━━━━━┩\n",
       "│ conv2d_2 (\u001b[38;5;33mConv2D\u001b[0m)               │ (\u001b[38;5;45mNone\u001b[0m, \u001b[38;5;34m3\u001b[0m, \u001b[38;5;34m23\u001b[0m, \u001b[38;5;34m95\u001b[0m)      │           \u001b[38;5;34m950\u001b[0m │\n",
       "├─────────────────────────────────┼────────────────────────┼───────────────┤\n",
       "│ max_pooling2d_2 (\u001b[38;5;33mMaxPooling2D\u001b[0m)  │ (\u001b[38;5;45mNone\u001b[0m, \u001b[38;5;34m1\u001b[0m, \u001b[38;5;34m8\u001b[0m, \u001b[38;5;34m95\u001b[0m)       │             \u001b[38;5;34m0\u001b[0m │\n",
       "├─────────────────────────────────┼────────────────────────┼───────────────┤\n",
       "│ conv2d_3 (\u001b[38;5;33mConv2D\u001b[0m)               │ (\u001b[38;5;45mNone\u001b[0m, \u001b[38;5;34m1\u001b[0m, \u001b[38;5;34m8\u001b[0m, \u001b[38;5;34m95\u001b[0m)       │        \u001b[38;5;34m81,320\u001b[0m │\n",
       "├─────────────────────────────────┼────────────────────────┼───────────────┤\n",
       "│ max_pooling2d_3 (\u001b[38;5;33mMaxPooling2D\u001b[0m)  │ (\u001b[38;5;45mNone\u001b[0m, \u001b[38;5;34m1\u001b[0m, \u001b[38;5;34m3\u001b[0m, \u001b[38;5;34m95\u001b[0m)       │             \u001b[38;5;34m0\u001b[0m │\n",
       "├─────────────────────────────────┼────────────────────────┼───────────────┤\n",
       "│ dense_2 (\u001b[38;5;33mDense\u001b[0m)                 │ (\u001b[38;5;45mNone\u001b[0m, \u001b[38;5;34m1\u001b[0m, \u001b[38;5;34m3\u001b[0m, \u001b[38;5;34m115\u001b[0m)      │        \u001b[38;5;34m11,040\u001b[0m │\n",
       "├─────────────────────────────────┼────────────────────────┼───────────────┤\n",
       "│ reshape_1 (\u001b[38;5;33mReshape\u001b[0m)             │ (\u001b[38;5;45mNone\u001b[0m, \u001b[38;5;34m3\u001b[0m, \u001b[38;5;34m115\u001b[0m)         │             \u001b[38;5;34m0\u001b[0m │\n",
       "├─────────────────────────────────┼────────────────────────┼───────────────┤\n",
       "│ lstm_1 (\u001b[38;5;33mLSTM\u001b[0m)                   │ (\u001b[38;5;45mNone\u001b[0m, \u001b[38;5;34m30\u001b[0m)             │        \u001b[38;5;34m17,520\u001b[0m │\n",
       "├─────────────────────────────────┼────────────────────────┼───────────────┤\n",
       "│ dropout_1 (\u001b[38;5;33mDropout\u001b[0m)             │ (\u001b[38;5;45mNone\u001b[0m, \u001b[38;5;34m30\u001b[0m)             │             \u001b[38;5;34m0\u001b[0m │\n",
       "├─────────────────────────────────┼────────────────────────┼───────────────┤\n",
       "│ dense_3 (\u001b[38;5;33mDense\u001b[0m)                 │ (\u001b[38;5;45mNone\u001b[0m, \u001b[38;5;34m1\u001b[0m)              │            \u001b[38;5;34m31\u001b[0m │\n",
       "└─────────────────────────────────┴────────────────────────┴───────────────┘\n"
      ]
     },
     "metadata": {},
     "output_type": "display_data"
    },
    {
     "data": {
      "text/html": [
       "<pre style=\"white-space:pre;overflow-x:auto;line-height:normal;font-family:Menlo,'DejaVu Sans Mono',consolas,'Courier New',monospace\"><span style=\"font-weight: bold\"> Total params: </span><span style=\"color: #00af00; text-decoration-color: #00af00\">110,861</span> (433.05 KB)\n",
       "</pre>\n"
      ],
      "text/plain": [
       "\u001b[1m Total params: \u001b[0m\u001b[38;5;34m110,861\u001b[0m (433.05 KB)\n"
      ]
     },
     "metadata": {},
     "output_type": "display_data"
    },
    {
     "data": {
      "text/html": [
       "<pre style=\"white-space:pre;overflow-x:auto;line-height:normal;font-family:Menlo,'DejaVu Sans Mono',consolas,'Courier New',monospace\"><span style=\"font-weight: bold\"> Trainable params: </span><span style=\"color: #00af00; text-decoration-color: #00af00\">110,861</span> (433.05 KB)\n",
       "</pre>\n"
      ],
      "text/plain": [
       "\u001b[1m Trainable params: \u001b[0m\u001b[38;5;34m110,861\u001b[0m (433.05 KB)\n"
      ]
     },
     "metadata": {},
     "output_type": "display_data"
    },
    {
     "data": {
      "text/html": [
       "<pre style=\"white-space:pre;overflow-x:auto;line-height:normal;font-family:Menlo,'DejaVu Sans Mono',consolas,'Courier New',monospace\"><span style=\"font-weight: bold\"> Non-trainable params: </span><span style=\"color: #00af00; text-decoration-color: #00af00\">0</span> (0.00 B)\n",
       "</pre>\n"
      ],
      "text/plain": [
       "\u001b[1m Non-trainable params: \u001b[0m\u001b[38;5;34m0\u001b[0m (0.00 B)\n"
      ]
     },
     "metadata": {},
     "output_type": "display_data"
    },
    {
     "name": "stdout",
     "output_type": "stream",
     "text": [
      "None\n"
     ]
    }
   ],
   "source": [
    "import pandas as pd\n",
    "import numpy as np\n",
    "import matplotlib.pyplot as plt\n",
    "from tensorflow.keras.models import Sequential\n",
    "from tensorflow.keras.layers import LSTM, Dense, Dropout, BatchNormalization, Flatten\n",
    "from sklearn.preprocessing import MinMaxScaler\n",
    "import tensorflow as tf\n",
    "from sklearn.metrics import accuracy_score, f1_score, precision_score, recall_score\n",
    "from tensorflow.keras.callbacks import EarlyStopping\n",
    "from keras_tuner import RandomSearch\n",
    "from tensorflow import keras\n",
    "from keras.layers import Conv2D, MaxPooling2D, Reshape\n",
    "from keras.optimizers import Adam\n",
    "import keras\n",
    "import random\n",
    "\n",
    "# Load the data\n",
    "data = pd.read_csv('/Users/thomas/Documents/GitHub/CNN-LSTM/Models_v2/Final_df/BTC_FINAL_df_class.csv')\n",
    "\n",
    "\n",
    "# MAke the date the index\n",
    "data.set_index('Date', inplace=True)\n",
    "\n",
    "seed_value = 12\n",
    "tf.random.set_seed(seed_value)\n",
    "np.random.seed(seed_value)\n",
    "random.seed(seed_value)\n",
    "\n",
    "# Normalize the data\n",
    "# List of columns to scale\n",
    "columns_to_scale = ['Open', 'High', 'Low','Close', 'Volume', 'RSI', 'ATR', 'MACD', 'MFI',\n",
    "                    'EMA', 'SMA', 'OBV', 'GTrends_Interest', 'Sentiment_Bullish',\n",
    "                    'Price_oil', 'Price_gold', 'Price_NASDAQ', 'Price_SP500', 'Price_NYSE',\n",
    "                    'Interest_Rate', 'hash_rate', 'users']\n",
    "\n",
    "# Initialize the scaler\n",
    "scaler = MinMaxScaler(feature_range=(0, 1))\n",
    "\n",
    "# Scale the selected columns\n",
    "data[columns_to_scale] = scaler.fit_transform(data[columns_to_scale])\n",
    "\n",
    "# Train and test data\n",
    "training_size = int(len(data) * 0.9)\n",
    "training_data = data[:training_size]\n",
    "test_data = data[training_size:]\n",
    "\n",
    "train_data = training_data[:int(len(training_data) * 0.9)]\n",
    "val_data = training_data[int(len(training_data) * 0.9):]\n",
    "\n",
    "\n",
    "# Define the function to create the dataset\n",
    "def create_dataset(data, window_size, target_index):\n",
    "    X, y = [], []\n",
    "    for i in range(len(data) - window_size):\n",
    "        X.append(data.iloc[i:(i + window_size)].values)  \n",
    "        y.append(data.iloc[i + window_size, target_index])\n",
    "    return np.array(X), np.array(y)\n",
    "\n",
    "# Forecast Horizon\n",
    "window_size = 3\n",
    "\n",
    "# Target index ('Close')\n",
    "close_index = 22\n",
    "\n",
    "# Create the dataset\n",
    "X_train, y_train = create_dataset(train_data, window_size, close_index)\n",
    "X_test, y_test = create_dataset(test_data, window_size, close_index)\n",
    "X_val, y_val = create_dataset(val_data, window_size, close_index)\n",
    "X_train_full, y_train_full = create_dataset(training_data, window_size, close_index)\n",
    "\n",
    "# Reshape the data\n",
    "X_train = X_train.reshape((X_train.shape[0], window_size, X_train.shape[2], 1))\n",
    "X_test = X_test.reshape((X_test.shape[0], window_size, X_test.shape[2], 1))\n",
    "X_val = X_val.reshape((X_val.shape[0], window_size, X_val.shape[2], 1))\n",
    "X_train_full = X_train_full.reshape((X_train_full.shape[0], window_size, X_train_full.shape[2], 1))\n",
    "\n",
    "def build_model(hp):\n",
    "    model = Sequential()\n",
    "    filters = hp.Int('filters', min_value=95, max_value=95, step=5)\n",
    "    pool = hp.Choice('pool_size', values=[2, 3])\n",
    "    model.add(Conv2D(\n",
    "        filters=filters,\n",
    "        kernel_size=3,\n",
    "        activation='relu',\n",
    "        input_shape=(X_train.shape[1], X_train.shape[2], 1),\n",
    "        padding='same'\n",
    "    ))\n",
    "    \n",
    "    model.add(MaxPooling2D(pool_size=pool, padding='same'))\n",
    "\n",
    "    model.add(Conv2D(\n",
    "        filters=filters,\n",
    "        kernel_size=3,\n",
    "        activation='relu',\n",
    "        padding='same'\n",
    "    ))\n",
    "    \n",
    "    model.add(MaxPooling2D(pool_size=pool, padding='same'))\n",
    "  \n",
    "    model.add(Dense(\n",
    "        hp.Int('dense_units', min_value=115, max_value=115, step=5),\n",
    "        activation='relu'))\n",
    "    \n",
    "\n",
    "    x,y = model.output_shape[2], model.output_shape[3]\n",
    "\n",
    "    model.add(Reshape((x, y)))\n",
    "\n",
    "    model.add(LSTM(\n",
    "        units=hp.Int('lstm_units', min_value=30, max_value=30, step=10),\n",
    "        activation='relu',\n",
    "    ))\n",
    "    model.add(Dropout(rate=hp.Float('dropout_2', min_value=0.1, max_value=0.5, step=0.1)))\n",
    "    model.add(Dense(units=1, activation='sigmoid'))\n",
    "    \n",
    "    model.compile(optimizer=Adam(hp.Choice('learning_rate', values=[1e-2, 1e-3, 1e-4])),\n",
    "                loss='binary_crossentropy',\n",
    "                metrics=['accuracy'])\n",
    "\n",
    "    return model\n",
    "\n",
    "# Try 1: CNNLSTM-3D-CLASS-2 best\n",
    "#TRY 2: CNNLSTM-3D-CLASS-3\n",
    "\n",
    "\n",
    "# Instantiate the tuner\n",
    "tuner = RandomSearch(\n",
    "    build_model,\n",
    "    objective='val_accuracy', \n",
    "    max_trials=200,\n",
    "    executions_per_trial=1,\n",
    "    directory='my_dir',\n",
    "    project_name='CNNLSTM-3D-CLASS-2v2',\n",
    "    overwrite=True\n",
    ")\n",
    "\n",
    "\n",
    "# Configure EarlyStopping\n",
    "early_stopping = EarlyStopping(\n",
    "    monitor='val_accuracy',   \n",
    "    patience=15,          \n",
    "    restore_best_weights=True  \n",
    ")\n",
    "\n",
    "# Execute the search with EarlyStopping\n",
    "tuner.search(\n",
    "    X_train, y_train,  \n",
    "    epochs=100,\n",
    "    batch_size=32,\n",
    "    validation_data=(X_val, y_val),  \n",
    "    verbose=2,\n",
    "    callbacks=[early_stopping]\n",
    ")\n",
    "\n",
    "# Get the best model\n",
    "best_hps = tuner.get_best_hyperparameters()[0]\n",
    "best_model = tuner.hypermodel.build(best_hps)\n",
    "\n",
    "print(best_model.summary())\n"
   ]
  },
  {
   "cell_type": "code",
   "execution_count": 2,
   "metadata": {},
   "outputs": [
    {
     "name": "stdout",
     "output_type": "stream",
     "text": [
      "iteration:  0\n",
      "\u001b[1m11/11\u001b[0m \u001b[32m━━━━━━━━━━━━━━━━━━━━\u001b[0m\u001b[37m\u001b[0m \u001b[1m0s\u001b[0m 9ms/step\n",
      "iteration:  1\n"
     ]
    },
    {
     "name": "stderr",
     "output_type": "stream",
     "text": [
      "/opt/anaconda3/lib/python3.11/site-packages/keras/src/layers/convolutional/base_conv.py:107: UserWarning: Do not pass an `input_shape`/`input_dim` argument to a layer. When using Sequential models, prefer using an `Input(shape)` object as the first layer in the model instead.\n",
      "  super().__init__(activity_regularizer=activity_regularizer, **kwargs)\n"
     ]
    },
    {
     "name": "stdout",
     "output_type": "stream",
     "text": [
      "\u001b[1m11/11\u001b[0m \u001b[32m━━━━━━━━━━━━━━━━━━━━\u001b[0m\u001b[37m\u001b[0m \u001b[1m0s\u001b[0m 9ms/step\n",
      "iteration:  2\n"
     ]
    },
    {
     "name": "stderr",
     "output_type": "stream",
     "text": [
      "/opt/anaconda3/lib/python3.11/site-packages/keras/src/layers/convolutional/base_conv.py:107: UserWarning: Do not pass an `input_shape`/`input_dim` argument to a layer. When using Sequential models, prefer using an `Input(shape)` object as the first layer in the model instead.\n",
      "  super().__init__(activity_regularizer=activity_regularizer, **kwargs)\n"
     ]
    },
    {
     "name": "stdout",
     "output_type": "stream",
     "text": [
      "\u001b[1m11/11\u001b[0m \u001b[32m━━━━━━━━━━━━━━━━━━━━\u001b[0m\u001b[37m\u001b[0m \u001b[1m0s\u001b[0m 9ms/step\n",
      "iteration:  3\n"
     ]
    },
    {
     "name": "stderr",
     "output_type": "stream",
     "text": [
      "/opt/anaconda3/lib/python3.11/site-packages/keras/src/layers/convolutional/base_conv.py:107: UserWarning: Do not pass an `input_shape`/`input_dim` argument to a layer. When using Sequential models, prefer using an `Input(shape)` object as the first layer in the model instead.\n",
      "  super().__init__(activity_regularizer=activity_regularizer, **kwargs)\n"
     ]
    },
    {
     "name": "stdout",
     "output_type": "stream",
     "text": [
      "\u001b[1m11/11\u001b[0m \u001b[32m━━━━━━━━━━━━━━━━━━━━\u001b[0m\u001b[37m\u001b[0m \u001b[1m0s\u001b[0m 9ms/step\n",
      "iteration:  4\n"
     ]
    },
    {
     "name": "stderr",
     "output_type": "stream",
     "text": [
      "/opt/anaconda3/lib/python3.11/site-packages/keras/src/layers/convolutional/base_conv.py:107: UserWarning: Do not pass an `input_shape`/`input_dim` argument to a layer. When using Sequential models, prefer using an `Input(shape)` object as the first layer in the model instead.\n",
      "  super().__init__(activity_regularizer=activity_regularizer, **kwargs)\n"
     ]
    },
    {
     "name": "stdout",
     "output_type": "stream",
     "text": [
      "\u001b[1m11/11\u001b[0m \u001b[32m━━━━━━━━━━━━━━━━━━━━\u001b[0m\u001b[37m\u001b[0m \u001b[1m0s\u001b[0m 17ms/step\n",
      "iteration:  5\n"
     ]
    },
    {
     "name": "stderr",
     "output_type": "stream",
     "text": [
      "/opt/anaconda3/lib/python3.11/site-packages/keras/src/layers/convolutional/base_conv.py:107: UserWarning: Do not pass an `input_shape`/`input_dim` argument to a layer. When using Sequential models, prefer using an `Input(shape)` object as the first layer in the model instead.\n",
      "  super().__init__(activity_regularizer=activity_regularizer, **kwargs)\n"
     ]
    },
    {
     "name": "stdout",
     "output_type": "stream",
     "text": [
      "\u001b[1m11/11\u001b[0m \u001b[32m━━━━━━━━━━━━━━━━━━━━\u001b[0m\u001b[37m\u001b[0m \u001b[1m0s\u001b[0m 11ms/step\n",
      "iteration:  6\n"
     ]
    },
    {
     "name": "stderr",
     "output_type": "stream",
     "text": [
      "/opt/anaconda3/lib/python3.11/site-packages/keras/src/layers/convolutional/base_conv.py:107: UserWarning: Do not pass an `input_shape`/`input_dim` argument to a layer. When using Sequential models, prefer using an `Input(shape)` object as the first layer in the model instead.\n",
      "  super().__init__(activity_regularizer=activity_regularizer, **kwargs)\n"
     ]
    },
    {
     "name": "stdout",
     "output_type": "stream",
     "text": [
      "\u001b[1m11/11\u001b[0m \u001b[32m━━━━━━━━━━━━━━━━━━━━\u001b[0m\u001b[37m\u001b[0m \u001b[1m0s\u001b[0m 11ms/step\n",
      "iteration:  7\n"
     ]
    },
    {
     "name": "stderr",
     "output_type": "stream",
     "text": [
      "/opt/anaconda3/lib/python3.11/site-packages/keras/src/layers/convolutional/base_conv.py:107: UserWarning: Do not pass an `input_shape`/`input_dim` argument to a layer. When using Sequential models, prefer using an `Input(shape)` object as the first layer in the model instead.\n",
      "  super().__init__(activity_regularizer=activity_regularizer, **kwargs)\n"
     ]
    },
    {
     "name": "stdout",
     "output_type": "stream",
     "text": [
      "\u001b[1m11/11\u001b[0m \u001b[32m━━━━━━━━━━━━━━━━━━━━\u001b[0m\u001b[37m\u001b[0m \u001b[1m0s\u001b[0m 11ms/step\n",
      "iteration:  8\n"
     ]
    },
    {
     "name": "stderr",
     "output_type": "stream",
     "text": [
      "/opt/anaconda3/lib/python3.11/site-packages/keras/src/layers/convolutional/base_conv.py:107: UserWarning: Do not pass an `input_shape`/`input_dim` argument to a layer. When using Sequential models, prefer using an `Input(shape)` object as the first layer in the model instead.\n",
      "  super().__init__(activity_regularizer=activity_regularizer, **kwargs)\n"
     ]
    },
    {
     "name": "stdout",
     "output_type": "stream",
     "text": [
      "\u001b[1m11/11\u001b[0m \u001b[32m━━━━━━━━━━━━━━━━━━━━\u001b[0m\u001b[37m\u001b[0m \u001b[1m0s\u001b[0m 10ms/step\n",
      "iteration:  9\n"
     ]
    },
    {
     "name": "stderr",
     "output_type": "stream",
     "text": [
      "/opt/anaconda3/lib/python3.11/site-packages/keras/src/layers/convolutional/base_conv.py:107: UserWarning: Do not pass an `input_shape`/`input_dim` argument to a layer. When using Sequential models, prefer using an `Input(shape)` object as the first layer in the model instead.\n",
      "  super().__init__(activity_regularizer=activity_regularizer, **kwargs)\n"
     ]
    },
    {
     "name": "stdout",
     "output_type": "stream",
     "text": [
      "\u001b[1m11/11\u001b[0m \u001b[32m━━━━━━━━━━━━━━━━━━━━\u001b[0m\u001b[37m\u001b[0m \u001b[1m0s\u001b[0m 10ms/step\n",
      "iteration:  10\n"
     ]
    },
    {
     "name": "stderr",
     "output_type": "stream",
     "text": [
      "/opt/anaconda3/lib/python3.11/site-packages/keras/src/layers/convolutional/base_conv.py:107: UserWarning: Do not pass an `input_shape`/`input_dim` argument to a layer. When using Sequential models, prefer using an `Input(shape)` object as the first layer in the model instead.\n",
      "  super().__init__(activity_regularizer=activity_regularizer, **kwargs)\n"
     ]
    },
    {
     "name": "stdout",
     "output_type": "stream",
     "text": [
      "\u001b[1m11/11\u001b[0m \u001b[32m━━━━━━━━━━━━━━━━━━━━\u001b[0m\u001b[37m\u001b[0m \u001b[1m0s\u001b[0m 9ms/step\n",
      "iteration:  11\n"
     ]
    },
    {
     "name": "stderr",
     "output_type": "stream",
     "text": [
      "/opt/anaconda3/lib/python3.11/site-packages/keras/src/layers/convolutional/base_conv.py:107: UserWarning: Do not pass an `input_shape`/`input_dim` argument to a layer. When using Sequential models, prefer using an `Input(shape)` object as the first layer in the model instead.\n",
      "  super().__init__(activity_regularizer=activity_regularizer, **kwargs)\n"
     ]
    },
    {
     "name": "stdout",
     "output_type": "stream",
     "text": [
      "\u001b[1m11/11\u001b[0m \u001b[32m━━━━━━━━━━━━━━━━━━━━\u001b[0m\u001b[37m\u001b[0m \u001b[1m0s\u001b[0m 10ms/step\n",
      "iteration:  12\n"
     ]
    },
    {
     "name": "stderr",
     "output_type": "stream",
     "text": [
      "/opt/anaconda3/lib/python3.11/site-packages/keras/src/layers/convolutional/base_conv.py:107: UserWarning: Do not pass an `input_shape`/`input_dim` argument to a layer. When using Sequential models, prefer using an `Input(shape)` object as the first layer in the model instead.\n",
      "  super().__init__(activity_regularizer=activity_regularizer, **kwargs)\n"
     ]
    },
    {
     "name": "stdout",
     "output_type": "stream",
     "text": [
      "\u001b[1m11/11\u001b[0m \u001b[32m━━━━━━━━━━━━━━━━━━━━\u001b[0m\u001b[37m\u001b[0m \u001b[1m0s\u001b[0m 17ms/step\n",
      "iteration:  13\n"
     ]
    },
    {
     "name": "stderr",
     "output_type": "stream",
     "text": [
      "/opt/anaconda3/lib/python3.11/site-packages/keras/src/layers/convolutional/base_conv.py:107: UserWarning: Do not pass an `input_shape`/`input_dim` argument to a layer. When using Sequential models, prefer using an `Input(shape)` object as the first layer in the model instead.\n",
      "  super().__init__(activity_regularizer=activity_regularizer, **kwargs)\n"
     ]
    },
    {
     "name": "stdout",
     "output_type": "stream",
     "text": [
      "\u001b[1m11/11\u001b[0m \u001b[32m━━━━━━━━━━━━━━━━━━━━\u001b[0m\u001b[37m\u001b[0m \u001b[1m0s\u001b[0m 10ms/step\n",
      "iteration:  14\n"
     ]
    },
    {
     "name": "stderr",
     "output_type": "stream",
     "text": [
      "/opt/anaconda3/lib/python3.11/site-packages/keras/src/layers/convolutional/base_conv.py:107: UserWarning: Do not pass an `input_shape`/`input_dim` argument to a layer. When using Sequential models, prefer using an `Input(shape)` object as the first layer in the model instead.\n",
      "  super().__init__(activity_regularizer=activity_regularizer, **kwargs)\n"
     ]
    },
    {
     "name": "stdout",
     "output_type": "stream",
     "text": [
      "\u001b[1m11/11\u001b[0m \u001b[32m━━━━━━━━━━━━━━━━━━━━\u001b[0m\u001b[37m\u001b[0m \u001b[1m0s\u001b[0m 9ms/step\n",
      "iteration:  15\n"
     ]
    },
    {
     "name": "stderr",
     "output_type": "stream",
     "text": [
      "/opt/anaconda3/lib/python3.11/site-packages/keras/src/layers/convolutional/base_conv.py:107: UserWarning: Do not pass an `input_shape`/`input_dim` argument to a layer. When using Sequential models, prefer using an `Input(shape)` object as the first layer in the model instead.\n",
      "  super().__init__(activity_regularizer=activity_regularizer, **kwargs)\n"
     ]
    },
    {
     "name": "stdout",
     "output_type": "stream",
     "text": [
      "\u001b[1m11/11\u001b[0m \u001b[32m━━━━━━━━━━━━━━━━━━━━\u001b[0m\u001b[37m\u001b[0m \u001b[1m0s\u001b[0m 11ms/step\n",
      "iteration:  16\n"
     ]
    },
    {
     "name": "stderr",
     "output_type": "stream",
     "text": [
      "/opt/anaconda3/lib/python3.11/site-packages/keras/src/layers/convolutional/base_conv.py:107: UserWarning: Do not pass an `input_shape`/`input_dim` argument to a layer. When using Sequential models, prefer using an `Input(shape)` object as the first layer in the model instead.\n",
      "  super().__init__(activity_regularizer=activity_regularizer, **kwargs)\n"
     ]
    },
    {
     "name": "stdout",
     "output_type": "stream",
     "text": [
      "\u001b[1m11/11\u001b[0m \u001b[32m━━━━━━━━━━━━━━━━━━━━\u001b[0m\u001b[37m\u001b[0m \u001b[1m0s\u001b[0m 9ms/step\n",
      "iteration:  17\n"
     ]
    },
    {
     "name": "stderr",
     "output_type": "stream",
     "text": [
      "/opt/anaconda3/lib/python3.11/site-packages/keras/src/layers/convolutional/base_conv.py:107: UserWarning: Do not pass an `input_shape`/`input_dim` argument to a layer. When using Sequential models, prefer using an `Input(shape)` object as the first layer in the model instead.\n",
      "  super().__init__(activity_regularizer=activity_regularizer, **kwargs)\n"
     ]
    },
    {
     "name": "stdout",
     "output_type": "stream",
     "text": [
      "\u001b[1m11/11\u001b[0m \u001b[32m━━━━━━━━━━━━━━━━━━━━\u001b[0m\u001b[37m\u001b[0m \u001b[1m0s\u001b[0m 9ms/step\n",
      "iteration:  18\n"
     ]
    },
    {
     "name": "stderr",
     "output_type": "stream",
     "text": [
      "/opt/anaconda3/lib/python3.11/site-packages/keras/src/layers/convolutional/base_conv.py:107: UserWarning: Do not pass an `input_shape`/`input_dim` argument to a layer. When using Sequential models, prefer using an `Input(shape)` object as the first layer in the model instead.\n",
      "  super().__init__(activity_regularizer=activity_regularizer, **kwargs)\n"
     ]
    },
    {
     "name": "stdout",
     "output_type": "stream",
     "text": [
      "\u001b[1m11/11\u001b[0m \u001b[32m━━━━━━━━━━━━━━━━━━━━\u001b[0m\u001b[37m\u001b[0m \u001b[1m0s\u001b[0m 11ms/step\n",
      "iteration:  19\n"
     ]
    },
    {
     "name": "stderr",
     "output_type": "stream",
     "text": [
      "/opt/anaconda3/lib/python3.11/site-packages/keras/src/layers/convolutional/base_conv.py:107: UserWarning: Do not pass an `input_shape`/`input_dim` argument to a layer. When using Sequential models, prefer using an `Input(shape)` object as the first layer in the model instead.\n",
      "  super().__init__(activity_regularizer=activity_regularizer, **kwargs)\n"
     ]
    },
    {
     "name": "stdout",
     "output_type": "stream",
     "text": [
      "\u001b[1m11/11\u001b[0m \u001b[32m━━━━━━━━━━━━━━━━━━━━\u001b[0m\u001b[37m\u001b[0m \u001b[1m0s\u001b[0m 11ms/step\n",
      "iteration:  20\n"
     ]
    },
    {
     "name": "stderr",
     "output_type": "stream",
     "text": [
      "/opt/anaconda3/lib/python3.11/site-packages/keras/src/layers/convolutional/base_conv.py:107: UserWarning: Do not pass an `input_shape`/`input_dim` argument to a layer. When using Sequential models, prefer using an `Input(shape)` object as the first layer in the model instead.\n",
      "  super().__init__(activity_regularizer=activity_regularizer, **kwargs)\n"
     ]
    },
    {
     "name": "stdout",
     "output_type": "stream",
     "text": [
      "\u001b[1m11/11\u001b[0m \u001b[32m━━━━━━━━━━━━━━━━━━━━\u001b[0m\u001b[37m\u001b[0m \u001b[1m0s\u001b[0m 11ms/step\n",
      "iteration:  21\n"
     ]
    },
    {
     "name": "stderr",
     "output_type": "stream",
     "text": [
      "/opt/anaconda3/lib/python3.11/site-packages/keras/src/layers/convolutional/base_conv.py:107: UserWarning: Do not pass an `input_shape`/`input_dim` argument to a layer. When using Sequential models, prefer using an `Input(shape)` object as the first layer in the model instead.\n",
      "  super().__init__(activity_regularizer=activity_regularizer, **kwargs)\n"
     ]
    },
    {
     "name": "stdout",
     "output_type": "stream",
     "text": [
      "\u001b[1m11/11\u001b[0m \u001b[32m━━━━━━━━━━━━━━━━━━━━\u001b[0m\u001b[37m\u001b[0m \u001b[1m0s\u001b[0m 10ms/step\n",
      "iteration:  22\n"
     ]
    },
    {
     "name": "stderr",
     "output_type": "stream",
     "text": [
      "/opt/anaconda3/lib/python3.11/site-packages/keras/src/layers/convolutional/base_conv.py:107: UserWarning: Do not pass an `input_shape`/`input_dim` argument to a layer. When using Sequential models, prefer using an `Input(shape)` object as the first layer in the model instead.\n",
      "  super().__init__(activity_regularizer=activity_regularizer, **kwargs)\n"
     ]
    },
    {
     "name": "stdout",
     "output_type": "stream",
     "text": [
      "\u001b[1m11/11\u001b[0m \u001b[32m━━━━━━━━━━━━━━━━━━━━\u001b[0m\u001b[37m\u001b[0m \u001b[1m0s\u001b[0m 10ms/step\n",
      "iteration:  23\n"
     ]
    },
    {
     "name": "stderr",
     "output_type": "stream",
     "text": [
      "/opt/anaconda3/lib/python3.11/site-packages/keras/src/layers/convolutional/base_conv.py:107: UserWarning: Do not pass an `input_shape`/`input_dim` argument to a layer. When using Sequential models, prefer using an `Input(shape)` object as the first layer in the model instead.\n",
      "  super().__init__(activity_regularizer=activity_regularizer, **kwargs)\n"
     ]
    },
    {
     "name": "stdout",
     "output_type": "stream",
     "text": [
      "\u001b[1m11/11\u001b[0m \u001b[32m━━━━━━━━━━━━━━━━━━━━\u001b[0m\u001b[37m\u001b[0m \u001b[1m0s\u001b[0m 13ms/step\n",
      "iteration:  24\n"
     ]
    },
    {
     "name": "stderr",
     "output_type": "stream",
     "text": [
      "/opt/anaconda3/lib/python3.11/site-packages/keras/src/layers/convolutional/base_conv.py:107: UserWarning: Do not pass an `input_shape`/`input_dim` argument to a layer. When using Sequential models, prefer using an `Input(shape)` object as the first layer in the model instead.\n",
      "  super().__init__(activity_regularizer=activity_regularizer, **kwargs)\n"
     ]
    },
    {
     "name": "stdout",
     "output_type": "stream",
     "text": [
      "\u001b[1m11/11\u001b[0m \u001b[32m━━━━━━━━━━━━━━━━━━━━\u001b[0m\u001b[37m\u001b[0m \u001b[1m0s\u001b[0m 9ms/step\n",
      "iteration:  25\n"
     ]
    },
    {
     "name": "stderr",
     "output_type": "stream",
     "text": [
      "/opt/anaconda3/lib/python3.11/site-packages/keras/src/layers/convolutional/base_conv.py:107: UserWarning: Do not pass an `input_shape`/`input_dim` argument to a layer. When using Sequential models, prefer using an `Input(shape)` object as the first layer in the model instead.\n",
      "  super().__init__(activity_regularizer=activity_regularizer, **kwargs)\n"
     ]
    },
    {
     "name": "stdout",
     "output_type": "stream",
     "text": [
      "\u001b[1m11/11\u001b[0m \u001b[32m━━━━━━━━━━━━━━━━━━━━\u001b[0m\u001b[37m\u001b[0m \u001b[1m0s\u001b[0m 12ms/step\n",
      "iteration:  26\n"
     ]
    },
    {
     "name": "stderr",
     "output_type": "stream",
     "text": [
      "/opt/anaconda3/lib/python3.11/site-packages/keras/src/layers/convolutional/base_conv.py:107: UserWarning: Do not pass an `input_shape`/`input_dim` argument to a layer. When using Sequential models, prefer using an `Input(shape)` object as the first layer in the model instead.\n",
      "  super().__init__(activity_regularizer=activity_regularizer, **kwargs)\n"
     ]
    },
    {
     "name": "stdout",
     "output_type": "stream",
     "text": [
      "\u001b[1m11/11\u001b[0m \u001b[32m━━━━━━━━━━━━━━━━━━━━\u001b[0m\u001b[37m\u001b[0m \u001b[1m0s\u001b[0m 10ms/step\n",
      "iteration:  27\n"
     ]
    },
    {
     "name": "stderr",
     "output_type": "stream",
     "text": [
      "/opt/anaconda3/lib/python3.11/site-packages/keras/src/layers/convolutional/base_conv.py:107: UserWarning: Do not pass an `input_shape`/`input_dim` argument to a layer. When using Sequential models, prefer using an `Input(shape)` object as the first layer in the model instead.\n",
      "  super().__init__(activity_regularizer=activity_regularizer, **kwargs)\n"
     ]
    },
    {
     "name": "stdout",
     "output_type": "stream",
     "text": [
      "\u001b[1m11/11\u001b[0m \u001b[32m━━━━━━━━━━━━━━━━━━━━\u001b[0m\u001b[37m\u001b[0m \u001b[1m0s\u001b[0m 9ms/step\n",
      "iteration:  28\n"
     ]
    },
    {
     "name": "stderr",
     "output_type": "stream",
     "text": [
      "/opt/anaconda3/lib/python3.11/site-packages/keras/src/layers/convolutional/base_conv.py:107: UserWarning: Do not pass an `input_shape`/`input_dim` argument to a layer. When using Sequential models, prefer using an `Input(shape)` object as the first layer in the model instead.\n",
      "  super().__init__(activity_regularizer=activity_regularizer, **kwargs)\n"
     ]
    },
    {
     "name": "stdout",
     "output_type": "stream",
     "text": [
      "\u001b[1m11/11\u001b[0m \u001b[32m━━━━━━━━━━━━━━━━━━━━\u001b[0m\u001b[37m\u001b[0m \u001b[1m0s\u001b[0m 10ms/step\n",
      "iteration:  29\n"
     ]
    },
    {
     "name": "stderr",
     "output_type": "stream",
     "text": [
      "/opt/anaconda3/lib/python3.11/site-packages/keras/src/layers/convolutional/base_conv.py:107: UserWarning: Do not pass an `input_shape`/`input_dim` argument to a layer. When using Sequential models, prefer using an `Input(shape)` object as the first layer in the model instead.\n",
      "  super().__init__(activity_regularizer=activity_regularizer, **kwargs)\n"
     ]
    },
    {
     "name": "stdout",
     "output_type": "stream",
     "text": [
      "\u001b[1m11/11\u001b[0m \u001b[32m━━━━━━━━━━━━━━━━━━━━\u001b[0m\u001b[37m\u001b[0m \u001b[1m0s\u001b[0m 10ms/step\n",
      "Accuracy: 0.5072463768115943\n",
      "F1: 0.5256963190118714\n",
      "Precision: 0.5125235847836358\n",
      "Recall: 0.6371428571428572\n"
     ]
    }
   ],
   "source": [
    "# Fit the model n times and averages the metrics\n",
    "n = 30\n",
    "accuracy_list = []\n",
    "f1_list = []\n",
    "precision_list = []\n",
    "recall_list = []\n",
    "\n",
    "for _ in range(n):\n",
    "    best_hps = tuner.get_best_hyperparameters()[0]\n",
    "    best_model = tuner.hypermodel.build(best_hps)\n",
    "    print(\"iteration: \", _)\n",
    "    history = best_model.fit(\n",
    "        X_train_full, y_train_full,\n",
    "        epochs=250,\n",
    "        batch_size=32,\n",
    "        verbose=0\n",
    "    )\n",
    "    predictions = best_model.predict(X_test)\n",
    "    test_pred = (predictions > 0.5).astype(int)\n",
    "\n",
    "    accuracy = accuracy_score(y_test, test_pred)\n",
    "    f1 = f1_score(y_test, test_pred)\n",
    "    precision = precision_score(y_test, test_pred)\n",
    "    recall = recall_score(y_test, test_pred)\n",
    "\n",
    "    accuracy_list.append(accuracy)\n",
    "    f1_list.append(f1)\n",
    "    precision_list.append(precision)\n",
    "    recall_list.append(recall)\n",
    "\n",
    "# Calculate the average metrics\n",
    "average_accuracy = np.mean(accuracy_list)\n",
    "average_f1 = np.mean(f1_list)\n",
    "average_precision = np.mean(precision_list)\n",
    "average_recall = np.mean(recall_list)\n",
    "    \n",
    "# Print the average metrics\n",
    "print('Accuracy:', average_accuracy)\n",
    "print('F1:', average_f1)\n",
    "print('Precision:', average_precision)\n",
    "print('Recall:', average_recall)"
   ]
  },
  {
   "cell_type": "code",
   "execution_count": 9,
   "metadata": {},
   "outputs": [
    {
     "name": "stderr",
     "output_type": "stream",
     "text": [
      "/opt/anaconda3/lib/python3.11/site-packages/keras/src/layers/convolutional/base_conv.py:107: UserWarning: Do not pass an `input_shape`/`input_dim` argument to a layer. When using Sequential models, prefer using an `Input(shape)` object as the first layer in the model instead.\n",
      "  super().__init__(activity_regularizer=activity_regularizer, **kwargs)\n"
     ]
    },
    {
     "name": "stdout",
     "output_type": "stream",
     "text": [
      "Epoch 1/250\n",
      "98/98 - 2s - 17ms/step - accuracy: 0.5278 - loss: 0.6927\n",
      "Epoch 2/250\n",
      "98/98 - 0s - 3ms/step - accuracy: 0.5278 - loss: 0.6921\n",
      "Epoch 3/250\n",
      "98/98 - 0s - 4ms/step - accuracy: 0.5278 - loss: 0.6916\n",
      "Epoch 4/250\n",
      "98/98 - 0s - 4ms/step - accuracy: 0.5278 - loss: 0.6916\n",
      "Epoch 5/250\n",
      "98/98 - 0s - 3ms/step - accuracy: 0.5278 - loss: 0.6910\n",
      "Epoch 6/250\n",
      "98/98 - 0s - 4ms/step - accuracy: 0.5278 - loss: 0.6912\n",
      "Epoch 7/250\n",
      "98/98 - 0s - 4ms/step - accuracy: 0.5304 - loss: 0.6905\n",
      "Epoch 8/250\n",
      "98/98 - 0s - 3ms/step - accuracy: 0.5329 - loss: 0.6901\n",
      "Epoch 9/250\n",
      "98/98 - 0s - 4ms/step - accuracy: 0.5371 - loss: 0.6895\n",
      "Epoch 10/250\n",
      "98/98 - 0s - 3ms/step - accuracy: 0.5390 - loss: 0.6896\n",
      "Epoch 11/250\n",
      "98/98 - 0s - 3ms/step - accuracy: 0.5332 - loss: 0.6885\n",
      "Epoch 12/250\n",
      "98/98 - 0s - 3ms/step - accuracy: 0.5419 - loss: 0.6895\n",
      "Epoch 13/250\n",
      "98/98 - 0s - 3ms/step - accuracy: 0.5451 - loss: 0.6878\n",
      "Epoch 14/250\n",
      "98/98 - 0s - 3ms/step - accuracy: 0.5438 - loss: 0.6873\n",
      "Epoch 15/250\n",
      "98/98 - 0s - 4ms/step - accuracy: 0.5492 - loss: 0.6867\n",
      "Epoch 16/250\n",
      "98/98 - 0s - 3ms/step - accuracy: 0.5486 - loss: 0.6866\n",
      "Epoch 17/250\n",
      "98/98 - 0s - 3ms/step - accuracy: 0.5556 - loss: 0.6866\n",
      "Epoch 18/250\n",
      "98/98 - 0s - 3ms/step - accuracy: 0.5572 - loss: 0.6859\n",
      "Epoch 19/250\n",
      "98/98 - 0s - 3ms/step - accuracy: 0.5505 - loss: 0.6858\n",
      "Epoch 20/250\n",
      "98/98 - 0s - 3ms/step - accuracy: 0.5582 - loss: 0.6855\n",
      "Epoch 21/250\n",
      "98/98 - 0s - 3ms/step - accuracy: 0.5556 - loss: 0.6850\n",
      "Epoch 22/250\n",
      "98/98 - 0s - 3ms/step - accuracy: 0.5595 - loss: 0.6846\n",
      "Epoch 23/250\n",
      "98/98 - 0s - 3ms/step - accuracy: 0.5550 - loss: 0.6838\n",
      "Epoch 24/250\n",
      "98/98 - 0s - 3ms/step - accuracy: 0.5623 - loss: 0.6842\n",
      "Epoch 25/250\n",
      "98/98 - 0s - 3ms/step - accuracy: 0.5550 - loss: 0.6838\n",
      "Epoch 26/250\n",
      "98/98 - 0s - 3ms/step - accuracy: 0.5550 - loss: 0.6842\n",
      "Epoch 27/250\n",
      "98/98 - 0s - 3ms/step - accuracy: 0.5627 - loss: 0.6825\n",
      "Epoch 28/250\n",
      "98/98 - 0s - 3ms/step - accuracy: 0.5559 - loss: 0.6825\n",
      "Epoch 29/250\n",
      "98/98 - 0s - 3ms/step - accuracy: 0.5579 - loss: 0.6835\n",
      "Epoch 30/250\n",
      "98/98 - 0s - 3ms/step - accuracy: 0.5607 - loss: 0.6824\n",
      "Epoch 31/250\n",
      "98/98 - 0s - 4ms/step - accuracy: 0.5579 - loss: 0.6823\n",
      "Epoch 32/250\n",
      "98/98 - 0s - 3ms/step - accuracy: 0.5659 - loss: 0.6824\n",
      "Epoch 33/250\n",
      "98/98 - 0s - 4ms/step - accuracy: 0.5627 - loss: 0.6816\n",
      "Epoch 34/250\n",
      "98/98 - 0s - 4ms/step - accuracy: 0.5675 - loss: 0.6803\n",
      "Epoch 35/250\n",
      "98/98 - 0s - 4ms/step - accuracy: 0.5665 - loss: 0.6812\n",
      "Epoch 36/250\n",
      "98/98 - 0s - 3ms/step - accuracy: 0.5646 - loss: 0.6817\n",
      "Epoch 37/250\n",
      "98/98 - 0s - 3ms/step - accuracy: 0.5652 - loss: 0.6801\n",
      "Epoch 38/250\n",
      "98/98 - 0s - 3ms/step - accuracy: 0.5652 - loss: 0.6804\n",
      "Epoch 39/250\n",
      "98/98 - 0s - 4ms/step - accuracy: 0.5713 - loss: 0.6796\n",
      "Epoch 40/250\n",
      "98/98 - 0s - 3ms/step - accuracy: 0.5678 - loss: 0.6801\n",
      "Epoch 41/250\n",
      "98/98 - 0s - 3ms/step - accuracy: 0.5662 - loss: 0.6794\n",
      "Epoch 42/250\n",
      "98/98 - 0s - 3ms/step - accuracy: 0.5649 - loss: 0.6790\n",
      "Epoch 43/250\n",
      "98/98 - 0s - 4ms/step - accuracy: 0.5620 - loss: 0.6791\n",
      "Epoch 44/250\n",
      "98/98 - 0s - 4ms/step - accuracy: 0.5735 - loss: 0.6779\n",
      "Epoch 45/250\n",
      "98/98 - 0s - 4ms/step - accuracy: 0.5627 - loss: 0.6802\n",
      "Epoch 46/250\n",
      "98/98 - 0s - 3ms/step - accuracy: 0.5703 - loss: 0.6788\n",
      "Epoch 47/250\n",
      "98/98 - 0s - 3ms/step - accuracy: 0.5761 - loss: 0.6774\n",
      "Epoch 48/250\n",
      "98/98 - 0s - 4ms/step - accuracy: 0.5738 - loss: 0.6774\n",
      "Epoch 49/250\n",
      "98/98 - 0s - 4ms/step - accuracy: 0.5726 - loss: 0.6768\n",
      "Epoch 50/250\n",
      "98/98 - 0s - 4ms/step - accuracy: 0.5735 - loss: 0.6760\n",
      "Epoch 51/250\n",
      "98/98 - 0s - 4ms/step - accuracy: 0.5726 - loss: 0.6744\n",
      "Epoch 52/250\n",
      "98/98 - 0s - 4ms/step - accuracy: 0.5748 - loss: 0.6740\n",
      "Epoch 53/250\n",
      "98/98 - 0s - 4ms/step - accuracy: 0.5822 - loss: 0.6738\n",
      "Epoch 54/250\n",
      "98/98 - 0s - 3ms/step - accuracy: 0.5754 - loss: 0.6730\n",
      "Epoch 55/250\n",
      "98/98 - 0s - 4ms/step - accuracy: 0.5847 - loss: 0.6720\n",
      "Epoch 56/250\n",
      "98/98 - 0s - 3ms/step - accuracy: 0.5934 - loss: 0.6682\n",
      "Epoch 57/250\n",
      "98/98 - 0s - 3ms/step - accuracy: 0.5844 - loss: 0.6698\n",
      "Epoch 58/250\n",
      "98/98 - 0s - 3ms/step - accuracy: 0.5882 - loss: 0.6686\n",
      "Epoch 59/250\n",
      "98/98 - 0s - 3ms/step - accuracy: 0.5889 - loss: 0.6675\n",
      "Epoch 60/250\n",
      "98/98 - 0s - 3ms/step - accuracy: 0.5886 - loss: 0.6679\n",
      "Epoch 61/250\n",
      "98/98 - 0s - 3ms/step - accuracy: 0.5940 - loss: 0.6664\n",
      "Epoch 62/250\n",
      "98/98 - 0s - 3ms/step - accuracy: 0.5988 - loss: 0.6638\n",
      "Epoch 63/250\n",
      "98/98 - 0s - 3ms/step - accuracy: 0.6033 - loss: 0.6632\n",
      "Epoch 64/250\n",
      "98/98 - 0s - 3ms/step - accuracy: 0.5972 - loss: 0.6629\n",
      "Epoch 65/250\n",
      "98/98 - 0s - 4ms/step - accuracy: 0.6058 - loss: 0.6593\n",
      "Epoch 66/250\n",
      "98/98 - 0s - 4ms/step - accuracy: 0.6071 - loss: 0.6595\n",
      "Epoch 67/250\n",
      "98/98 - 0s - 3ms/step - accuracy: 0.6039 - loss: 0.6586\n",
      "Epoch 68/250\n",
      "98/98 - 0s - 4ms/step - accuracy: 0.6036 - loss: 0.6579\n",
      "Epoch 69/250\n",
      "98/98 - 0s - 4ms/step - accuracy: 0.6061 - loss: 0.6567\n",
      "Epoch 70/250\n",
      "98/98 - 0s - 3ms/step - accuracy: 0.6061 - loss: 0.6557\n",
      "Epoch 71/250\n",
      "98/98 - 0s - 4ms/step - accuracy: 0.6106 - loss: 0.6522\n",
      "Epoch 72/250\n",
      "98/98 - 0s - 4ms/step - accuracy: 0.6119 - loss: 0.6521\n",
      "Epoch 73/250\n",
      "98/98 - 0s - 3ms/step - accuracy: 0.6084 - loss: 0.6565\n",
      "Epoch 74/250\n",
      "98/98 - 0s - 3ms/step - accuracy: 0.6138 - loss: 0.6476\n",
      "Epoch 75/250\n",
      "98/98 - 0s - 3ms/step - accuracy: 0.6013 - loss: 0.6565\n",
      "Epoch 76/250\n",
      "98/98 - 0s - 3ms/step - accuracy: 0.6103 - loss: 0.6522\n",
      "Epoch 77/250\n",
      "98/98 - 0s - 3ms/step - accuracy: 0.5997 - loss: 0.6561\n",
      "Epoch 78/250\n",
      "98/98 - 0s - 3ms/step - accuracy: 0.6013 - loss: 0.6568\n",
      "Epoch 79/250\n",
      "98/98 - 0s - 3ms/step - accuracy: 0.5981 - loss: 0.6555\n",
      "Epoch 80/250\n",
      "98/98 - 0s - 3ms/step - accuracy: 0.6029 - loss: 0.6567\n",
      "Epoch 81/250\n",
      "98/98 - 0s - 3ms/step - accuracy: 0.6033 - loss: 0.6498\n",
      "Epoch 82/250\n",
      "98/98 - 0s - 3ms/step - accuracy: 0.6093 - loss: 0.6517\n",
      "Epoch 83/250\n",
      "98/98 - 0s - 4ms/step - accuracy: 0.6097 - loss: 0.6525\n",
      "Epoch 84/250\n",
      "98/98 - 0s - 4ms/step - accuracy: 0.6052 - loss: 0.6545\n",
      "Epoch 85/250\n",
      "98/98 - 0s - 4ms/step - accuracy: 0.6061 - loss: 0.6520\n",
      "Epoch 86/250\n",
      "98/98 - 0s - 4ms/step - accuracy: 0.6052 - loss: 0.6485\n",
      "Epoch 87/250\n",
      "98/98 - 0s - 4ms/step - accuracy: 0.6103 - loss: 0.6470\n",
      "Epoch 88/250\n",
      "98/98 - 0s - 4ms/step - accuracy: 0.6160 - loss: 0.6427\n",
      "Epoch 89/250\n",
      "98/98 - 0s - 3ms/step - accuracy: 0.6260 - loss: 0.6428\n",
      "Epoch 90/250\n",
      "98/98 - 0s - 4ms/step - accuracy: 0.6189 - loss: 0.6421\n",
      "Epoch 91/250\n",
      "98/98 - 0s - 3ms/step - accuracy: 0.6244 - loss: 0.6405\n",
      "Epoch 92/250\n",
      "98/98 - 0s - 4ms/step - accuracy: 0.6221 - loss: 0.6384\n",
      "Epoch 93/250\n",
      "98/98 - 0s - 4ms/step - accuracy: 0.6359 - loss: 0.6296\n",
      "Epoch 94/250\n",
      "98/98 - 0s - 3ms/step - accuracy: 0.6288 - loss: 0.6328\n",
      "Epoch 95/250\n",
      "98/98 - 0s - 4ms/step - accuracy: 0.6352 - loss: 0.6278\n",
      "Epoch 96/250\n",
      "98/98 - 0s - 3ms/step - accuracy: 0.6269 - loss: 0.6324\n",
      "Epoch 97/250\n",
      "98/98 - 0s - 4ms/step - accuracy: 0.6276 - loss: 0.6238\n",
      "Epoch 98/250\n",
      "98/98 - 0s - 3ms/step - accuracy: 0.6394 - loss: 0.6177\n",
      "Epoch 99/250\n",
      "98/98 - 0s - 3ms/step - accuracy: 0.6480 - loss: 0.6143\n",
      "Epoch 100/250\n",
      "98/98 - 0s - 4ms/step - accuracy: 0.6435 - loss: 0.6159\n",
      "Epoch 101/250\n",
      "98/98 - 0s - 3ms/step - accuracy: 0.6483 - loss: 0.6085\n",
      "Epoch 102/250\n",
      "98/98 - 0s - 3ms/step - accuracy: 0.6461 - loss: 0.6062\n",
      "Epoch 103/250\n",
      "98/98 - 0s - 3ms/step - accuracy: 0.6458 - loss: 0.6076\n",
      "Epoch 104/250\n",
      "98/98 - 0s - 4ms/step - accuracy: 0.6573 - loss: 0.6035\n",
      "Epoch 105/250\n",
      "98/98 - 0s - 3ms/step - accuracy: 0.6589 - loss: 0.5990\n",
      "Epoch 106/250\n",
      "98/98 - 0s - 3ms/step - accuracy: 0.6637 - loss: 0.5962\n",
      "Epoch 107/250\n",
      "98/98 - 0s - 3ms/step - accuracy: 0.6614 - loss: 0.5981\n",
      "Epoch 108/250\n",
      "98/98 - 0s - 3ms/step - accuracy: 0.6557 - loss: 0.5977\n",
      "Epoch 109/250\n",
      "98/98 - 0s - 3ms/step - accuracy: 0.6694 - loss: 0.5902\n",
      "Epoch 110/250\n",
      "98/98 - 0s - 3ms/step - accuracy: 0.6627 - loss: 0.5878\n",
      "Epoch 111/250\n",
      "98/98 - 0s - 4ms/step - accuracy: 0.6762 - loss: 0.5804\n",
      "Epoch 112/250\n",
      "98/98 - 0s - 4ms/step - accuracy: 0.6742 - loss: 0.5746\n",
      "Epoch 113/250\n",
      "98/98 - 0s - 4ms/step - accuracy: 0.6688 - loss: 0.5728\n",
      "Epoch 114/250\n",
      "98/98 - 0s - 3ms/step - accuracy: 0.6838 - loss: 0.5749\n",
      "Epoch 115/250\n",
      "98/98 - 0s - 3ms/step - accuracy: 0.6877 - loss: 0.5634\n",
      "Epoch 116/250\n",
      "98/98 - 0s - 3ms/step - accuracy: 0.6896 - loss: 0.5642\n",
      "Epoch 117/250\n",
      "98/98 - 0s - 4ms/step - accuracy: 0.6877 - loss: 0.5685\n",
      "Epoch 118/250\n",
      "98/98 - 0s - 3ms/step - accuracy: 0.6921 - loss: 0.5594\n",
      "Epoch 119/250\n",
      "98/98 - 0s - 3ms/step - accuracy: 0.6960 - loss: 0.5586\n",
      "Epoch 120/250\n",
      "98/98 - 0s - 3ms/step - accuracy: 0.6915 - loss: 0.5529\n",
      "Epoch 121/250\n",
      "98/98 - 0s - 3ms/step - accuracy: 0.6931 - loss: 0.5590\n",
      "Epoch 122/250\n",
      "98/98 - 0s - 3ms/step - accuracy: 0.6969 - loss: 0.5524\n",
      "Epoch 123/250\n",
      "98/98 - 0s - 3ms/step - accuracy: 0.7040 - loss: 0.5375\n",
      "Epoch 124/250\n",
      "98/98 - 0s - 3ms/step - accuracy: 0.7110 - loss: 0.5391\n",
      "Epoch 125/250\n",
      "98/98 - 0s - 3ms/step - accuracy: 0.7132 - loss: 0.5326\n",
      "Epoch 126/250\n",
      "98/98 - 0s - 3ms/step - accuracy: 0.7164 - loss: 0.5332\n",
      "Epoch 127/250\n",
      "98/98 - 0s - 4ms/step - accuracy: 0.7123 - loss: 0.5254\n",
      "Epoch 128/250\n",
      "98/98 - 0s - 4ms/step - accuracy: 0.7129 - loss: 0.5252\n",
      "Epoch 129/250\n",
      "98/98 - 0s - 3ms/step - accuracy: 0.7132 - loss: 0.5265\n",
      "Epoch 130/250\n",
      "98/98 - 0s - 3ms/step - accuracy: 0.7145 - loss: 0.5268\n",
      "Epoch 131/250\n",
      "98/98 - 0s - 3ms/step - accuracy: 0.7225 - loss: 0.5237\n",
      "Epoch 132/250\n",
      "98/98 - 0s - 3ms/step - accuracy: 0.7273 - loss: 0.5125\n",
      "Epoch 133/250\n",
      "98/98 - 0s - 5ms/step - accuracy: 0.7177 - loss: 0.5158\n",
      "Epoch 134/250\n",
      "98/98 - 0s - 3ms/step - accuracy: 0.7235 - loss: 0.5077\n",
      "Epoch 135/250\n",
      "98/98 - 0s - 4ms/step - accuracy: 0.7263 - loss: 0.5051\n",
      "Epoch 136/250\n",
      "98/98 - 0s - 3ms/step - accuracy: 0.7353 - loss: 0.4982\n",
      "Epoch 137/250\n",
      "98/98 - 0s - 3ms/step - accuracy: 0.7350 - loss: 0.4956\n",
      "Epoch 138/250\n",
      "98/98 - 0s - 4ms/step - accuracy: 0.7292 - loss: 0.5000\n",
      "Epoch 139/250\n",
      "98/98 - 0s - 4ms/step - accuracy: 0.7295 - loss: 0.4902\n",
      "Epoch 140/250\n",
      "98/98 - 0s - 4ms/step - accuracy: 0.7299 - loss: 0.4912\n",
      "Epoch 141/250\n",
      "98/98 - 0s - 5ms/step - accuracy: 0.7299 - loss: 0.5002\n",
      "Epoch 142/250\n",
      "98/98 - 0s - 4ms/step - accuracy: 0.7308 - loss: 0.5043\n",
      "Epoch 143/250\n",
      "98/98 - 0s - 3ms/step - accuracy: 0.7209 - loss: 0.5047\n",
      "Epoch 144/250\n",
      "98/98 - 0s - 5ms/step - accuracy: 0.7206 - loss: 0.5065\n",
      "Epoch 145/250\n",
      "98/98 - 0s - 4ms/step - accuracy: 0.7244 - loss: 0.5109\n",
      "Epoch 146/250\n",
      "98/98 - 0s - 3ms/step - accuracy: 0.7295 - loss: 0.4917\n",
      "Epoch 147/250\n",
      "98/98 - 0s - 3ms/step - accuracy: 0.7289 - loss: 0.4932\n",
      "Epoch 148/250\n",
      "98/98 - 0s - 4ms/step - accuracy: 0.7295 - loss: 0.4954\n",
      "Epoch 149/250\n",
      "98/98 - 0s - 3ms/step - accuracy: 0.7337 - loss: 0.4915\n",
      "Epoch 150/250\n",
      "98/98 - 0s - 3ms/step - accuracy: 0.7372 - loss: 0.4924\n",
      "Epoch 151/250\n",
      "98/98 - 0s - 3ms/step - accuracy: 0.7449 - loss: 0.4805\n",
      "Epoch 152/250\n",
      "98/98 - 0s - 3ms/step - accuracy: 0.7315 - loss: 0.4902\n",
      "Epoch 153/250\n",
      "98/98 - 0s - 3ms/step - accuracy: 0.7279 - loss: 0.5046\n",
      "Epoch 154/250\n",
      "98/98 - 0s - 4ms/step - accuracy: 0.7513 - loss: 0.4795\n",
      "Epoch 155/250\n",
      "98/98 - 0s - 4ms/step - accuracy: 0.7379 - loss: 0.4869\n",
      "Epoch 156/250\n",
      "98/98 - 0s - 3ms/step - accuracy: 0.7318 - loss: 0.4917\n",
      "Epoch 157/250\n",
      "98/98 - 0s - 3ms/step - accuracy: 0.7436 - loss: 0.4832\n",
      "Epoch 158/250\n",
      "98/98 - 0s - 3ms/step - accuracy: 0.7516 - loss: 0.4680\n",
      "Epoch 159/250\n",
      "98/98 - 0s - 3ms/step - accuracy: 0.7516 - loss: 0.4759\n",
      "Epoch 160/250\n",
      "98/98 - 0s - 3ms/step - accuracy: 0.7439 - loss: 0.4729\n",
      "Epoch 161/250\n",
      "98/98 - 0s - 3ms/step - accuracy: 0.7564 - loss: 0.4732\n",
      "Epoch 162/250\n",
      "98/98 - 0s - 3ms/step - accuracy: 0.7586 - loss: 0.4628\n",
      "Epoch 163/250\n",
      "98/98 - 0s - 3ms/step - accuracy: 0.7593 - loss: 0.4562\n",
      "Epoch 164/250\n",
      "98/98 - 0s - 3ms/step - accuracy: 0.7660 - loss: 0.4524\n",
      "Epoch 165/250\n",
      "98/98 - 0s - 4ms/step - accuracy: 0.7618 - loss: 0.4654\n",
      "Epoch 166/250\n",
      "98/98 - 0s - 3ms/step - accuracy: 0.7724 - loss: 0.4507\n",
      "Epoch 167/250\n",
      "98/98 - 0s - 3ms/step - accuracy: 0.7650 - loss: 0.4532\n",
      "Epoch 168/250\n",
      "98/98 - 0s - 3ms/step - accuracy: 0.7637 - loss: 0.4478\n",
      "Epoch 169/250\n",
      "98/98 - 0s - 3ms/step - accuracy: 0.7711 - loss: 0.4377\n",
      "Epoch 170/250\n",
      "98/98 - 0s - 3ms/step - accuracy: 0.7769 - loss: 0.4331\n",
      "Epoch 171/250\n",
      "98/98 - 0s - 3ms/step - accuracy: 0.7778 - loss: 0.4328\n",
      "Epoch 172/250\n",
      "98/98 - 0s - 3ms/step - accuracy: 0.7698 - loss: 0.4401\n",
      "Epoch 173/250\n",
      "98/98 - 0s - 3ms/step - accuracy: 0.7692 - loss: 0.4346\n",
      "Epoch 174/250\n",
      "98/98 - 0s - 4ms/step - accuracy: 0.7807 - loss: 0.4291\n",
      "Epoch 175/250\n",
      "98/98 - 0s - 3ms/step - accuracy: 0.7855 - loss: 0.4149\n",
      "Epoch 176/250\n",
      "98/98 - 0s - 3ms/step - accuracy: 0.7791 - loss: 0.4208\n",
      "Epoch 177/250\n",
      "98/98 - 0s - 3ms/step - accuracy: 0.7801 - loss: 0.4224\n",
      "Epoch 178/250\n",
      "98/98 - 0s - 3ms/step - accuracy: 0.7810 - loss: 0.4134\n",
      "Epoch 179/250\n",
      "98/98 - 0s - 3ms/step - accuracy: 0.7839 - loss: 0.4127\n",
      "Epoch 180/250\n",
      "98/98 - 0s - 4ms/step - accuracy: 0.7944 - loss: 0.3950\n",
      "Epoch 181/250\n",
      "98/98 - 0s - 3ms/step - accuracy: 0.7852 - loss: 0.4093\n",
      "Epoch 182/250\n",
      "98/98 - 0s - 3ms/step - accuracy: 0.7858 - loss: 0.4138\n",
      "Epoch 183/250\n",
      "98/98 - 0s - 3ms/step - accuracy: 0.7932 - loss: 0.4121\n",
      "Epoch 184/250\n",
      "98/98 - 0s - 3ms/step - accuracy: 0.7970 - loss: 0.3920\n",
      "Epoch 185/250\n",
      "98/98 - 0s - 3ms/step - accuracy: 0.7960 - loss: 0.3968\n",
      "Epoch 186/250\n",
      "98/98 - 0s - 3ms/step - accuracy: 0.7948 - loss: 0.4122\n",
      "Epoch 187/250\n",
      "98/98 - 0s - 3ms/step - accuracy: 0.7992 - loss: 0.3897\n",
      "Epoch 188/250\n",
      "98/98 - 0s - 3ms/step - accuracy: 0.7980 - loss: 0.4062\n",
      "Epoch 189/250\n",
      "98/98 - 0s - 3ms/step - accuracy: 0.7967 - loss: 0.3948\n",
      "Epoch 190/250\n",
      "98/98 - 0s - 3ms/step - accuracy: 0.8072 - loss: 0.3827\n",
      "Epoch 191/250\n",
      "98/98 - 0s - 3ms/step - accuracy: 0.8047 - loss: 0.3789\n",
      "Epoch 192/250\n",
      "98/98 - 0s - 3ms/step - accuracy: 0.8091 - loss: 0.3732\n",
      "Epoch 193/250\n",
      "98/98 - 0s - 3ms/step - accuracy: 0.7989 - loss: 0.3990\n",
      "Epoch 194/250\n",
      "98/98 - 0s - 3ms/step - accuracy: 0.8069 - loss: 0.3823\n",
      "Epoch 195/250\n",
      "98/98 - 0s - 3ms/step - accuracy: 0.8223 - loss: 0.3704\n",
      "Epoch 196/250\n",
      "98/98 - 0s - 3ms/step - accuracy: 0.8063 - loss: 0.3804\n",
      "Epoch 197/250\n",
      "98/98 - 0s - 3ms/step - accuracy: 0.8130 - loss: 0.3932\n",
      "Epoch 198/250\n",
      "98/98 - 0s - 3ms/step - accuracy: 0.8075 - loss: 0.3786\n",
      "Epoch 199/250\n",
      "98/98 - 0s - 3ms/step - accuracy: 0.8123 - loss: 0.3758\n",
      "Epoch 200/250\n",
      "98/98 - 0s - 3ms/step - accuracy: 0.8299 - loss: 0.3458\n",
      "Epoch 201/250\n",
      "98/98 - 0s - 3ms/step - accuracy: 0.8191 - loss: 0.3508\n",
      "Epoch 202/250\n",
      "98/98 - 0s - 3ms/step - accuracy: 0.8085 - loss: 0.3817\n",
      "Epoch 203/250\n",
      "98/98 - 0s - 3ms/step - accuracy: 0.8197 - loss: 0.3558\n",
      "Epoch 204/250\n",
      "98/98 - 0s - 3ms/step - accuracy: 0.8053 - loss: 0.3859\n",
      "Epoch 205/250\n",
      "98/98 - 0s - 3ms/step - accuracy: 0.8197 - loss: 0.3620\n",
      "Epoch 206/250\n",
      "98/98 - 0s - 3ms/step - accuracy: 0.8290 - loss: 0.3472\n",
      "Epoch 207/250\n",
      "98/98 - 0s - 3ms/step - accuracy: 0.8283 - loss: 0.3383\n",
      "Epoch 208/250\n",
      "98/98 - 0s - 3ms/step - accuracy: 0.8344 - loss: 0.3236\n",
      "Epoch 209/250\n",
      "98/98 - 0s - 3ms/step - accuracy: 0.8430 - loss: 0.3237\n",
      "Epoch 210/250\n",
      "98/98 - 0s - 3ms/step - accuracy: 0.8360 - loss: 0.3299\n",
      "Epoch 211/250\n",
      "98/98 - 0s - 3ms/step - accuracy: 0.8347 - loss: 0.3309\n",
      "Epoch 212/250\n",
      "98/98 - 0s - 3ms/step - accuracy: 0.8277 - loss: 0.3525\n",
      "Epoch 213/250\n",
      "98/98 - 0s - 3ms/step - accuracy: 0.8293 - loss: 0.3448\n",
      "Epoch 214/250\n",
      "98/98 - 0s - 3ms/step - accuracy: 0.8430 - loss: 0.3262\n",
      "Epoch 215/250\n",
      "98/98 - 0s - 3ms/step - accuracy: 0.8478 - loss: 0.3267\n",
      "Epoch 216/250\n",
      "98/98 - 0s - 3ms/step - accuracy: 0.8462 - loss: 0.3099\n",
      "Epoch 217/250\n",
      "98/98 - 0s - 4ms/step - accuracy: 0.8501 - loss: 0.3055\n",
      "Epoch 218/250\n",
      "98/98 - 0s - 3ms/step - accuracy: 0.8517 - loss: 0.3125\n",
      "Epoch 219/250\n",
      "98/98 - 0s - 3ms/step - accuracy: 0.8363 - loss: 0.3470\n",
      "Epoch 220/250\n",
      "98/98 - 0s - 3ms/step - accuracy: 0.8373 - loss: 0.3406\n",
      "Epoch 221/250\n",
      "98/98 - 0s - 3ms/step - accuracy: 0.8446 - loss: 0.3232\n",
      "Epoch 222/250\n",
      "98/98 - 0s - 4ms/step - accuracy: 0.8309 - loss: 0.3414\n",
      "Epoch 223/250\n",
      "98/98 - 0s - 3ms/step - accuracy: 0.8542 - loss: 0.3035\n",
      "Epoch 224/250\n",
      "98/98 - 0s - 3ms/step - accuracy: 0.8664 - loss: 0.2896\n",
      "Epoch 225/250\n",
      "98/98 - 0s - 4ms/step - accuracy: 0.8590 - loss: 0.3028\n",
      "Epoch 226/250\n",
      "98/98 - 0s - 3ms/step - accuracy: 0.8648 - loss: 0.2912\n",
      "Epoch 227/250\n",
      "98/98 - 0s - 3ms/step - accuracy: 0.8449 - loss: 0.3247\n",
      "Epoch 228/250\n",
      "98/98 - 0s - 3ms/step - accuracy: 0.8603 - loss: 0.2990\n",
      "Epoch 229/250\n",
      "98/98 - 0s - 3ms/step - accuracy: 0.8632 - loss: 0.2787\n",
      "Epoch 230/250\n",
      "98/98 - 0s - 3ms/step - accuracy: 0.8584 - loss: 0.2987\n",
      "Epoch 231/250\n",
      "98/98 - 0s - 3ms/step - accuracy: 0.8568 - loss: 0.3047\n",
      "Epoch 232/250\n",
      "98/98 - 0s - 3ms/step - accuracy: 0.8568 - loss: 0.2982\n",
      "Epoch 233/250\n",
      "98/98 - 0s - 3ms/step - accuracy: 0.8635 - loss: 0.3020\n",
      "Epoch 234/250\n",
      "98/98 - 0s - 3ms/step - accuracy: 0.8561 - loss: 0.3093\n",
      "Epoch 235/250\n",
      "98/98 - 0s - 3ms/step - accuracy: 0.8542 - loss: 0.3000\n",
      "Epoch 236/250\n",
      "98/98 - 0s - 4ms/step - accuracy: 0.8670 - loss: 0.2874\n",
      "Epoch 237/250\n",
      "98/98 - 0s - 3ms/step - accuracy: 0.8609 - loss: 0.2814\n",
      "Epoch 238/250\n",
      "98/98 - 0s - 4ms/step - accuracy: 0.8756 - loss: 0.2728\n",
      "Epoch 239/250\n",
      "98/98 - 0s - 3ms/step - accuracy: 0.8740 - loss: 0.2729\n",
      "Epoch 240/250\n",
      "98/98 - 0s - 3ms/step - accuracy: 0.8641 - loss: 0.2774\n",
      "Epoch 241/250\n",
      "98/98 - 0s - 3ms/step - accuracy: 0.8603 - loss: 0.2859\n",
      "Epoch 242/250\n",
      "98/98 - 0s - 3ms/step - accuracy: 0.8664 - loss: 0.2766\n",
      "Epoch 243/250\n",
      "98/98 - 0s - 3ms/step - accuracy: 0.8846 - loss: 0.2581\n",
      "Epoch 244/250\n",
      "98/98 - 0s - 4ms/step - accuracy: 0.8718 - loss: 0.2730\n",
      "Epoch 245/250\n",
      "98/98 - 0s - 3ms/step - accuracy: 0.8446 - loss: 0.3161\n",
      "Epoch 246/250\n",
      "98/98 - 0s - 3ms/step - accuracy: 0.8705 - loss: 0.2784\n",
      "Epoch 247/250\n",
      "98/98 - 0s - 3ms/step - accuracy: 0.8568 - loss: 0.2858\n",
      "Epoch 248/250\n",
      "98/98 - 0s - 3ms/step - accuracy: 0.8744 - loss: 0.2596\n",
      "Epoch 249/250\n",
      "98/98 - 0s - 4ms/step - accuracy: 0.8843 - loss: 0.2496\n",
      "Epoch 250/250\n",
      "98/98 - 0s - 4ms/step - accuracy: 0.8776 - loss: 0.2622\n",
      "\u001b[1m11/11\u001b[0m \u001b[32m━━━━━━━━━━━━━━━━━━━━\u001b[0m\u001b[37m\u001b[0m \u001b[1m0s\u001b[0m 12ms/step\n",
      "Final Model Metrics:\n",
      "Accuracy: 0.48695652173913045\n",
      "F1: 0.5893271461716937\n",
      "Precision: 0.49609375\n",
      "Recall: 0.7257142857142858\n"
     ]
    }
   ],
   "source": [
    "# Seed \n",
    "seed_value = 1234\n",
    "tf.random.set_seed(seed_value)\n",
    "np.random.seed(seed_value)\n",
    "random.seed(seed_value)\n",
    "\n",
    "# Train the final model \n",
    "final_model = tuner.hypermodel.build(best_hps)\n",
    "history = final_model.fit(\n",
    "    X_train_full, y_train_full,\n",
    "    epochs=250,\n",
    "    batch_size=32,\n",
    "    verbose=2\n",
    "    )\n",
    "\n",
    "# Evaluate the final model on the test data\n",
    "predictions = final_model.predict(X_test)\n",
    "test_pred = (predictions > 0.5).astype(int)\n",
    "\n",
    "final_accuracy = accuracy_score(y_test, test_pred)\n",
    "final_f1 = f1_score(y_test, test_pred)\n",
    "final_precision = precision_score(y_test, test_pred)\n",
    "final_recall = recall_score(y_test, test_pred)\n",
    "\n",
    "# Print the final metrics\n",
    "print('Final Model Metrics:')\n",
    "print('Accuracy:', final_accuracy)\n",
    "print('F1:', final_f1)\n",
    "print('Precision:', final_precision)\n",
    "print('Recall:', final_recall)\n",
    "\n",
    "# Save the model\n",
    "final_model.save('best_CNNLSTM3DCLASS.keras')"
   ]
  }
 ],
 "metadata": {
  "kernelspec": {
   "display_name": "base",
   "language": "python",
   "name": "python3"
  },
  "language_info": {
   "codemirror_mode": {
    "name": "ipython",
    "version": 3
   },
   "file_extension": ".py",
   "mimetype": "text/x-python",
   "name": "python",
   "nbconvert_exporter": "python",
   "pygments_lexer": "ipython3",
   "version": "3.11.7"
  }
 },
 "nbformat": 4,
 "nbformat_minor": 2
}

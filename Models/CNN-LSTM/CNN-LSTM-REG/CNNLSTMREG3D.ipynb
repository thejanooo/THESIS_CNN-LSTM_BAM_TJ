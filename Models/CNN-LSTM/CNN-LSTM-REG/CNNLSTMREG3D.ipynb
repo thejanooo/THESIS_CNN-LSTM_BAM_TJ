{
 "cells": [
  {
   "cell_type": "code",
   "execution_count": 1,
   "metadata": {},
   "outputs": [
    {
     "name": "stdout",
     "output_type": "stream",
     "text": [
      "Trial 200 Complete [00h 00m 26s]\n",
      "val_mean_absolute_percentage_error: 2.919828414916992\n",
      "\n",
      "Best val_mean_absolute_percentage_error So Far: 1.8991161584854126\n",
      "Total elapsed time: 01h 10m 28s\n",
      "Results summary\n",
      "Results in my_dir/CNN-LSTM-Reg-3D\n",
      "Showing 10 best trials\n",
      "Objective(name=\"val_mean_absolute_percentage_error\", direction=\"min\")\n",
      "\n",
      "Trial 032 summary\n",
      "Hyperparameters:\n",
      "conv_1_filter: 110\n",
      "pool_1_size: 2\n",
      "conv_2_filter: 10\n",
      "pool_2_size: 3\n",
      "dense_units: 100\n",
      "lstm_units: 100\n",
      "dropout_2: 0.1\n",
      "learning_rate: 0.0001\n",
      "Score: 1.8991161584854126\n",
      "\n",
      "Trial 046 summary\n",
      "Hyperparameters:\n",
      "conv_1_filter: 60\n",
      "pool_1_size: 2\n",
      "conv_2_filter: 20\n",
      "pool_2_size: 3\n",
      "dense_units: 150\n",
      "lstm_units: 80\n",
      "dropout_2: 0.1\n",
      "learning_rate: 0.0001\n",
      "Score: 1.9105901718139648\n",
      "\n",
      "Trial 163 summary\n",
      "Hyperparameters:\n",
      "conv_1_filter: 20\n",
      "pool_1_size: 2\n",
      "conv_2_filter: 50\n",
      "pool_2_size: 3\n",
      "dense_units: 50\n",
      "lstm_units: 80\n",
      "dropout_2: 0.2\n",
      "learning_rate: 0.0001\n",
      "Score: 1.9203925132751465\n",
      "\n",
      "Trial 182 summary\n",
      "Hyperparameters:\n",
      "conv_1_filter: 90\n",
      "pool_1_size: 2\n",
      "conv_2_filter: 40\n",
      "pool_2_size: 2\n",
      "dense_units: 60\n",
      "lstm_units: 50\n",
      "dropout_2: 0.1\n",
      "learning_rate: 0.01\n",
      "Score: 1.937851071357727\n",
      "\n",
      "Trial 172 summary\n",
      "Hyperparameters:\n",
      "conv_1_filter: 150\n",
      "pool_1_size: 2\n",
      "conv_2_filter: 100\n",
      "pool_2_size: 3\n",
      "dense_units: 120\n",
      "lstm_units: 80\n",
      "dropout_2: 0.4\n",
      "learning_rate: 0.0001\n",
      "Score: 1.9405146837234497\n",
      "\n",
      "Trial 093 summary\n",
      "Hyperparameters:\n",
      "conv_1_filter: 10\n",
      "pool_1_size: 2\n",
      "conv_2_filter: 10\n",
      "pool_2_size: 2\n",
      "dense_units: 70\n",
      "lstm_units: 30\n",
      "dropout_2: 0.1\n",
      "learning_rate: 0.001\n",
      "Score: 1.941820740699768\n",
      "\n",
      "Trial 135 summary\n",
      "Hyperparameters:\n",
      "conv_1_filter: 100\n",
      "pool_1_size: 3\n",
      "conv_2_filter: 20\n",
      "pool_2_size: 3\n",
      "dense_units: 180\n",
      "lstm_units: 90\n",
      "dropout_2: 0.1\n",
      "learning_rate: 0.001\n",
      "Score: 1.9425594806671143\n",
      "\n",
      "Trial 003 summary\n",
      "Hyperparameters:\n",
      "conv_1_filter: 140\n",
      "pool_1_size: 3\n",
      "conv_2_filter: 90\n",
      "pool_2_size: 3\n",
      "dense_units: 100\n",
      "lstm_units: 100\n",
      "dropout_2: 0.1\n",
      "learning_rate: 0.001\n",
      "Score: 1.9523285627365112\n",
      "\n",
      "Trial 064 summary\n",
      "Hyperparameters:\n",
      "conv_1_filter: 120\n",
      "pool_1_size: 2\n",
      "conv_2_filter: 60\n",
      "pool_2_size: 2\n",
      "dense_units: 10\n",
      "lstm_units: 50\n",
      "dropout_2: 0.30000000000000004\n",
      "learning_rate: 0.01\n",
      "Score: 1.9636688232421875\n",
      "\n",
      "Trial 162 summary\n",
      "Hyperparameters:\n",
      "conv_1_filter: 110\n",
      "pool_1_size: 2\n",
      "conv_2_filter: 150\n",
      "pool_2_size: 2\n",
      "dense_units: 130\n",
      "lstm_units: 90\n",
      "dropout_2: 0.1\n",
      "learning_rate: 0.01\n",
      "Score: 1.9696524143218994\n"
     ]
    }
   ],
   "source": [
    "import pandas as pd\n",
    "import numpy as np\n",
    "import matplotlib.pyplot as plt\n",
    "from tensorflow.keras.models import Sequential\n",
    "from tensorflow.keras.layers import LSTM, Dense, Dropout\n",
    "from sklearn.preprocessing import MinMaxScaler\n",
    "import tensorflow as tf\n",
    "from sklearn.metrics import mean_squared_error, mean_absolute_error\n",
    "from tensorflow.keras.callbacks import EarlyStopping\n",
    "from keras_tuner import RandomSearch\n",
    "from tensorflow import keras\n",
    "from keras.layers import Conv2D, MaxPooling2D, Reshape\n",
    "from keras.optimizers import Adam\n",
    "import keras\n",
    "import random\n",
    "\n",
    "seed_value = 42\n",
    "tf.random.set_seed(seed_value)\n",
    "np.random.seed(seed_value)\n",
    "\n",
    "# Load the data\n",
    "data = pd.read_csv('/Users/thomas/Documents/GitHub/CNN-LSTM/Models_v2/Final_df/BTC_FINAL_DF.csv')\n",
    "\n",
    "# MAke the date the index\n",
    "data.set_index('Date', inplace=True)\n",
    "\n",
    "# Normalize the data\n",
    "# List of columns to scale\n",
    "columns_to_scale = ['Open', 'High', 'Low', 'Volume', 'RSI', 'ATR', 'MACD', 'MFI',\n",
    "                    'EMA', 'SMA', 'OBV', 'GTrends_Interest', 'Sentiment_Bullish',\n",
    "                    'Price_oil', 'Price_gold', 'Price_NASDAQ', 'Price_SP500', 'Price_NYSE',\n",
    "                    'Interest_Rate', 'hash_rate', 'users']\n",
    "\n",
    "# Initialize the scaler\n",
    "scaler = MinMaxScaler(feature_range=(0, 1))\n",
    "\n",
    "# Scale the selected columns\n",
    "data[columns_to_scale] = scaler.fit_transform(data[columns_to_scale])\n",
    "\n",
    "\n",
    "# Train and test data\n",
    "training_size = int(len(data) * 0.9)\n",
    "training_data = data[:training_size]\n",
    "test_data = data[training_size:]\n",
    "\n",
    "train_data = training_data[:int(len(training_data) * 0.9)]\n",
    "val_data = training_data[int(len(training_data) * 0.9):]\n",
    "\n",
    "\n",
    "# Define the function to create the dataset\n",
    "def create_dataset(data, window_size, target_index):\n",
    "    X, y = [], []\n",
    "    for i in range(len(data) - window_size):\n",
    "        X.append(data.iloc[i:(i + window_size)].values)  \n",
    "        y.append(data.iloc[i + window_size, target_index])\n",
    "    return np.array(X), np.array(y)\n",
    "\n",
    "# Forecast Horizon\n",
    "window_size = 3\n",
    "\n",
    "# Target index ('Close')\n",
    "close_index = 3\n",
    "\n",
    "# Create the dataset\n",
    "X_train, y_train = create_dataset(train_data, window_size, close_index)\n",
    "X_test, y_test = create_dataset(test_data, window_size, close_index)\n",
    "X_val, y_val = create_dataset(val_data, window_size, close_index)\n",
    "x_train_full, y_train_full = create_dataset(training_data, window_size, close_index)\n",
    "\n",
    "# Reshape the data\n",
    "X_train = X_train.reshape((X_train.shape[0], window_size, X_train.shape[2], 1))\n",
    "X_test = X_test.reshape((X_test.shape[0], window_size, X_test.shape[2], 1))\n",
    "X_val = X_val.reshape((X_val.shape[0], window_size, X_val.shape[2], 1))\n",
    "x_train_full = x_train_full.reshape((x_train_full.shape[0], window_size, x_train_full.shape[2], 1))\n",
    "\n",
    "\n",
    "def build_model(hp):\n",
    "    model = Sequential()\n",
    "    model.add(Conv2D(\n",
    "        filters=hp.Int('conv_1_filter', min_value=10, max_value=150, step=10),\n",
    "        kernel_size=3,\n",
    "        activation='relu',\n",
    "        input_shape=(X_train.shape[1], X_train.shape[2], 1),\n",
    "        padding='same'\n",
    "    ))\n",
    "    model.add(MaxPooling2D(pool_size=hp.Choice('pool_1_size', values=[2, 3]), padding='same'))\n",
    "\n",
    "    model.add(Conv2D(\n",
    "        filters=hp.Int('conv_2_filter', min_value=10, max_value=150, step=10),\n",
    "        kernel_size=3,\n",
    "        activation='relu',\n",
    "        padding='same'\n",
    "    ))\n",
    "    model.add(MaxPooling2D(pool_size=hp.Choice('pool_2_size', values=[2, 3]), padding='same'))\n",
    "\n",
    "    model.add(Dense(\n",
    "        hp.Int('dense_units', min_value=10, max_value=200, step=10),\n",
    "        activation='relu'))\n",
    "    \n",
    "    x,y = model.output_shape[2], model.output_shape[3]\n",
    "\n",
    "    model.add(Reshape((x, y)))\n",
    "\n",
    "    model.add(LSTM(\n",
    "        units=hp.Int('lstm_units', min_value=10, max_value=100, step=10),\n",
    "        activation='relu',\n",
    "    ))\n",
    "    model.add(Dropout(rate=hp.Float('dropout_2', min_value=0.1, max_value=0.5, step=0.1)))\n",
    "    model.add(Dense(units=1, activation='linear'))\n",
    "    \n",
    "    model.compile(optimizer=Adam(hp.Choice('learning_rate', values=[1e-2, 1e-3, 1e-4])),\n",
    "                  loss='mse',\n",
    "                  metrics=['mae', 'mean_absolute_percentage_error'])\n",
    "\n",
    "    return model\n",
    "\n",
    "tuner = RandomSearch(\n",
    "    build_model,\n",
    "    objective='val_mean_absolute_percentage_error',\n",
    "    max_trials=200,\n",
    "    executions_per_trial=1,\n",
    "    directory='my_dir',\n",
    "    project_name='CNN-LSTM-Reg-3D',\n",
    "    overwrite=False\n",
    ")\n",
    "\n",
    "early_stopping = EarlyStopping(\n",
    "    monitor='val_mean_absolute_percentage_error',\n",
    "    patience=15,\n",
    "    restore_best_weights=True\n",
    ")\n",
    "\n",
    "tuner.search(X_train,y_train,\n",
    "             epochs=100,\n",
    "             batch_size=32,\n",
    "             validation_data=(X_val, y_val),\n",
    "             callbacks=[early_stopping],\n",
    "             verbose=2)\n",
    "\n",
    "tuner.results_summary()\n"
   ]
  },
  {
   "cell_type": "code",
   "execution_count": 2,
   "metadata": {},
   "outputs": [
    {
     "name": "stderr",
     "output_type": "stream",
     "text": [
      "/opt/anaconda3/lib/python3.11/site-packages/keras/src/layers/convolutional/base_conv.py:107: UserWarning: Do not pass an `input_shape`/`input_dim` argument to a layer. When using Sequential models, prefer using an `Input(shape)` object as the first layer in the model instead.\n",
      "  super().__init__(activity_regularizer=activity_regularizer, **kwargs)\n"
     ]
    },
    {
     "name": "stdout",
     "output_type": "stream",
     "text": [
      "\u001b[1m11/11\u001b[0m \u001b[32m━━━━━━━━━━━━━━━━━━━━\u001b[0m\u001b[37m\u001b[0m \u001b[1m0s\u001b[0m 10ms/step\n"
     ]
    },
    {
     "name": "stderr",
     "output_type": "stream",
     "text": [
      "/opt/anaconda3/lib/python3.11/site-packages/keras/src/layers/convolutional/base_conv.py:107: UserWarning: Do not pass an `input_shape`/`input_dim` argument to a layer. When using Sequential models, prefer using an `Input(shape)` object as the first layer in the model instead.\n",
      "  super().__init__(activity_regularizer=activity_regularizer, **kwargs)\n"
     ]
    },
    {
     "name": "stdout",
     "output_type": "stream",
     "text": [
      "\u001b[1m11/11\u001b[0m \u001b[32m━━━━━━━━━━━━━━━━━━━━\u001b[0m\u001b[37m\u001b[0m \u001b[1m0s\u001b[0m 12ms/step\n"
     ]
    },
    {
     "name": "stderr",
     "output_type": "stream",
     "text": [
      "/opt/anaconda3/lib/python3.11/site-packages/keras/src/layers/convolutional/base_conv.py:107: UserWarning: Do not pass an `input_shape`/`input_dim` argument to a layer. When using Sequential models, prefer using an `Input(shape)` object as the first layer in the model instead.\n",
      "  super().__init__(activity_regularizer=activity_regularizer, **kwargs)\n"
     ]
    },
    {
     "name": "stdout",
     "output_type": "stream",
     "text": [
      "\u001b[1m11/11\u001b[0m \u001b[32m━━━━━━━━━━━━━━━━━━━━\u001b[0m\u001b[37m\u001b[0m \u001b[1m0s\u001b[0m 13ms/step\n"
     ]
    },
    {
     "name": "stderr",
     "output_type": "stream",
     "text": [
      "/opt/anaconda3/lib/python3.11/site-packages/keras/src/layers/convolutional/base_conv.py:107: UserWarning: Do not pass an `input_shape`/`input_dim` argument to a layer. When using Sequential models, prefer using an `Input(shape)` object as the first layer in the model instead.\n",
      "  super().__init__(activity_regularizer=activity_regularizer, **kwargs)\n"
     ]
    },
    {
     "name": "stdout",
     "output_type": "stream",
     "text": [
      "\u001b[1m11/11\u001b[0m \u001b[32m━━━━━━━━━━━━━━━━━━━━\u001b[0m\u001b[37m\u001b[0m \u001b[1m0s\u001b[0m 12ms/step\n"
     ]
    },
    {
     "name": "stderr",
     "output_type": "stream",
     "text": [
      "/opt/anaconda3/lib/python3.11/site-packages/keras/src/layers/convolutional/base_conv.py:107: UserWarning: Do not pass an `input_shape`/`input_dim` argument to a layer. When using Sequential models, prefer using an `Input(shape)` object as the first layer in the model instead.\n",
      "  super().__init__(activity_regularizer=activity_regularizer, **kwargs)\n"
     ]
    },
    {
     "name": "stdout",
     "output_type": "stream",
     "text": [
      "\u001b[1m11/11\u001b[0m \u001b[32m━━━━━━━━━━━━━━━━━━━━\u001b[0m\u001b[37m\u001b[0m \u001b[1m0s\u001b[0m 12ms/step\n"
     ]
    },
    {
     "name": "stderr",
     "output_type": "stream",
     "text": [
      "/opt/anaconda3/lib/python3.11/site-packages/keras/src/layers/convolutional/base_conv.py:107: UserWarning: Do not pass an `input_shape`/`input_dim` argument to a layer. When using Sequential models, prefer using an `Input(shape)` object as the first layer in the model instead.\n",
      "  super().__init__(activity_regularizer=activity_regularizer, **kwargs)\n"
     ]
    },
    {
     "name": "stdout",
     "output_type": "stream",
     "text": [
      "\u001b[1m11/11\u001b[0m \u001b[32m━━━━━━━━━━━━━━━━━━━━\u001b[0m\u001b[37m\u001b[0m \u001b[1m0s\u001b[0m 12ms/step\n"
     ]
    },
    {
     "name": "stderr",
     "output_type": "stream",
     "text": [
      "/opt/anaconda3/lib/python3.11/site-packages/keras/src/layers/convolutional/base_conv.py:107: UserWarning: Do not pass an `input_shape`/`input_dim` argument to a layer. When using Sequential models, prefer using an `Input(shape)` object as the first layer in the model instead.\n",
      "  super().__init__(activity_regularizer=activity_regularizer, **kwargs)\n"
     ]
    },
    {
     "name": "stdout",
     "output_type": "stream",
     "text": [
      "\u001b[1m11/11\u001b[0m \u001b[32m━━━━━━━━━━━━━━━━━━━━\u001b[0m\u001b[37m\u001b[0m \u001b[1m0s\u001b[0m 11ms/step\n"
     ]
    },
    {
     "name": "stderr",
     "output_type": "stream",
     "text": [
      "/opt/anaconda3/lib/python3.11/site-packages/keras/src/layers/convolutional/base_conv.py:107: UserWarning: Do not pass an `input_shape`/`input_dim` argument to a layer. When using Sequential models, prefer using an `Input(shape)` object as the first layer in the model instead.\n",
      "  super().__init__(activity_regularizer=activity_regularizer, **kwargs)\n"
     ]
    },
    {
     "name": "stdout",
     "output_type": "stream",
     "text": [
      "\u001b[1m11/11\u001b[0m \u001b[32m━━━━━━━━━━━━━━━━━━━━\u001b[0m\u001b[37m\u001b[0m \u001b[1m0s\u001b[0m 11ms/step\n"
     ]
    },
    {
     "name": "stderr",
     "output_type": "stream",
     "text": [
      "/opt/anaconda3/lib/python3.11/site-packages/keras/src/layers/convolutional/base_conv.py:107: UserWarning: Do not pass an `input_shape`/`input_dim` argument to a layer. When using Sequential models, prefer using an `Input(shape)` object as the first layer in the model instead.\n",
      "  super().__init__(activity_regularizer=activity_regularizer, **kwargs)\n"
     ]
    },
    {
     "name": "stdout",
     "output_type": "stream",
     "text": [
      "\u001b[1m11/11\u001b[0m \u001b[32m━━━━━━━━━━━━━━━━━━━━\u001b[0m\u001b[37m\u001b[0m \u001b[1m0s\u001b[0m 21ms/step\n"
     ]
    },
    {
     "name": "stderr",
     "output_type": "stream",
     "text": [
      "/opt/anaconda3/lib/python3.11/site-packages/keras/src/layers/convolutional/base_conv.py:107: UserWarning: Do not pass an `input_shape`/`input_dim` argument to a layer. When using Sequential models, prefer using an `Input(shape)` object as the first layer in the model instead.\n",
      "  super().__init__(activity_regularizer=activity_regularizer, **kwargs)\n"
     ]
    },
    {
     "name": "stdout",
     "output_type": "stream",
     "text": [
      "\u001b[1m11/11\u001b[0m \u001b[32m━━━━━━━━━━━━━━━━━━━━\u001b[0m\u001b[37m\u001b[0m \u001b[1m0s\u001b[0m 11ms/step\n"
     ]
    },
    {
     "name": "stderr",
     "output_type": "stream",
     "text": [
      "/opt/anaconda3/lib/python3.11/site-packages/keras/src/layers/convolutional/base_conv.py:107: UserWarning: Do not pass an `input_shape`/`input_dim` argument to a layer. When using Sequential models, prefer using an `Input(shape)` object as the first layer in the model instead.\n",
      "  super().__init__(activity_regularizer=activity_regularizer, **kwargs)\n"
     ]
    },
    {
     "name": "stdout",
     "output_type": "stream",
     "text": [
      "\u001b[1m11/11\u001b[0m \u001b[32m━━━━━━━━━━━━━━━━━━━━\u001b[0m\u001b[37m\u001b[0m \u001b[1m0s\u001b[0m 10ms/step\n"
     ]
    },
    {
     "name": "stderr",
     "output_type": "stream",
     "text": [
      "/opt/anaconda3/lib/python3.11/site-packages/keras/src/layers/convolutional/base_conv.py:107: UserWarning: Do not pass an `input_shape`/`input_dim` argument to a layer. When using Sequential models, prefer using an `Input(shape)` object as the first layer in the model instead.\n",
      "  super().__init__(activity_regularizer=activity_regularizer, **kwargs)\n"
     ]
    },
    {
     "name": "stdout",
     "output_type": "stream",
     "text": [
      "\u001b[1m11/11\u001b[0m \u001b[32m━━━━━━━━━━━━━━━━━━━━\u001b[0m\u001b[37m\u001b[0m \u001b[1m0s\u001b[0m 11ms/step\n"
     ]
    },
    {
     "name": "stderr",
     "output_type": "stream",
     "text": [
      "/opt/anaconda3/lib/python3.11/site-packages/keras/src/layers/convolutional/base_conv.py:107: UserWarning: Do not pass an `input_shape`/`input_dim` argument to a layer. When using Sequential models, prefer using an `Input(shape)` object as the first layer in the model instead.\n",
      "  super().__init__(activity_regularizer=activity_regularizer, **kwargs)\n"
     ]
    },
    {
     "name": "stdout",
     "output_type": "stream",
     "text": [
      "\u001b[1m11/11\u001b[0m \u001b[32m━━━━━━━━━━━━━━━━━━━━\u001b[0m\u001b[37m\u001b[0m \u001b[1m0s\u001b[0m 13ms/step\n"
     ]
    },
    {
     "name": "stderr",
     "output_type": "stream",
     "text": [
      "/opt/anaconda3/lib/python3.11/site-packages/keras/src/layers/convolutional/base_conv.py:107: UserWarning: Do not pass an `input_shape`/`input_dim` argument to a layer. When using Sequential models, prefer using an `Input(shape)` object as the first layer in the model instead.\n",
      "  super().__init__(activity_regularizer=activity_regularizer, **kwargs)\n"
     ]
    },
    {
     "name": "stdout",
     "output_type": "stream",
     "text": [
      "\u001b[1m11/11\u001b[0m \u001b[32m━━━━━━━━━━━━━━━━━━━━\u001b[0m\u001b[37m\u001b[0m \u001b[1m0s\u001b[0m 12ms/step\n"
     ]
    },
    {
     "name": "stderr",
     "output_type": "stream",
     "text": [
      "/opt/anaconda3/lib/python3.11/site-packages/keras/src/layers/convolutional/base_conv.py:107: UserWarning: Do not pass an `input_shape`/`input_dim` argument to a layer. When using Sequential models, prefer using an `Input(shape)` object as the first layer in the model instead.\n",
      "  super().__init__(activity_regularizer=activity_regularizer, **kwargs)\n"
     ]
    },
    {
     "name": "stdout",
     "output_type": "stream",
     "text": [
      "\u001b[1m11/11\u001b[0m \u001b[32m━━━━━━━━━━━━━━━━━━━━\u001b[0m\u001b[37m\u001b[0m \u001b[1m0s\u001b[0m 10ms/step\n"
     ]
    },
    {
     "name": "stderr",
     "output_type": "stream",
     "text": [
      "/opt/anaconda3/lib/python3.11/site-packages/keras/src/layers/convolutional/base_conv.py:107: UserWarning: Do not pass an `input_shape`/`input_dim` argument to a layer. When using Sequential models, prefer using an `Input(shape)` object as the first layer in the model instead.\n",
      "  super().__init__(activity_regularizer=activity_regularizer, **kwargs)\n"
     ]
    },
    {
     "name": "stdout",
     "output_type": "stream",
     "text": [
      "\u001b[1m11/11\u001b[0m \u001b[32m━━━━━━━━━━━━━━━━━━━━\u001b[0m\u001b[37m\u001b[0m \u001b[1m0s\u001b[0m 10ms/step\n"
     ]
    },
    {
     "name": "stderr",
     "output_type": "stream",
     "text": [
      "/opt/anaconda3/lib/python3.11/site-packages/keras/src/layers/convolutional/base_conv.py:107: UserWarning: Do not pass an `input_shape`/`input_dim` argument to a layer. When using Sequential models, prefer using an `Input(shape)` object as the first layer in the model instead.\n",
      "  super().__init__(activity_regularizer=activity_regularizer, **kwargs)\n"
     ]
    },
    {
     "name": "stdout",
     "output_type": "stream",
     "text": [
      "\u001b[1m11/11\u001b[0m \u001b[32m━━━━━━━━━━━━━━━━━━━━\u001b[0m\u001b[37m\u001b[0m \u001b[1m0s\u001b[0m 11ms/step\n"
     ]
    },
    {
     "name": "stderr",
     "output_type": "stream",
     "text": [
      "/opt/anaconda3/lib/python3.11/site-packages/keras/src/layers/convolutional/base_conv.py:107: UserWarning: Do not pass an `input_shape`/`input_dim` argument to a layer. When using Sequential models, prefer using an `Input(shape)` object as the first layer in the model instead.\n",
      "  super().__init__(activity_regularizer=activity_regularizer, **kwargs)\n"
     ]
    },
    {
     "name": "stdout",
     "output_type": "stream",
     "text": [
      "\u001b[1m11/11\u001b[0m \u001b[32m━━━━━━━━━━━━━━━━━━━━\u001b[0m\u001b[37m\u001b[0m \u001b[1m0s\u001b[0m 13ms/step\n"
     ]
    },
    {
     "name": "stderr",
     "output_type": "stream",
     "text": [
      "/opt/anaconda3/lib/python3.11/site-packages/keras/src/layers/convolutional/base_conv.py:107: UserWarning: Do not pass an `input_shape`/`input_dim` argument to a layer. When using Sequential models, prefer using an `Input(shape)` object as the first layer in the model instead.\n",
      "  super().__init__(activity_regularizer=activity_regularizer, **kwargs)\n"
     ]
    },
    {
     "name": "stdout",
     "output_type": "stream",
     "text": [
      "\u001b[1m11/11\u001b[0m \u001b[32m━━━━━━━━━━━━━━━━━━━━\u001b[0m\u001b[37m\u001b[0m \u001b[1m0s\u001b[0m 11ms/step\n"
     ]
    },
    {
     "name": "stderr",
     "output_type": "stream",
     "text": [
      "/opt/anaconda3/lib/python3.11/site-packages/keras/src/layers/convolutional/base_conv.py:107: UserWarning: Do not pass an `input_shape`/`input_dim` argument to a layer. When using Sequential models, prefer using an `Input(shape)` object as the first layer in the model instead.\n",
      "  super().__init__(activity_regularizer=activity_regularizer, **kwargs)\n"
     ]
    },
    {
     "name": "stdout",
     "output_type": "stream",
     "text": [
      "\u001b[1m11/11\u001b[0m \u001b[32m━━━━━━━━━━━━━━━━━━━━\u001b[0m\u001b[37m\u001b[0m \u001b[1m0s\u001b[0m 10ms/step\n"
     ]
    },
    {
     "name": "stderr",
     "output_type": "stream",
     "text": [
      "/opt/anaconda3/lib/python3.11/site-packages/keras/src/layers/convolutional/base_conv.py:107: UserWarning: Do not pass an `input_shape`/`input_dim` argument to a layer. When using Sequential models, prefer using an `Input(shape)` object as the first layer in the model instead.\n",
      "  super().__init__(activity_regularizer=activity_regularizer, **kwargs)\n"
     ]
    },
    {
     "name": "stdout",
     "output_type": "stream",
     "text": [
      "\u001b[1m11/11\u001b[0m \u001b[32m━━━━━━━━━━━━━━━━━━━━\u001b[0m\u001b[37m\u001b[0m \u001b[1m0s\u001b[0m 11ms/step\n"
     ]
    },
    {
     "name": "stderr",
     "output_type": "stream",
     "text": [
      "/opt/anaconda3/lib/python3.11/site-packages/keras/src/layers/convolutional/base_conv.py:107: UserWarning: Do not pass an `input_shape`/`input_dim` argument to a layer. When using Sequential models, prefer using an `Input(shape)` object as the first layer in the model instead.\n",
      "  super().__init__(activity_regularizer=activity_regularizer, **kwargs)\n"
     ]
    },
    {
     "name": "stdout",
     "output_type": "stream",
     "text": [
      "\u001b[1m11/11\u001b[0m \u001b[32m━━━━━━━━━━━━━━━━━━━━\u001b[0m\u001b[37m\u001b[0m \u001b[1m0s\u001b[0m 16ms/step\n"
     ]
    },
    {
     "name": "stderr",
     "output_type": "stream",
     "text": [
      "/opt/anaconda3/lib/python3.11/site-packages/keras/src/layers/convolutional/base_conv.py:107: UserWarning: Do not pass an `input_shape`/`input_dim` argument to a layer. When using Sequential models, prefer using an `Input(shape)` object as the first layer in the model instead.\n",
      "  super().__init__(activity_regularizer=activity_regularizer, **kwargs)\n"
     ]
    },
    {
     "name": "stdout",
     "output_type": "stream",
     "text": [
      "\u001b[1m11/11\u001b[0m \u001b[32m━━━━━━━━━━━━━━━━━━━━\u001b[0m\u001b[37m\u001b[0m \u001b[1m0s\u001b[0m 16ms/step\n"
     ]
    },
    {
     "name": "stderr",
     "output_type": "stream",
     "text": [
      "/opt/anaconda3/lib/python3.11/site-packages/keras/src/layers/convolutional/base_conv.py:107: UserWarning: Do not pass an `input_shape`/`input_dim` argument to a layer. When using Sequential models, prefer using an `Input(shape)` object as the first layer in the model instead.\n",
      "  super().__init__(activity_regularizer=activity_regularizer, **kwargs)\n"
     ]
    },
    {
     "name": "stdout",
     "output_type": "stream",
     "text": [
      "\u001b[1m11/11\u001b[0m \u001b[32m━━━━━━━━━━━━━━━━━━━━\u001b[0m\u001b[37m\u001b[0m \u001b[1m0s\u001b[0m 14ms/step\n"
     ]
    },
    {
     "name": "stderr",
     "output_type": "stream",
     "text": [
      "/opt/anaconda3/lib/python3.11/site-packages/keras/src/layers/convolutional/base_conv.py:107: UserWarning: Do not pass an `input_shape`/`input_dim` argument to a layer. When using Sequential models, prefer using an `Input(shape)` object as the first layer in the model instead.\n",
      "  super().__init__(activity_regularizer=activity_regularizer, **kwargs)\n"
     ]
    },
    {
     "name": "stdout",
     "output_type": "stream",
     "text": [
      "\u001b[1m11/11\u001b[0m \u001b[32m━━━━━━━━━━━━━━━━━━━━\u001b[0m\u001b[37m\u001b[0m \u001b[1m0s\u001b[0m 12ms/step\n"
     ]
    },
    {
     "name": "stderr",
     "output_type": "stream",
     "text": [
      "/opt/anaconda3/lib/python3.11/site-packages/keras/src/layers/convolutional/base_conv.py:107: UserWarning: Do not pass an `input_shape`/`input_dim` argument to a layer. When using Sequential models, prefer using an `Input(shape)` object as the first layer in the model instead.\n",
      "  super().__init__(activity_regularizer=activity_regularizer, **kwargs)\n"
     ]
    },
    {
     "name": "stdout",
     "output_type": "stream",
     "text": [
      "\u001b[1m11/11\u001b[0m \u001b[32m━━━━━━━━━━━━━━━━━━━━\u001b[0m\u001b[37m\u001b[0m \u001b[1m0s\u001b[0m 12ms/step\n"
     ]
    },
    {
     "name": "stderr",
     "output_type": "stream",
     "text": [
      "/opt/anaconda3/lib/python3.11/site-packages/keras/src/layers/convolutional/base_conv.py:107: UserWarning: Do not pass an `input_shape`/`input_dim` argument to a layer. When using Sequential models, prefer using an `Input(shape)` object as the first layer in the model instead.\n",
      "  super().__init__(activity_regularizer=activity_regularizer, **kwargs)\n"
     ]
    },
    {
     "name": "stdout",
     "output_type": "stream",
     "text": [
      "\u001b[1m11/11\u001b[0m \u001b[32m━━━━━━━━━━━━━━━━━━━━\u001b[0m\u001b[37m\u001b[0m \u001b[1m0s\u001b[0m 12ms/step\n"
     ]
    },
    {
     "name": "stderr",
     "output_type": "stream",
     "text": [
      "/opt/anaconda3/lib/python3.11/site-packages/keras/src/layers/convolutional/base_conv.py:107: UserWarning: Do not pass an `input_shape`/`input_dim` argument to a layer. When using Sequential models, prefer using an `Input(shape)` object as the first layer in the model instead.\n",
      "  super().__init__(activity_regularizer=activity_regularizer, **kwargs)\n"
     ]
    },
    {
     "name": "stdout",
     "output_type": "stream",
     "text": [
      "\u001b[1m11/11\u001b[0m \u001b[32m━━━━━━━━━━━━━━━━━━━━\u001b[0m\u001b[37m\u001b[0m \u001b[1m0s\u001b[0m 13ms/step\n"
     ]
    },
    {
     "name": "stderr",
     "output_type": "stream",
     "text": [
      "/opt/anaconda3/lib/python3.11/site-packages/keras/src/layers/convolutional/base_conv.py:107: UserWarning: Do not pass an `input_shape`/`input_dim` argument to a layer. When using Sequential models, prefer using an `Input(shape)` object as the first layer in the model instead.\n",
      "  super().__init__(activity_regularizer=activity_regularizer, **kwargs)\n"
     ]
    },
    {
     "name": "stdout",
     "output_type": "stream",
     "text": [
      "\u001b[1m11/11\u001b[0m \u001b[32m━━━━━━━━━━━━━━━━━━━━\u001b[0m\u001b[37m\u001b[0m \u001b[1m0s\u001b[0m 13ms/step\n"
     ]
    },
    {
     "name": "stderr",
     "output_type": "stream",
     "text": [
      "/opt/anaconda3/lib/python3.11/site-packages/keras/src/layers/convolutional/base_conv.py:107: UserWarning: Do not pass an `input_shape`/`input_dim` argument to a layer. When using Sequential models, prefer using an `Input(shape)` object as the first layer in the model instead.\n",
      "  super().__init__(activity_regularizer=activity_regularizer, **kwargs)\n"
     ]
    },
    {
     "name": "stdout",
     "output_type": "stream",
     "text": [
      "\u001b[1m11/11\u001b[0m \u001b[32m━━━━━━━━━━━━━━━━━━━━\u001b[0m\u001b[37m\u001b[0m \u001b[1m0s\u001b[0m 11ms/step\n",
      "Average Mean Absolute Error: 779.1184852648188\n",
      "Average Root Mean Squared Error: 1203.6043168746883\n",
      "Average Mean Absolute Percentage Error: 1.9574717\n"
     ]
    }
   ],
   "source": [
    "# Fit the model 30 times and get average metrics for test data\n",
    "num_iterations = 30\n",
    "mae_list = []\n",
    "rmse_list = []\n",
    "mape_list = []\n",
    "\n",
    "for _ in range(num_iterations):\n",
    "    best_hps = tuner.get_best_hyperparameters()[0]\n",
    "    best_model = tuner.hypermodel.build(best_hps)\n",
    "\n",
    "    history = best_model.fit(\n",
    "        x_train_full, y_train_full,\n",
    "        epochs=250,\n",
    "        batch_size=32,\n",
    "        verbose=0\n",
    "    )\n",
    "\n",
    "    predictions = best_model.predict(X_test)\n",
    "\n",
    "    mae = mean_absolute_error(y_test, predictions)\n",
    "    rmse = np.sqrt(mean_squared_error(y_test, predictions))\n",
    "    mape = tf.keras.losses.MAPE(y_test, predictions)\n",
    "\n",
    "    mae_list.append(mae)\n",
    "    rmse_list.append(rmse)\n",
    "    mape_list.append(np.mean(mape))\n",
    "\n",
    "# Calculate the average metrics\n",
    "average_mae = np.mean(mae_list)\n",
    "average_rmse = np.mean(rmse_list)\n",
    "average_mape = np.mean(mape_list)\n",
    "\n",
    "# Print the average metrics\n",
    "print('Average Mean Absolute Error:', average_mae)\n",
    "print('Average Root Mean Squared Error:', average_rmse)\n",
    "print('Average Mean Absolute Percentage Error:', average_mape)"
   ]
  },
  {
   "cell_type": "code",
   "execution_count": 5,
   "metadata": {},
   "outputs": [
    {
     "name": "stdout",
     "output_type": "stream",
     "text": [
      "Epoch 1/250\n"
     ]
    },
    {
     "name": "stderr",
     "output_type": "stream",
     "text": [
      "/opt/anaconda3/lib/python3.11/site-packages/keras/src/layers/convolutional/base_conv.py:107: UserWarning: Do not pass an `input_shape`/`input_dim` argument to a layer. When using Sequential models, prefer using an `Input(shape)` object as the first layer in the model instead.\n",
      "  super().__init__(activity_regularizer=activity_regularizer, **kwargs)\n"
     ]
    },
    {
     "name": "stdout",
     "output_type": "stream",
     "text": [
      "\u001b[1m98/98\u001b[0m \u001b[32m━━━━━━━━━━━━━━━━━━━━\u001b[0m\u001b[37m\u001b[0m \u001b[1m2s\u001b[0m 5ms/step - loss: 423539456.0000 - mae: 13144.9072 - mean_absolute_percentage_error: 96.8179\n",
      "Epoch 2/250\n",
      "\u001b[1m98/98\u001b[0m \u001b[32m━━━━━━━━━━━━━━━━━━━━\u001b[0m\u001b[37m\u001b[0m \u001b[1m0s\u001b[0m 5ms/step - loss: 157340256.0000 - mae: 7361.5405 - mean_absolute_percentage_error: 54.5706\n",
      "Epoch 3/250\n",
      "\u001b[1m98/98\u001b[0m \u001b[32m━━━━━━━━━━━━━━━━━━━━\u001b[0m\u001b[37m\u001b[0m \u001b[1m0s\u001b[0m 4ms/step - loss: 2400363.5000 - mae: 791.2496 - mean_absolute_percentage_error: 6.1824\n",
      "Epoch 4/250\n",
      "\u001b[1m98/98\u001b[0m \u001b[32m━━━━━━━━━━━━━━━━━━━━\u001b[0m\u001b[37m\u001b[0m \u001b[1m0s\u001b[0m 4ms/step - loss: 2437431.0000 - mae: 794.0203 - mean_absolute_percentage_error: 5.9922\n",
      "Epoch 5/250\n",
      "\u001b[1m98/98\u001b[0m \u001b[32m━━━━━━━━━━━━━━━━━━━━\u001b[0m\u001b[37m\u001b[0m \u001b[1m0s\u001b[0m 4ms/step - loss: 2389348.7500 - mae: 789.8436 - mean_absolute_percentage_error: 5.9662\n",
      "Epoch 6/250\n",
      "\u001b[1m98/98\u001b[0m \u001b[32m━━━━━━━━━━━━━━━━━━━━\u001b[0m\u001b[37m\u001b[0m \u001b[1m0s\u001b[0m 5ms/step - loss: 2563038.2500 - mae: 793.3719 - mean_absolute_percentage_error: 5.8091\n",
      "Epoch 7/250\n",
      "\u001b[1m98/98\u001b[0m \u001b[32m━━━━━━━━━━━━━━━━━━━━\u001b[0m\u001b[37m\u001b[0m \u001b[1m0s\u001b[0m 4ms/step - loss: 2121407.7500 - mae: 752.7920 - mean_absolute_percentage_error: 5.7300\n",
      "Epoch 8/250\n",
      "\u001b[1m98/98\u001b[0m \u001b[32m━━━━━━━━━━━━━━━━━━━━\u001b[0m\u001b[37m\u001b[0m \u001b[1m0s\u001b[0m 4ms/step - loss: 2516935.7500 - mae: 807.2659 - mean_absolute_percentage_error: 5.8253\n",
      "Epoch 9/250\n",
      "\u001b[1m98/98\u001b[0m \u001b[32m━━━━━━━━━━━━━━━━━━━━\u001b[0m\u001b[37m\u001b[0m \u001b[1m0s\u001b[0m 4ms/step - loss: 2301655.5000 - mae: 770.7960 - mean_absolute_percentage_error: 5.7246\n",
      "Epoch 10/250\n",
      "\u001b[1m98/98\u001b[0m \u001b[32m━━━━━━━━━━━━━━━━━━━━\u001b[0m\u001b[37m\u001b[0m \u001b[1m0s\u001b[0m 4ms/step - loss: 2401814.0000 - mae: 767.0437 - mean_absolute_percentage_error: 5.4858\n",
      "Epoch 11/250\n",
      "\u001b[1m98/98\u001b[0m \u001b[32m━━━━━━━━━━━━━━━━━━━━\u001b[0m\u001b[37m\u001b[0m \u001b[1m0s\u001b[0m 4ms/step - loss: 2266542.5000 - mae: 752.8377 - mean_absolute_percentage_error: 5.6739\n",
      "Epoch 12/250\n",
      "\u001b[1m98/98\u001b[0m \u001b[32m━━━━━━━━━━━━━━━━━━━━\u001b[0m\u001b[37m\u001b[0m \u001b[1m0s\u001b[0m 5ms/step - loss: 2338462.5000 - mae: 780.5583 - mean_absolute_percentage_error: 5.7545\n",
      "Epoch 13/250\n",
      "\u001b[1m98/98\u001b[0m \u001b[32m━━━━━━━━━━━━━━━━━━━━\u001b[0m\u001b[37m\u001b[0m \u001b[1m0s\u001b[0m 4ms/step - loss: 2804549.7500 - mae: 830.3131 - mean_absolute_percentage_error: 5.6943\n",
      "Epoch 14/250\n",
      "\u001b[1m98/98\u001b[0m \u001b[32m━━━━━━━━━━━━━━━━━━━━\u001b[0m\u001b[37m\u001b[0m \u001b[1m0s\u001b[0m 4ms/step - loss: 2143771.0000 - mae: 761.1425 - mean_absolute_percentage_error: 5.6835\n",
      "Epoch 15/250\n",
      "\u001b[1m98/98\u001b[0m \u001b[32m━━━━━━━━━━━━━━━━━━━━\u001b[0m\u001b[37m\u001b[0m \u001b[1m0s\u001b[0m 5ms/step - loss: 2047289.0000 - mae: 737.1242 - mean_absolute_percentage_error: 5.4867\n",
      "Epoch 16/250\n",
      "\u001b[1m98/98\u001b[0m \u001b[32m━━━━━━━━━━━━━━━━━━━━\u001b[0m\u001b[37m\u001b[0m \u001b[1m0s\u001b[0m 5ms/step - loss: 2233472.7500 - mae: 772.9921 - mean_absolute_percentage_error: 5.6832\n",
      "Epoch 17/250\n",
      "\u001b[1m98/98\u001b[0m \u001b[32m━━━━━━━━━━━━━━━━━━━━\u001b[0m\u001b[37m\u001b[0m \u001b[1m0s\u001b[0m 4ms/step - loss: 2161492.7500 - mae: 743.6026 - mean_absolute_percentage_error: 5.4583\n",
      "Epoch 18/250\n",
      "\u001b[1m98/98\u001b[0m \u001b[32m━━━━━━━━━━━━━━━━━━━━\u001b[0m\u001b[37m\u001b[0m \u001b[1m0s\u001b[0m 4ms/step - loss: 2136153.5000 - mae: 732.8105 - mean_absolute_percentage_error: 5.4157\n",
      "Epoch 19/250\n",
      "\u001b[1m98/98\u001b[0m \u001b[32m━━━━━━━━━━━━━━━━━━━━\u001b[0m\u001b[37m\u001b[0m \u001b[1m0s\u001b[0m 4ms/step - loss: 2095784.0000 - mae: 743.0068 - mean_absolute_percentage_error: 5.6232\n",
      "Epoch 20/250\n",
      "\u001b[1m98/98\u001b[0m \u001b[32m━━━━━━━━━━━━━━━━━━━━\u001b[0m\u001b[37m\u001b[0m \u001b[1m1s\u001b[0m 5ms/step - loss: 2205502.0000 - mae: 731.1395 - mean_absolute_percentage_error: 5.3182\n",
      "Epoch 21/250\n",
      "\u001b[1m98/98\u001b[0m \u001b[32m━━━━━━━━━━━━━━━━━━━━\u001b[0m\u001b[37m\u001b[0m \u001b[1m0s\u001b[0m 5ms/step - loss: 1905743.6250 - mae: 716.8275 - mean_absolute_percentage_error: 5.3983\n",
      "Epoch 22/250\n",
      "\u001b[1m98/98\u001b[0m \u001b[32m━━━━━━━━━━━━━━━━━━━━\u001b[0m\u001b[37m\u001b[0m \u001b[1m0s\u001b[0m 4ms/step - loss: 2025296.2500 - mae: 724.4174 - mean_absolute_percentage_error: 5.3991\n",
      "Epoch 23/250\n",
      "\u001b[1m98/98\u001b[0m \u001b[32m━━━━━━━━━━━━━━━━━━━━\u001b[0m\u001b[37m\u001b[0m \u001b[1m0s\u001b[0m 5ms/step - loss: 2209903.0000 - mae: 743.7690 - mean_absolute_percentage_error: 5.4114\n",
      "Epoch 24/250\n",
      "\u001b[1m98/98\u001b[0m \u001b[32m━━━━━━━━━━━━━━━━━━━━\u001b[0m\u001b[37m\u001b[0m \u001b[1m0s\u001b[0m 4ms/step - loss: 2233638.7500 - mae: 755.4280 - mean_absolute_percentage_error: 5.5629\n",
      "Epoch 25/250\n",
      "\u001b[1m98/98\u001b[0m \u001b[32m━━━━━━━━━━━━━━━━━━━━\u001b[0m\u001b[37m\u001b[0m \u001b[1m0s\u001b[0m 4ms/step - loss: 1966172.0000 - mae: 722.4956 - mean_absolute_percentage_error: 5.4138\n",
      "Epoch 26/250\n",
      "\u001b[1m98/98\u001b[0m \u001b[32m━━━━━━━━━━━━━━━━━━━━\u001b[0m\u001b[37m\u001b[0m \u001b[1m0s\u001b[0m 4ms/step - loss: 1922290.0000 - mae: 696.8232 - mean_absolute_percentage_error: 5.3079\n",
      "Epoch 27/250\n",
      "\u001b[1m98/98\u001b[0m \u001b[32m━━━━━━━━━━━━━━━━━━━━\u001b[0m\u001b[37m\u001b[0m \u001b[1m0s\u001b[0m 4ms/step - loss: 2006573.6250 - mae: 732.6832 - mean_absolute_percentage_error: 5.2281\n",
      "Epoch 28/250\n",
      "\u001b[1m98/98\u001b[0m \u001b[32m━━━━━━━━━━━━━━━━━━━━\u001b[0m\u001b[37m\u001b[0m \u001b[1m0s\u001b[0m 4ms/step - loss: 2242585.7500 - mae: 728.2850 - mean_absolute_percentage_error: 5.2438\n",
      "Epoch 29/250\n",
      "\u001b[1m98/98\u001b[0m \u001b[32m━━━━━━━━━━━━━━━━━━━━\u001b[0m\u001b[37m\u001b[0m \u001b[1m0s\u001b[0m 4ms/step - loss: 2080257.7500 - mae: 715.0923 - mean_absolute_percentage_error: 5.1735\n",
      "Epoch 30/250\n",
      "\u001b[1m98/98\u001b[0m \u001b[32m━━━━━━━━━━━━━━━━━━━━\u001b[0m\u001b[37m\u001b[0m \u001b[1m0s\u001b[0m 4ms/step - loss: 2008725.3750 - mae: 710.5194 - mean_absolute_percentage_error: 5.1839\n",
      "Epoch 31/250\n",
      "\u001b[1m98/98\u001b[0m \u001b[32m━━━━━━━━━━━━━━━━━━━━\u001b[0m\u001b[37m\u001b[0m \u001b[1m0s\u001b[0m 4ms/step - loss: 1992701.7500 - mae: 707.5413 - mean_absolute_percentage_error: 5.2331\n",
      "Epoch 32/250\n",
      "\u001b[1m98/98\u001b[0m \u001b[32m━━━━━━━━━━━━━━━━━━━━\u001b[0m\u001b[37m\u001b[0m \u001b[1m0s\u001b[0m 4ms/step - loss: 1927770.8750 - mae: 710.6090 - mean_absolute_percentage_error: 5.2173\n",
      "Epoch 33/250\n",
      "\u001b[1m98/98\u001b[0m \u001b[32m━━━━━━━━━━━━━━━━━━━━\u001b[0m\u001b[37m\u001b[0m \u001b[1m0s\u001b[0m 4ms/step - loss: 2154744.5000 - mae: 753.7682 - mean_absolute_percentage_error: 5.3029\n",
      "Epoch 34/250\n",
      "\u001b[1m98/98\u001b[0m \u001b[32m━━━━━━━━━━━━━━━━━━━━\u001b[0m\u001b[37m\u001b[0m \u001b[1m0s\u001b[0m 4ms/step - loss: 2182842.2500 - mae: 730.0629 - mean_absolute_percentage_error: 5.2212\n",
      "Epoch 35/250\n",
      "\u001b[1m98/98\u001b[0m \u001b[32m━━━━━━━━━━━━━━━━━━━━\u001b[0m\u001b[37m\u001b[0m \u001b[1m0s\u001b[0m 4ms/step - loss: 1834636.2500 - mae: 676.8522 - mean_absolute_percentage_error: 5.0584\n",
      "Epoch 36/250\n",
      "\u001b[1m98/98\u001b[0m \u001b[32m━━━━━━━━━━━━━━━━━━━━\u001b[0m\u001b[37m\u001b[0m \u001b[1m0s\u001b[0m 4ms/step - loss: 2220201.0000 - mae: 729.9530 - mean_absolute_percentage_error: 5.1847\n",
      "Epoch 37/250\n",
      "\u001b[1m98/98\u001b[0m \u001b[32m━━━━━━━━━━━━━━━━━━━━\u001b[0m\u001b[37m\u001b[0m \u001b[1m0s\u001b[0m 4ms/step - loss: 2008487.6250 - mae: 691.4794 - mean_absolute_percentage_error: 5.0776\n",
      "Epoch 38/250\n",
      "\u001b[1m98/98\u001b[0m \u001b[32m━━━━━━━━━━━━━━━━━━━━\u001b[0m\u001b[37m\u001b[0m \u001b[1m0s\u001b[0m 4ms/step - loss: 1838199.7500 - mae: 684.5593 - mean_absolute_percentage_error: 5.0815\n",
      "Epoch 39/250\n",
      "\u001b[1m98/98\u001b[0m \u001b[32m━━━━━━━━━━━━━━━━━━━━\u001b[0m\u001b[37m\u001b[0m \u001b[1m0s\u001b[0m 4ms/step - loss: 1784618.6250 - mae: 670.7737 - mean_absolute_percentage_error: 5.0993\n",
      "Epoch 40/250\n",
      "\u001b[1m98/98\u001b[0m \u001b[32m━━━━━━━━━━━━━━━━━━━━\u001b[0m\u001b[37m\u001b[0m \u001b[1m0s\u001b[0m 4ms/step - loss: 1757966.1250 - mae: 669.6305 - mean_absolute_percentage_error: 4.9754\n",
      "Epoch 41/250\n",
      "\u001b[1m98/98\u001b[0m \u001b[32m━━━━━━━━━━━━━━━━━━━━\u001b[0m\u001b[37m\u001b[0m \u001b[1m0s\u001b[0m 4ms/step - loss: 2286423.0000 - mae: 727.7316 - mean_absolute_percentage_error: 5.0802\n",
      "Epoch 42/250\n",
      "\u001b[1m98/98\u001b[0m \u001b[32m━━━━━━━━━━━━━━━━━━━━\u001b[0m\u001b[37m\u001b[0m \u001b[1m0s\u001b[0m 4ms/step - loss: 1859346.3750 - mae: 703.0373 - mean_absolute_percentage_error: 5.1117\n",
      "Epoch 43/250\n",
      "\u001b[1m98/98\u001b[0m \u001b[32m━━━━━━━━━━━━━━━━━━━━\u001b[0m\u001b[37m\u001b[0m \u001b[1m0s\u001b[0m 4ms/step - loss: 1812938.7500 - mae: 688.7908 - mean_absolute_percentage_error: 5.1973\n",
      "Epoch 44/250\n",
      "\u001b[1m98/98\u001b[0m \u001b[32m━━━━━━━━━━━━━━━━━━━━\u001b[0m\u001b[37m\u001b[0m \u001b[1m0s\u001b[0m 4ms/step - loss: 1846738.0000 - mae: 701.3002 - mean_absolute_percentage_error: 4.9707\n",
      "Epoch 45/250\n",
      "\u001b[1m98/98\u001b[0m \u001b[32m━━━━━━━━━━━━━━━━━━━━\u001b[0m\u001b[37m\u001b[0m \u001b[1m1s\u001b[0m 5ms/step - loss: 1902146.1250 - mae: 687.3568 - mean_absolute_percentage_error: 5.0149\n",
      "Epoch 46/250\n",
      "\u001b[1m98/98\u001b[0m \u001b[32m━━━━━━━━━━━━━━━━━━━━\u001b[0m\u001b[37m\u001b[0m \u001b[1m0s\u001b[0m 4ms/step - loss: 2076118.1250 - mae: 713.5836 - mean_absolute_percentage_error: 5.1446\n",
      "Epoch 47/250\n",
      "\u001b[1m98/98\u001b[0m \u001b[32m━━━━━━━━━━━━━━━━━━━━\u001b[0m\u001b[37m\u001b[0m \u001b[1m0s\u001b[0m 4ms/step - loss: 1702327.0000 - mae: 663.2364 - mean_absolute_percentage_error: 5.0681\n",
      "Epoch 48/250\n",
      "\u001b[1m98/98\u001b[0m \u001b[32m━━━━━━━━━━━━━━━━━━━━\u001b[0m\u001b[37m\u001b[0m \u001b[1m0s\u001b[0m 4ms/step - loss: 1722909.2500 - mae: 664.4271 - mean_absolute_percentage_error: 4.7865\n",
      "Epoch 49/250\n",
      "\u001b[1m98/98\u001b[0m \u001b[32m━━━━━━━━━━━━━━━━━━━━\u001b[0m\u001b[37m\u001b[0m \u001b[1m0s\u001b[0m 4ms/step - loss: 1837220.3750 - mae: 682.5596 - mean_absolute_percentage_error: 5.0460\n",
      "Epoch 50/250\n",
      "\u001b[1m98/98\u001b[0m \u001b[32m━━━━━━━━━━━━━━━━━━━━\u001b[0m\u001b[37m\u001b[0m \u001b[1m0s\u001b[0m 4ms/step - loss: 1715897.6250 - mae: 669.5547 - mean_absolute_percentage_error: 5.0058\n",
      "Epoch 51/250\n",
      "\u001b[1m98/98\u001b[0m \u001b[32m━━━━━━━━━━━━━━━━━━━━\u001b[0m\u001b[37m\u001b[0m \u001b[1m0s\u001b[0m 4ms/step - loss: 1705865.1250 - mae: 657.5937 - mean_absolute_percentage_error: 4.9044\n",
      "Epoch 52/250\n",
      "\u001b[1m98/98\u001b[0m \u001b[32m━━━━━━━━━━━━━━━━━━━━\u001b[0m\u001b[37m\u001b[0m \u001b[1m0s\u001b[0m 4ms/step - loss: 1939415.0000 - mae: 694.0717 - mean_absolute_percentage_error: 4.8713\n",
      "Epoch 53/250\n",
      "\u001b[1m98/98\u001b[0m \u001b[32m━━━━━━━━━━━━━━━━━━━━\u001b[0m\u001b[37m\u001b[0m \u001b[1m0s\u001b[0m 4ms/step - loss: 1927834.5000 - mae: 684.8809 - mean_absolute_percentage_error: 4.9084\n",
      "Epoch 54/250\n",
      "\u001b[1m98/98\u001b[0m \u001b[32m━━━━━━━━━━━━━━━━━━━━\u001b[0m\u001b[37m\u001b[0m \u001b[1m0s\u001b[0m 4ms/step - loss: 1811778.7500 - mae: 672.7532 - mean_absolute_percentage_error: 4.8172\n",
      "Epoch 55/250\n",
      "\u001b[1m98/98\u001b[0m \u001b[32m━━━━━━━━━━━━━━━━━━━━\u001b[0m\u001b[37m\u001b[0m \u001b[1m0s\u001b[0m 4ms/step - loss: 1811638.1250 - mae: 678.2582 - mean_absolute_percentage_error: 5.1214\n",
      "Epoch 56/250\n",
      "\u001b[1m98/98\u001b[0m \u001b[32m━━━━━━━━━━━━━━━━━━━━\u001b[0m\u001b[37m\u001b[0m \u001b[1m0s\u001b[0m 4ms/step - loss: 1894047.5000 - mae: 683.1151 - mean_absolute_percentage_error: 4.8745\n",
      "Epoch 57/250\n",
      "\u001b[1m98/98\u001b[0m \u001b[32m━━━━━━━━━━━━━━━━━━━━\u001b[0m\u001b[37m\u001b[0m \u001b[1m0s\u001b[0m 4ms/step - loss: 1733099.1250 - mae: 661.1821 - mean_absolute_percentage_error: 4.8378\n",
      "Epoch 58/250\n",
      "\u001b[1m98/98\u001b[0m \u001b[32m━━━━━━━━━━━━━━━━━━━━\u001b[0m\u001b[37m\u001b[0m \u001b[1m0s\u001b[0m 4ms/step - loss: 1848730.6250 - mae: 664.5816 - mean_absolute_percentage_error: 4.8742\n",
      "Epoch 59/250\n",
      "\u001b[1m98/98\u001b[0m \u001b[32m━━━━━━━━━━━━━━━━━━━━\u001b[0m\u001b[37m\u001b[0m \u001b[1m0s\u001b[0m 4ms/step - loss: 1807822.6250 - mae: 684.6177 - mean_absolute_percentage_error: 4.9262\n",
      "Epoch 60/250\n",
      "\u001b[1m98/98\u001b[0m \u001b[32m━━━━━━━━━━━━━━━━━━━━\u001b[0m\u001b[37m\u001b[0m \u001b[1m0s\u001b[0m 4ms/step - loss: 1694386.7500 - mae: 655.9109 - mean_absolute_percentage_error: 4.7217\n",
      "Epoch 61/250\n",
      "\u001b[1m98/98\u001b[0m \u001b[32m━━━━━━━━━━━━━━━━━━━━\u001b[0m\u001b[37m\u001b[0m \u001b[1m0s\u001b[0m 4ms/step - loss: 1842569.6250 - mae: 692.9645 - mean_absolute_percentage_error: 4.9561\n",
      "Epoch 62/250\n",
      "\u001b[1m98/98\u001b[0m \u001b[32m━━━━━━━━━━━━━━━━━━━━\u001b[0m\u001b[37m\u001b[0m \u001b[1m0s\u001b[0m 4ms/step - loss: 1733228.6250 - mae: 662.0912 - mean_absolute_percentage_error: 4.9631\n",
      "Epoch 63/250\n",
      "\u001b[1m98/98\u001b[0m \u001b[32m━━━━━━━━━━━━━━━━━━━━\u001b[0m\u001b[37m\u001b[0m \u001b[1m0s\u001b[0m 4ms/step - loss: 1955825.1250 - mae: 688.6306 - mean_absolute_percentage_error: 4.8607\n",
      "Epoch 64/250\n",
      "\u001b[1m98/98\u001b[0m \u001b[32m━━━━━━━━━━━━━━━━━━━━\u001b[0m\u001b[37m\u001b[0m \u001b[1m0s\u001b[0m 4ms/step - loss: 1829357.5000 - mae: 677.9596 - mean_absolute_percentage_error: 4.9999\n",
      "Epoch 65/250\n",
      "\u001b[1m98/98\u001b[0m \u001b[32m━━━━━━━━━━━━━━━━━━━━\u001b[0m\u001b[37m\u001b[0m \u001b[1m0s\u001b[0m 4ms/step - loss: 1878670.3750 - mae: 682.6519 - mean_absolute_percentage_error: 4.7738\n",
      "Epoch 66/250\n",
      "\u001b[1m98/98\u001b[0m \u001b[32m━━━━━━━━━━━━━━━━━━━━\u001b[0m\u001b[37m\u001b[0m \u001b[1m0s\u001b[0m 4ms/step - loss: 1724749.0000 - mae: 674.2928 - mean_absolute_percentage_error: 4.9504\n",
      "Epoch 67/250\n",
      "\u001b[1m98/98\u001b[0m \u001b[32m━━━━━━━━━━━━━━━━━━━━\u001b[0m\u001b[37m\u001b[0m \u001b[1m0s\u001b[0m 4ms/step - loss: 1674400.2500 - mae: 654.9550 - mean_absolute_percentage_error: 4.8430\n",
      "Epoch 68/250\n",
      "\u001b[1m98/98\u001b[0m \u001b[32m━━━━━━━━━━━━━━━━━━━━\u001b[0m\u001b[37m\u001b[0m \u001b[1m0s\u001b[0m 4ms/step - loss: 1849560.5000 - mae: 678.9474 - mean_absolute_percentage_error: 4.7485\n",
      "Epoch 69/250\n",
      "\u001b[1m98/98\u001b[0m \u001b[32m━━━━━━━━━━━━━━━━━━━━\u001b[0m\u001b[37m\u001b[0m \u001b[1m0s\u001b[0m 4ms/step - loss: 1664191.1250 - mae: 642.4338 - mean_absolute_percentage_error: 4.7133\n",
      "Epoch 70/250\n",
      "\u001b[1m98/98\u001b[0m \u001b[32m━━━━━━━━━━━━━━━━━━━━\u001b[0m\u001b[37m\u001b[0m \u001b[1m0s\u001b[0m 5ms/step - loss: 1845084.3750 - mae: 690.0819 - mean_absolute_percentage_error: 4.9602\n",
      "Epoch 71/250\n",
      "\u001b[1m98/98\u001b[0m \u001b[32m━━━━━━━━━━━━━━━━━━━━\u001b[0m\u001b[37m\u001b[0m \u001b[1m0s\u001b[0m 4ms/step - loss: 1727710.8750 - mae: 665.2573 - mean_absolute_percentage_error: 4.9101\n",
      "Epoch 72/250\n",
      "\u001b[1m98/98\u001b[0m \u001b[32m━━━━━━━━━━━━━━━━━━━━\u001b[0m\u001b[37m\u001b[0m \u001b[1m0s\u001b[0m 4ms/step - loss: 1738725.5000 - mae: 668.1699 - mean_absolute_percentage_error: 4.9879\n",
      "Epoch 73/250\n",
      "\u001b[1m98/98\u001b[0m \u001b[32m━━━━━━━━━━━━━━━━━━━━\u001b[0m\u001b[37m\u001b[0m \u001b[1m0s\u001b[0m 4ms/step - loss: 2070703.0000 - mae: 698.5739 - mean_absolute_percentage_error: 4.9700\n",
      "Epoch 74/250\n",
      "\u001b[1m98/98\u001b[0m \u001b[32m━━━━━━━━━━━━━━━━━━━━\u001b[0m\u001b[37m\u001b[0m \u001b[1m0s\u001b[0m 4ms/step - loss: 1516645.6250 - mae: 633.2930 - mean_absolute_percentage_error: 4.8038\n",
      "Epoch 75/250\n",
      "\u001b[1m98/98\u001b[0m \u001b[32m━━━━━━━━━━━━━━━━━━━━\u001b[0m\u001b[37m\u001b[0m \u001b[1m0s\u001b[0m 4ms/step - loss: 1672835.7500 - mae: 667.0901 - mean_absolute_percentage_error: 4.8816\n",
      "Epoch 76/250\n",
      "\u001b[1m98/98\u001b[0m \u001b[32m━━━━━━━━━━━━━━━━━━━━\u001b[0m\u001b[37m\u001b[0m \u001b[1m0s\u001b[0m 4ms/step - loss: 1708029.2500 - mae: 661.7125 - mean_absolute_percentage_error: 4.9311\n",
      "Epoch 77/250\n",
      "\u001b[1m98/98\u001b[0m \u001b[32m━━━━━━━━━━━━━━━━━━━━\u001b[0m\u001b[37m\u001b[0m \u001b[1m0s\u001b[0m 4ms/step - loss: 1633495.2500 - mae: 651.1357 - mean_absolute_percentage_error: 4.7688\n",
      "Epoch 78/250\n",
      "\u001b[1m98/98\u001b[0m \u001b[32m━━━━━━━━━━━━━━━━━━━━\u001b[0m\u001b[37m\u001b[0m \u001b[1m0s\u001b[0m 4ms/step - loss: 1753480.5000 - mae: 646.2477 - mean_absolute_percentage_error: 4.6729\n",
      "Epoch 79/250\n",
      "\u001b[1m98/98\u001b[0m \u001b[32m━━━━━━━━━━━━━━━━━━━━\u001b[0m\u001b[37m\u001b[0m \u001b[1m0s\u001b[0m 4ms/step - loss: 1802030.0000 - mae: 678.2571 - mean_absolute_percentage_error: 4.9348\n",
      "Epoch 80/250\n",
      "\u001b[1m98/98\u001b[0m \u001b[32m━━━━━━━━━━━━━━━━━━━━\u001b[0m\u001b[37m\u001b[0m \u001b[1m0s\u001b[0m 4ms/step - loss: 1652819.2500 - mae: 651.3270 - mean_absolute_percentage_error: 4.9880\n",
      "Epoch 81/250\n",
      "\u001b[1m98/98\u001b[0m \u001b[32m━━━━━━━━━━━━━━━━━━━━\u001b[0m\u001b[37m\u001b[0m \u001b[1m0s\u001b[0m 4ms/step - loss: 1930773.6250 - mae: 670.0976 - mean_absolute_percentage_error: 4.8058\n",
      "Epoch 82/250\n",
      "\u001b[1m98/98\u001b[0m \u001b[32m━━━━━━━━━━━━━━━━━━━━\u001b[0m\u001b[37m\u001b[0m \u001b[1m0s\u001b[0m 4ms/step - loss: 1789802.8750 - mae: 680.0636 - mean_absolute_percentage_error: 4.8527\n",
      "Epoch 83/250\n",
      "\u001b[1m98/98\u001b[0m \u001b[32m━━━━━━━━━━━━━━━━━━━━\u001b[0m\u001b[37m\u001b[0m \u001b[1m0s\u001b[0m 4ms/step - loss: 1779519.8750 - mae: 672.1052 - mean_absolute_percentage_error: 4.8361\n",
      "Epoch 84/250\n",
      "\u001b[1m98/98\u001b[0m \u001b[32m━━━━━━━━━━━━━━━━━━━━\u001b[0m\u001b[37m\u001b[0m \u001b[1m0s\u001b[0m 4ms/step - loss: 1628979.1250 - mae: 654.0232 - mean_absolute_percentage_error: 4.7793\n",
      "Epoch 85/250\n",
      "\u001b[1m98/98\u001b[0m \u001b[32m━━━━━━━━━━━━━━━━━━━━\u001b[0m\u001b[37m\u001b[0m \u001b[1m0s\u001b[0m 4ms/step - loss: 1628331.7500 - mae: 649.7712 - mean_absolute_percentage_error: 4.7438\n",
      "Epoch 86/250\n",
      "\u001b[1m98/98\u001b[0m \u001b[32m━━━━━━━━━━━━━━━━━━━━\u001b[0m\u001b[37m\u001b[0m \u001b[1m0s\u001b[0m 4ms/step - loss: 1585660.3750 - mae: 637.8879 - mean_absolute_percentage_error: 4.7484\n",
      "Epoch 87/250\n",
      "\u001b[1m98/98\u001b[0m \u001b[32m━━━━━━━━━━━━━━━━━━━━\u001b[0m\u001b[37m\u001b[0m \u001b[1m0s\u001b[0m 4ms/step - loss: 1622299.7500 - mae: 644.8318 - mean_absolute_percentage_error: 4.8382\n",
      "Epoch 88/250\n",
      "\u001b[1m98/98\u001b[0m \u001b[32m━━━━━━━━━━━━━━━━━━━━\u001b[0m\u001b[37m\u001b[0m \u001b[1m0s\u001b[0m 4ms/step - loss: 1594209.0000 - mae: 626.8149 - mean_absolute_percentage_error: 4.6654\n",
      "Epoch 89/250\n",
      "\u001b[1m98/98\u001b[0m \u001b[32m━━━━━━━━━━━━━━━━━━━━\u001b[0m\u001b[37m\u001b[0m \u001b[1m0s\u001b[0m 4ms/step - loss: 1667022.0000 - mae: 655.8130 - mean_absolute_percentage_error: 4.9516\n",
      "Epoch 90/250\n",
      "\u001b[1m98/98\u001b[0m \u001b[32m━━━━━━━━━━━━━━━━━━━━\u001b[0m\u001b[37m\u001b[0m \u001b[1m0s\u001b[0m 4ms/step - loss: 1724061.7500 - mae: 656.9919 - mean_absolute_percentage_error: 4.8455\n",
      "Epoch 91/250\n",
      "\u001b[1m98/98\u001b[0m \u001b[32m━━━━━━━━━━━━━━━━━━━━\u001b[0m\u001b[37m\u001b[0m \u001b[1m0s\u001b[0m 4ms/step - loss: 1661099.0000 - mae: 638.6072 - mean_absolute_percentage_error: 4.6537\n",
      "Epoch 92/250\n",
      "\u001b[1m98/98\u001b[0m \u001b[32m━━━━━━━━━━━━━━━━━━━━\u001b[0m\u001b[37m\u001b[0m \u001b[1m0s\u001b[0m 4ms/step - loss: 1851886.8750 - mae: 678.0947 - mean_absolute_percentage_error: 4.8860\n",
      "Epoch 93/250\n",
      "\u001b[1m98/98\u001b[0m \u001b[32m━━━━━━━━━━━━━━━━━━━━\u001b[0m\u001b[37m\u001b[0m \u001b[1m0s\u001b[0m 4ms/step - loss: 1556379.7500 - mae: 625.6964 - mean_absolute_percentage_error: 4.6485\n",
      "Epoch 94/250\n",
      "\u001b[1m98/98\u001b[0m \u001b[32m━━━━━━━━━━━━━━━━━━━━\u001b[0m\u001b[37m\u001b[0m \u001b[1m0s\u001b[0m 4ms/step - loss: 1711998.6250 - mae: 657.8640 - mean_absolute_percentage_error: 4.8194\n",
      "Epoch 95/250\n",
      "\u001b[1m98/98\u001b[0m \u001b[32m━━━━━━━━━━━━━━━━━━━━\u001b[0m\u001b[37m\u001b[0m \u001b[1m0s\u001b[0m 4ms/step - loss: 1672969.7500 - mae: 645.8384 - mean_absolute_percentage_error: 4.7850\n",
      "Epoch 96/250\n",
      "\u001b[1m98/98\u001b[0m \u001b[32m━━━━━━━━━━━━━━━━━━━━\u001b[0m\u001b[37m\u001b[0m \u001b[1m0s\u001b[0m 4ms/step - loss: 1676531.8750 - mae: 658.7355 - mean_absolute_percentage_error: 4.7212\n",
      "Epoch 97/250\n",
      "\u001b[1m98/98\u001b[0m \u001b[32m━━━━━━━━━━━━━━━━━━━━\u001b[0m\u001b[37m\u001b[0m \u001b[1m0s\u001b[0m 4ms/step - loss: 1724413.0000 - mae: 670.8508 - mean_absolute_percentage_error: 5.0138\n",
      "Epoch 98/250\n",
      "\u001b[1m98/98\u001b[0m \u001b[32m━━━━━━━━━━━━━━━━━━━━\u001b[0m\u001b[37m\u001b[0m \u001b[1m0s\u001b[0m 4ms/step - loss: 1911535.2500 - mae: 678.8322 - mean_absolute_percentage_error: 4.7516\n",
      "Epoch 99/250\n",
      "\u001b[1m98/98\u001b[0m \u001b[32m━━━━━━━━━━━━━━━━━━━━\u001b[0m\u001b[37m\u001b[0m \u001b[1m0s\u001b[0m 4ms/step - loss: 1802768.1250 - mae: 670.9091 - mean_absolute_percentage_error: 4.8037\n",
      "Epoch 100/250\n",
      "\u001b[1m98/98\u001b[0m \u001b[32m━━━━━━━━━━━━━━━━━━━━\u001b[0m\u001b[37m\u001b[0m \u001b[1m0s\u001b[0m 4ms/step - loss: 1614162.8750 - mae: 652.1808 - mean_absolute_percentage_error: 4.7256\n",
      "Epoch 101/250\n",
      "\u001b[1m98/98\u001b[0m \u001b[32m━━━━━━━━━━━━━━━━━━━━\u001b[0m\u001b[37m\u001b[0m \u001b[1m0s\u001b[0m 4ms/step - loss: 1621609.1250 - mae: 652.9904 - mean_absolute_percentage_error: 4.8367\n",
      "Epoch 102/250\n",
      "\u001b[1m98/98\u001b[0m \u001b[32m━━━━━━━━━━━━━━━━━━━━\u001b[0m\u001b[37m\u001b[0m \u001b[1m0s\u001b[0m 4ms/step - loss: 1582004.2500 - mae: 631.8863 - mean_absolute_percentage_error: 4.6351\n",
      "Epoch 103/250\n",
      "\u001b[1m98/98\u001b[0m \u001b[32m━━━━━━━━━━━━━━━━━━━━\u001b[0m\u001b[37m\u001b[0m \u001b[1m0s\u001b[0m 4ms/step - loss: 1733266.1250 - mae: 667.9481 - mean_absolute_percentage_error: 4.8906\n",
      "Epoch 104/250\n",
      "\u001b[1m98/98\u001b[0m \u001b[32m━━━━━━━━━━━━━━━━━━━━\u001b[0m\u001b[37m\u001b[0m \u001b[1m0s\u001b[0m 4ms/step - loss: 1786601.2500 - mae: 666.9685 - mean_absolute_percentage_error: 4.8674\n",
      "Epoch 105/250\n",
      "\u001b[1m98/98\u001b[0m \u001b[32m━━━━━━━━━━━━━━━━━━━━\u001b[0m\u001b[37m\u001b[0m \u001b[1m0s\u001b[0m 4ms/step - loss: 1437986.7500 - mae: 629.9343 - mean_absolute_percentage_error: 4.8366\n",
      "Epoch 106/250\n",
      "\u001b[1m98/98\u001b[0m \u001b[32m━━━━━━━━━━━━━━━━━━━━\u001b[0m\u001b[37m\u001b[0m \u001b[1m0s\u001b[0m 4ms/step - loss: 1585132.1250 - mae: 636.1915 - mean_absolute_percentage_error: 4.6696\n",
      "Epoch 107/250\n",
      "\u001b[1m98/98\u001b[0m \u001b[32m━━━━━━━━━━━━━━━━━━━━\u001b[0m\u001b[37m\u001b[0m \u001b[1m0s\u001b[0m 4ms/step - loss: 1846486.7500 - mae: 668.3185 - mean_absolute_percentage_error: 4.8087\n",
      "Epoch 108/250\n",
      "\u001b[1m98/98\u001b[0m \u001b[32m━━━━━━━━━━━━━━━━━━━━\u001b[0m\u001b[37m\u001b[0m \u001b[1m0s\u001b[0m 4ms/step - loss: 1770993.0000 - mae: 666.3885 - mean_absolute_percentage_error: 4.8193\n",
      "Epoch 109/250\n",
      "\u001b[1m98/98\u001b[0m \u001b[32m━━━━━━━━━━━━━━━━━━━━\u001b[0m\u001b[37m\u001b[0m \u001b[1m0s\u001b[0m 4ms/step - loss: 1559600.0000 - mae: 642.4080 - mean_absolute_percentage_error: 4.7635\n",
      "Epoch 110/250\n",
      "\u001b[1m98/98\u001b[0m \u001b[32m━━━━━━━━━━━━━━━━━━━━\u001b[0m\u001b[37m\u001b[0m \u001b[1m0s\u001b[0m 5ms/step - loss: 1754644.3750 - mae: 643.9301 - mean_absolute_percentage_error: 4.6447\n",
      "Epoch 111/250\n",
      "\u001b[1m98/98\u001b[0m \u001b[32m━━━━━━━━━━━━━━━━━━━━\u001b[0m\u001b[37m\u001b[0m \u001b[1m1s\u001b[0m 5ms/step - loss: 1670344.7500 - mae: 649.9092 - mean_absolute_percentage_error: 4.8130\n",
      "Epoch 112/250\n",
      "\u001b[1m98/98\u001b[0m \u001b[32m━━━━━━━━━━━━━━━━━━━━\u001b[0m\u001b[37m\u001b[0m \u001b[1m0s\u001b[0m 5ms/step - loss: 1638219.5000 - mae: 644.5212 - mean_absolute_percentage_error: 4.8376\n",
      "Epoch 113/250\n",
      "\u001b[1m98/98\u001b[0m \u001b[32m━━━━━━━━━━━━━━━━━━━━\u001b[0m\u001b[37m\u001b[0m \u001b[1m0s\u001b[0m 5ms/step - loss: 1496543.2500 - mae: 636.9104 - mean_absolute_percentage_error: 4.7681\n",
      "Epoch 114/250\n",
      "\u001b[1m98/98\u001b[0m \u001b[32m━━━━━━━━━━━━━━━━━━━━\u001b[0m\u001b[37m\u001b[0m \u001b[1m1s\u001b[0m 5ms/step - loss: 1685264.2500 - mae: 660.8521 - mean_absolute_percentage_error: 4.8092\n",
      "Epoch 115/250\n",
      "\u001b[1m98/98\u001b[0m \u001b[32m━━━━━━━━━━━━━━━━━━━━\u001b[0m\u001b[37m\u001b[0m \u001b[1m0s\u001b[0m 5ms/step - loss: 1464551.8750 - mae: 615.8863 - mean_absolute_percentage_error: 4.6456\n",
      "Epoch 116/250\n",
      "\u001b[1m98/98\u001b[0m \u001b[32m━━━━━━━━━━━━━━━━━━━━\u001b[0m\u001b[37m\u001b[0m \u001b[1m0s\u001b[0m 4ms/step - loss: 1751261.8750 - mae: 674.3629 - mean_absolute_percentage_error: 4.8739\n",
      "Epoch 117/250\n",
      "\u001b[1m98/98\u001b[0m \u001b[32m━━━━━━━━━━━━━━━━━━━━\u001b[0m\u001b[37m\u001b[0m \u001b[1m0s\u001b[0m 4ms/step - loss: 1792041.1250 - mae: 685.0657 - mean_absolute_percentage_error: 4.9743\n",
      "Epoch 118/250\n",
      "\u001b[1m98/98\u001b[0m \u001b[32m━━━━━━━━━━━━━━━━━━━━\u001b[0m\u001b[37m\u001b[0m \u001b[1m0s\u001b[0m 4ms/step - loss: 1592004.3750 - mae: 627.0553 - mean_absolute_percentage_error: 4.6958\n",
      "Epoch 119/250\n",
      "\u001b[1m98/98\u001b[0m \u001b[32m━━━━━━━━━━━━━━━━━━━━\u001b[0m\u001b[37m\u001b[0m \u001b[1m0s\u001b[0m 4ms/step - loss: 1929311.7500 - mae: 674.6686 - mean_absolute_percentage_error: 4.8203\n",
      "Epoch 120/250\n",
      "\u001b[1m98/98\u001b[0m \u001b[32m━━━━━━━━━━━━━━━━━━━━\u001b[0m\u001b[37m\u001b[0m \u001b[1m0s\u001b[0m 4ms/step - loss: 1662589.3750 - mae: 654.1968 - mean_absolute_percentage_error: 4.8531\n",
      "Epoch 121/250\n",
      "\u001b[1m98/98\u001b[0m \u001b[32m━━━━━━━━━━━━━━━━━━━━\u001b[0m\u001b[37m\u001b[0m \u001b[1m0s\u001b[0m 4ms/step - loss: 1851844.7500 - mae: 680.0587 - mean_absolute_percentage_error: 4.9426\n",
      "Epoch 122/250\n",
      "\u001b[1m98/98\u001b[0m \u001b[32m━━━━━━━━━━━━━━━━━━━━\u001b[0m\u001b[37m\u001b[0m \u001b[1m0s\u001b[0m 4ms/step - loss: 1767731.6250 - mae: 666.5768 - mean_absolute_percentage_error: 4.8495\n",
      "Epoch 123/250\n",
      "\u001b[1m98/98\u001b[0m \u001b[32m━━━━━━━━━━━━━━━━━━━━\u001b[0m\u001b[37m\u001b[0m \u001b[1m0s\u001b[0m 4ms/step - loss: 1700118.0000 - mae: 653.6627 - mean_absolute_percentage_error: 4.6680\n",
      "Epoch 124/250\n",
      "\u001b[1m98/98\u001b[0m \u001b[32m━━━━━━━━━━━━━━━━━━━━\u001b[0m\u001b[37m\u001b[0m \u001b[1m0s\u001b[0m 4ms/step - loss: 1697555.8750 - mae: 648.9815 - mean_absolute_percentage_error: 4.7080\n",
      "Epoch 125/250\n",
      "\u001b[1m98/98\u001b[0m \u001b[32m━━━━━━━━━━━━━━━━━━━━\u001b[0m\u001b[37m\u001b[0m \u001b[1m0s\u001b[0m 4ms/step - loss: 1741281.6250 - mae: 668.6971 - mean_absolute_percentage_error: 4.7374\n",
      "Epoch 126/250\n",
      "\u001b[1m98/98\u001b[0m \u001b[32m━━━━━━━━━━━━━━━━━━━━\u001b[0m\u001b[37m\u001b[0m \u001b[1m0s\u001b[0m 4ms/step - loss: 1832428.0000 - mae: 661.9125 - mean_absolute_percentage_error: 4.7704\n",
      "Epoch 127/250\n",
      "\u001b[1m98/98\u001b[0m \u001b[32m━━━━━━━━━━━━━━━━━━━━\u001b[0m\u001b[37m\u001b[0m \u001b[1m0s\u001b[0m 4ms/step - loss: 1717791.0000 - mae: 671.5629 - mean_absolute_percentage_error: 4.8341\n",
      "Epoch 128/250\n",
      "\u001b[1m98/98\u001b[0m \u001b[32m━━━━━━━━━━━━━━━━━━━━\u001b[0m\u001b[37m\u001b[0m \u001b[1m0s\u001b[0m 4ms/step - loss: 1727514.5000 - mae: 657.5974 - mean_absolute_percentage_error: 4.7005\n",
      "Epoch 129/250\n",
      "\u001b[1m98/98\u001b[0m \u001b[32m━━━━━━━━━━━━━━━━━━━━\u001b[0m\u001b[37m\u001b[0m \u001b[1m0s\u001b[0m 4ms/step - loss: 1641163.8750 - mae: 640.6135 - mean_absolute_percentage_error: 4.7804\n",
      "Epoch 130/250\n",
      "\u001b[1m98/98\u001b[0m \u001b[32m━━━━━━━━━━━━━━━━━━━━\u001b[0m\u001b[37m\u001b[0m \u001b[1m0s\u001b[0m 4ms/step - loss: 1790448.5000 - mae: 673.1256 - mean_absolute_percentage_error: 4.7940\n",
      "Epoch 131/250\n",
      "\u001b[1m98/98\u001b[0m \u001b[32m━━━━━━━━━━━━━━━━━━━━\u001b[0m\u001b[37m\u001b[0m \u001b[1m0s\u001b[0m 4ms/step - loss: 1696344.1250 - mae: 642.4250 - mean_absolute_percentage_error: 4.7310\n",
      "Epoch 132/250\n",
      "\u001b[1m98/98\u001b[0m \u001b[32m━━━━━━━━━━━━━━━━━━━━\u001b[0m\u001b[37m\u001b[0m \u001b[1m0s\u001b[0m 4ms/step - loss: 1763344.3750 - mae: 654.8174 - mean_absolute_percentage_error: 4.8521\n",
      "Epoch 133/250\n",
      "\u001b[1m98/98\u001b[0m \u001b[32m━━━━━━━━━━━━━━━━━━━━\u001b[0m\u001b[37m\u001b[0m \u001b[1m0s\u001b[0m 4ms/step - loss: 1773738.7500 - mae: 671.5643 - mean_absolute_percentage_error: 4.7286\n",
      "Epoch 134/250\n",
      "\u001b[1m98/98\u001b[0m \u001b[32m━━━━━━━━━━━━━━━━━━━━\u001b[0m\u001b[37m\u001b[0m \u001b[1m0s\u001b[0m 4ms/step - loss: 1599751.7500 - mae: 638.1979 - mean_absolute_percentage_error: 4.7615\n",
      "Epoch 135/250\n",
      "\u001b[1m98/98\u001b[0m \u001b[32m━━━━━━━━━━━━━━━━━━━━\u001b[0m\u001b[37m\u001b[0m \u001b[1m0s\u001b[0m 4ms/step - loss: 1870754.8750 - mae: 692.3511 - mean_absolute_percentage_error: 4.8635\n",
      "Epoch 136/250\n",
      "\u001b[1m98/98\u001b[0m \u001b[32m━━━━━━━━━━━━━━━━━━━━\u001b[0m\u001b[37m\u001b[0m \u001b[1m0s\u001b[0m 4ms/step - loss: 1623933.8750 - mae: 663.9747 - mean_absolute_percentage_error: 4.9023\n",
      "Epoch 137/250\n",
      "\u001b[1m98/98\u001b[0m \u001b[32m━━━━━━━━━━━━━━━━━━━━\u001b[0m\u001b[37m\u001b[0m \u001b[1m0s\u001b[0m 4ms/step - loss: 1836964.8750 - mae: 675.1425 - mean_absolute_percentage_error: 5.0510\n",
      "Epoch 138/250\n",
      "\u001b[1m98/98\u001b[0m \u001b[32m━━━━━━━━━━━━━━━━━━━━\u001b[0m\u001b[37m\u001b[0m \u001b[1m0s\u001b[0m 4ms/step - loss: 1875547.6250 - mae: 704.0036 - mean_absolute_percentage_error: 5.1437\n",
      "Epoch 139/250\n",
      "\u001b[1m98/98\u001b[0m \u001b[32m━━━━━━━━━━━━━━━━━━━━\u001b[0m\u001b[37m\u001b[0m \u001b[1m0s\u001b[0m 4ms/step - loss: 1791140.2500 - mae: 678.0307 - mean_absolute_percentage_error: 4.9767\n",
      "Epoch 140/250\n",
      "\u001b[1m98/98\u001b[0m \u001b[32m━━━━━━━━━━━━━━━━━━━━\u001b[0m\u001b[37m\u001b[0m \u001b[1m0s\u001b[0m 4ms/step - loss: 1688618.7500 - mae: 667.4835 - mean_absolute_percentage_error: 4.8997\n",
      "Epoch 141/250\n",
      "\u001b[1m98/98\u001b[0m \u001b[32m━━━━━━━━━━━━━━━━━━━━\u001b[0m\u001b[37m\u001b[0m \u001b[1m0s\u001b[0m 4ms/step - loss: 1713743.5000 - mae: 661.2165 - mean_absolute_percentage_error: 4.7379\n",
      "Epoch 142/250\n",
      "\u001b[1m98/98\u001b[0m \u001b[32m━━━━━━━━━━━━━━━━━━━━\u001b[0m\u001b[37m\u001b[0m \u001b[1m0s\u001b[0m 4ms/step - loss: 1748490.0000 - mae: 661.2621 - mean_absolute_percentage_error: 4.8151\n",
      "Epoch 143/250\n",
      "\u001b[1m98/98\u001b[0m \u001b[32m━━━━━━━━━━━━━━━━━━━━\u001b[0m\u001b[37m\u001b[0m \u001b[1m0s\u001b[0m 4ms/step - loss: 1784608.2500 - mae: 665.5225 - mean_absolute_percentage_error: 4.8495\n",
      "Epoch 144/250\n",
      "\u001b[1m98/98\u001b[0m \u001b[32m━━━━━━━━━━━━━━━━━━━━\u001b[0m\u001b[37m\u001b[0m \u001b[1m0s\u001b[0m 4ms/step - loss: 1799721.5000 - mae: 684.6964 - mean_absolute_percentage_error: 4.9661\n",
      "Epoch 145/250\n",
      "\u001b[1m98/98\u001b[0m \u001b[32m━━━━━━━━━━━━━━━━━━━━\u001b[0m\u001b[37m\u001b[0m \u001b[1m0s\u001b[0m 4ms/step - loss: 1894813.8750 - mae: 686.1256 - mean_absolute_percentage_error: 4.9744\n",
      "Epoch 146/250\n",
      "\u001b[1m98/98\u001b[0m \u001b[32m━━━━━━━━━━━━━━━━━━━━\u001b[0m\u001b[37m\u001b[0m \u001b[1m0s\u001b[0m 4ms/step - loss: 1616976.0000 - mae: 652.0327 - mean_absolute_percentage_error: 4.8259\n",
      "Epoch 147/250\n",
      "\u001b[1m98/98\u001b[0m \u001b[32m━━━━━━━━━━━━━━━━━━━━\u001b[0m\u001b[37m\u001b[0m \u001b[1m0s\u001b[0m 4ms/step - loss: 1711247.8750 - mae: 669.1135 - mean_absolute_percentage_error: 4.9348\n",
      "Epoch 148/250\n",
      "\u001b[1m98/98\u001b[0m \u001b[32m━━━━━━━━━━━━━━━━━━━━\u001b[0m\u001b[37m\u001b[0m \u001b[1m0s\u001b[0m 4ms/step - loss: 1672176.1250 - mae: 664.6240 - mean_absolute_percentage_error: 4.8362\n",
      "Epoch 149/250\n",
      "\u001b[1m98/98\u001b[0m \u001b[32m━━━━━━━━━━━━━━━━━━━━\u001b[0m\u001b[37m\u001b[0m \u001b[1m0s\u001b[0m 4ms/step - loss: 1465206.8750 - mae: 601.2611 - mean_absolute_percentage_error: 4.5994\n",
      "Epoch 150/250\n",
      "\u001b[1m98/98\u001b[0m \u001b[32m━━━━━━━━━━━━━━━━━━━━\u001b[0m\u001b[37m\u001b[0m \u001b[1m0s\u001b[0m 4ms/step - loss: 1743583.5000 - mae: 657.8198 - mean_absolute_percentage_error: 4.6344\n",
      "Epoch 151/250\n",
      "\u001b[1m98/98\u001b[0m \u001b[32m━━━━━━━━━━━━━━━━━━━━\u001b[0m\u001b[37m\u001b[0m \u001b[1m0s\u001b[0m 4ms/step - loss: 1619575.0000 - mae: 637.3922 - mean_absolute_percentage_error: 4.6752\n",
      "Epoch 152/250\n",
      "\u001b[1m98/98\u001b[0m \u001b[32m━━━━━━━━━━━━━━━━━━━━\u001b[0m\u001b[37m\u001b[0m \u001b[1m0s\u001b[0m 4ms/step - loss: 1795717.3750 - mae: 671.4260 - mean_absolute_percentage_error: 4.8361\n",
      "Epoch 153/250\n",
      "\u001b[1m98/98\u001b[0m \u001b[32m━━━━━━━━━━━━━━━━━━━━\u001b[0m\u001b[37m\u001b[0m \u001b[1m0s\u001b[0m 4ms/step - loss: 1664851.6250 - mae: 656.3559 - mean_absolute_percentage_error: 4.9153\n",
      "Epoch 154/250\n",
      "\u001b[1m98/98\u001b[0m \u001b[32m━━━━━━━━━━━━━━━━━━━━\u001b[0m\u001b[37m\u001b[0m \u001b[1m0s\u001b[0m 4ms/step - loss: 1642615.1250 - mae: 645.8423 - mean_absolute_percentage_error: 4.7392\n",
      "Epoch 155/250\n",
      "\u001b[1m98/98\u001b[0m \u001b[32m━━━━━━━━━━━━━━━━━━━━\u001b[0m\u001b[37m\u001b[0m \u001b[1m0s\u001b[0m 4ms/step - loss: 1549330.8750 - mae: 633.7289 - mean_absolute_percentage_error: 4.7818\n",
      "Epoch 156/250\n",
      "\u001b[1m98/98\u001b[0m \u001b[32m━━━━━━━━━━━━━━━━━━━━\u001b[0m\u001b[37m\u001b[0m \u001b[1m0s\u001b[0m 4ms/step - loss: 1614639.8750 - mae: 640.3832 - mean_absolute_percentage_error: 4.7169\n",
      "Epoch 157/250\n",
      "\u001b[1m98/98\u001b[0m \u001b[32m━━━━━━━━━━━━━━━━━━━━\u001b[0m\u001b[37m\u001b[0m \u001b[1m0s\u001b[0m 5ms/step - loss: 1462249.1250 - mae: 626.1772 - mean_absolute_percentage_error: 4.6969\n",
      "Epoch 158/250\n",
      "\u001b[1m98/98\u001b[0m \u001b[32m━━━━━━━━━━━━━━━━━━━━\u001b[0m\u001b[37m\u001b[0m \u001b[1m0s\u001b[0m 4ms/step - loss: 1751212.7500 - mae: 658.0194 - mean_absolute_percentage_error: 4.7898\n",
      "Epoch 159/250\n",
      "\u001b[1m98/98\u001b[0m \u001b[32m━━━━━━━━━━━━━━━━━━━━\u001b[0m\u001b[37m\u001b[0m \u001b[1m0s\u001b[0m 4ms/step - loss: 1571464.1250 - mae: 629.4028 - mean_absolute_percentage_error: 4.6992\n",
      "Epoch 160/250\n",
      "\u001b[1m98/98\u001b[0m \u001b[32m━━━━━━━━━━━━━━━━━━━━\u001b[0m\u001b[37m\u001b[0m \u001b[1m0s\u001b[0m 4ms/step - loss: 1751908.0000 - mae: 668.9802 - mean_absolute_percentage_error: 4.8418\n",
      "Epoch 161/250\n",
      "\u001b[1m98/98\u001b[0m \u001b[32m━━━━━━━━━━━━━━━━━━━━\u001b[0m\u001b[37m\u001b[0m \u001b[1m0s\u001b[0m 4ms/step - loss: 1690146.5000 - mae: 646.6306 - mean_absolute_percentage_error: 4.7301\n",
      "Epoch 162/250\n",
      "\u001b[1m98/98\u001b[0m \u001b[32m━━━━━━━━━━━━━━━━━━━━\u001b[0m\u001b[37m\u001b[0m \u001b[1m0s\u001b[0m 4ms/step - loss: 1707268.2500 - mae: 656.7219 - mean_absolute_percentage_error: 4.7748\n",
      "Epoch 163/250\n",
      "\u001b[1m98/98\u001b[0m \u001b[32m━━━━━━━━━━━━━━━━━━━━\u001b[0m\u001b[37m\u001b[0m \u001b[1m0s\u001b[0m 4ms/step - loss: 1673702.8750 - mae: 657.8364 - mean_absolute_percentage_error: 4.8799\n",
      "Epoch 164/250\n",
      "\u001b[1m98/98\u001b[0m \u001b[32m━━━━━━━━━━━━━━━━━━━━\u001b[0m\u001b[37m\u001b[0m \u001b[1m0s\u001b[0m 4ms/step - loss: 1707075.8750 - mae: 658.3004 - mean_absolute_percentage_error: 4.8150\n",
      "Epoch 165/250\n",
      "\u001b[1m98/98\u001b[0m \u001b[32m━━━━━━━━━━━━━━━━━━━━\u001b[0m\u001b[37m\u001b[0m \u001b[1m0s\u001b[0m 4ms/step - loss: 1571571.8750 - mae: 651.3787 - mean_absolute_percentage_error: 4.8546\n",
      "Epoch 166/250\n",
      "\u001b[1m98/98\u001b[0m \u001b[32m━━━━━━━━━━━━━━━━━━━━\u001b[0m\u001b[37m\u001b[0m \u001b[1m0s\u001b[0m 4ms/step - loss: 1792010.3750 - mae: 679.1991 - mean_absolute_percentage_error: 4.9021\n",
      "Epoch 167/250\n",
      "\u001b[1m98/98\u001b[0m \u001b[32m━━━━━━━━━━━━━━━━━━━━\u001b[0m\u001b[37m\u001b[0m \u001b[1m0s\u001b[0m 4ms/step - loss: 1491891.1250 - mae: 625.7560 - mean_absolute_percentage_error: 4.7059\n",
      "Epoch 168/250\n",
      "\u001b[1m98/98\u001b[0m \u001b[32m━━━━━━━━━━━━━━━━━━━━\u001b[0m\u001b[37m\u001b[0m \u001b[1m0s\u001b[0m 5ms/step - loss: 1610733.2500 - mae: 636.4132 - mean_absolute_percentage_error: 4.7290\n",
      "Epoch 169/250\n",
      "\u001b[1m98/98\u001b[0m \u001b[32m━━━━━━━━━━━━━━━━━━━━\u001b[0m\u001b[37m\u001b[0m \u001b[1m0s\u001b[0m 4ms/step - loss: 1734159.0000 - mae: 656.2968 - mean_absolute_percentage_error: 4.7907\n",
      "Epoch 170/250\n",
      "\u001b[1m98/98\u001b[0m \u001b[32m━━━━━━━━━━━━━━━━━━━━\u001b[0m\u001b[37m\u001b[0m \u001b[1m1s\u001b[0m 5ms/step - loss: 1675142.1250 - mae: 657.6857 - mean_absolute_percentage_error: 4.7712\n",
      "Epoch 171/250\n",
      "\u001b[1m98/98\u001b[0m \u001b[32m━━━━━━━━━━━━━━━━━━━━\u001b[0m\u001b[37m\u001b[0m \u001b[1m1s\u001b[0m 6ms/step - loss: 1549426.3750 - mae: 641.2469 - mean_absolute_percentage_error: 4.7756\n",
      "Epoch 172/250\n",
      "\u001b[1m98/98\u001b[0m \u001b[32m━━━━━━━━━━━━━━━━━━━━\u001b[0m\u001b[37m\u001b[0m \u001b[1m1s\u001b[0m 5ms/step - loss: 2036707.2500 - mae: 714.5471 - mean_absolute_percentage_error: 5.2644\n",
      "Epoch 173/250\n",
      "\u001b[1m98/98\u001b[0m \u001b[32m━━━━━━━━━━━━━━━━━━━━\u001b[0m\u001b[37m\u001b[0m \u001b[1m0s\u001b[0m 4ms/step - loss: 1696941.2500 - mae: 645.7555 - mean_absolute_percentage_error: 4.7005\n",
      "Epoch 174/250\n",
      "\u001b[1m98/98\u001b[0m \u001b[32m━━━━━━━━━━━━━━━━━━━━\u001b[0m\u001b[37m\u001b[0m \u001b[1m1s\u001b[0m 5ms/step - loss: 1828248.5000 - mae: 668.9128 - mean_absolute_percentage_error: 4.7995\n",
      "Epoch 175/250\n",
      "\u001b[1m98/98\u001b[0m \u001b[32m━━━━━━━━━━━━━━━━━━━━\u001b[0m\u001b[37m\u001b[0m \u001b[1m0s\u001b[0m 5ms/step - loss: 1706356.2500 - mae: 653.6588 - mean_absolute_percentage_error: 4.7626\n",
      "Epoch 176/250\n",
      "\u001b[1m98/98\u001b[0m \u001b[32m━━━━━━━━━━━━━━━━━━━━\u001b[0m\u001b[37m\u001b[0m \u001b[1m0s\u001b[0m 5ms/step - loss: 1732850.5000 - mae: 660.6718 - mean_absolute_percentage_error: 4.8630\n",
      "Epoch 177/250\n",
      "\u001b[1m98/98\u001b[0m \u001b[32m━━━━━━━━━━━━━━━━━━━━\u001b[0m\u001b[37m\u001b[0m \u001b[1m1s\u001b[0m 5ms/step - loss: 1497400.6250 - mae: 635.1146 - mean_absolute_percentage_error: 4.7320\n",
      "Epoch 178/250\n",
      "\u001b[1m98/98\u001b[0m \u001b[32m━━━━━━━━━━━━━━━━━━━━\u001b[0m\u001b[37m\u001b[0m \u001b[1m0s\u001b[0m 5ms/step - loss: 1844050.1250 - mae: 689.4828 - mean_absolute_percentage_error: 4.9609\n",
      "Epoch 179/250\n",
      "\u001b[1m98/98\u001b[0m \u001b[32m━━━━━━━━━━━━━━━━━━━━\u001b[0m\u001b[37m\u001b[0m \u001b[1m0s\u001b[0m 4ms/step - loss: 1646595.6250 - mae: 657.6862 - mean_absolute_percentage_error: 4.7583\n",
      "Epoch 180/250\n",
      "\u001b[1m98/98\u001b[0m \u001b[32m━━━━━━━━━━━━━━━━━━━━\u001b[0m\u001b[37m\u001b[0m \u001b[1m0s\u001b[0m 5ms/step - loss: 1752618.1250 - mae: 667.1656 - mean_absolute_percentage_error: 4.8671\n",
      "Epoch 181/250\n",
      "\u001b[1m98/98\u001b[0m \u001b[32m━━━━━━━━━━━━━━━━━━━━\u001b[0m\u001b[37m\u001b[0m \u001b[1m0s\u001b[0m 4ms/step - loss: 1731328.3750 - mae: 657.5911 - mean_absolute_percentage_error: 4.7861\n",
      "Epoch 182/250\n",
      "\u001b[1m98/98\u001b[0m \u001b[32m━━━━━━━━━━━━━━━━━━━━\u001b[0m\u001b[37m\u001b[0m \u001b[1m0s\u001b[0m 5ms/step - loss: 1750222.6250 - mae: 652.9016 - mean_absolute_percentage_error: 4.6929\n",
      "Epoch 183/250\n",
      "\u001b[1m98/98\u001b[0m \u001b[32m━━━━━━━━━━━━━━━━━━━━\u001b[0m\u001b[37m\u001b[0m \u001b[1m1s\u001b[0m 5ms/step - loss: 1589790.0000 - mae: 649.5298 - mean_absolute_percentage_error: 4.9275\n",
      "Epoch 184/250\n",
      "\u001b[1m98/98\u001b[0m \u001b[32m━━━━━━━━━━━━━━━━━━━━\u001b[0m\u001b[37m\u001b[0m \u001b[1m0s\u001b[0m 5ms/step - loss: 1765750.0000 - mae: 657.7618 - mean_absolute_percentage_error: 4.8430\n",
      "Epoch 185/250\n",
      "\u001b[1m98/98\u001b[0m \u001b[32m━━━━━━━━━━━━━━━━━━━━\u001b[0m\u001b[37m\u001b[0m \u001b[1m0s\u001b[0m 5ms/step - loss: 1806323.5000 - mae: 667.3988 - mean_absolute_percentage_error: 4.7950\n",
      "Epoch 186/250\n",
      "\u001b[1m98/98\u001b[0m \u001b[32m━━━━━━━━━━━━━━━━━━━━\u001b[0m\u001b[37m\u001b[0m \u001b[1m1s\u001b[0m 5ms/step - loss: 1772819.7500 - mae: 648.3492 - mean_absolute_percentage_error: 4.6808\n",
      "Epoch 187/250\n",
      "\u001b[1m98/98\u001b[0m \u001b[32m━━━━━━━━━━━━━━━━━━━━\u001b[0m\u001b[37m\u001b[0m \u001b[1m0s\u001b[0m 5ms/step - loss: 1748543.0000 - mae: 665.5219 - mean_absolute_percentage_error: 4.9155\n",
      "Epoch 188/250\n",
      "\u001b[1m98/98\u001b[0m \u001b[32m━━━━━━━━━━━━━━━━━━━━\u001b[0m\u001b[37m\u001b[0m \u001b[1m1s\u001b[0m 6ms/step - loss: 1675306.0000 - mae: 659.1776 - mean_absolute_percentage_error: 4.8288\n",
      "Epoch 189/250\n",
      "\u001b[1m98/98\u001b[0m \u001b[32m━━━━━━━━━━━━━━━━━━━━\u001b[0m\u001b[37m\u001b[0m \u001b[1m0s\u001b[0m 4ms/step - loss: 1796419.5000 - mae: 681.3618 - mean_absolute_percentage_error: 4.9823\n",
      "Epoch 190/250\n",
      "\u001b[1m98/98\u001b[0m \u001b[32m━━━━━━━━━━━━━━━━━━━━\u001b[0m\u001b[37m\u001b[0m \u001b[1m0s\u001b[0m 5ms/step - loss: 1863799.7500 - mae: 672.0426 - mean_absolute_percentage_error: 4.7799\n",
      "Epoch 191/250\n",
      "\u001b[1m98/98\u001b[0m \u001b[32m━━━━━━━━━━━━━━━━━━━━\u001b[0m\u001b[37m\u001b[0m \u001b[1m1s\u001b[0m 5ms/step - loss: 1744874.3750 - mae: 661.3143 - mean_absolute_percentage_error: 4.8431\n",
      "Epoch 192/250\n",
      "\u001b[1m98/98\u001b[0m \u001b[32m━━━━━━━━━━━━━━━━━━━━\u001b[0m\u001b[37m\u001b[0m \u001b[1m0s\u001b[0m 4ms/step - loss: 1687361.5000 - mae: 639.6884 - mean_absolute_percentage_error: 4.6417\n",
      "Epoch 193/250\n",
      "\u001b[1m98/98\u001b[0m \u001b[32m━━━━━━━━━━━━━━━━━━━━\u001b[0m\u001b[37m\u001b[0m \u001b[1m0s\u001b[0m 5ms/step - loss: 2096121.0000 - mae: 719.5010 - mean_absolute_percentage_error: 5.0948\n",
      "Epoch 194/250\n",
      "\u001b[1m98/98\u001b[0m \u001b[32m━━━━━━━━━━━━━━━━━━━━\u001b[0m\u001b[37m\u001b[0m \u001b[1m0s\u001b[0m 5ms/step - loss: 1789034.7500 - mae: 672.6669 - mean_absolute_percentage_error: 4.5963\n",
      "Epoch 195/250\n",
      "\u001b[1m98/98\u001b[0m \u001b[32m━━━━━━━━━━━━━━━━━━━━\u001b[0m\u001b[37m\u001b[0m \u001b[1m0s\u001b[0m 4ms/step - loss: 1689929.3750 - mae: 650.3958 - mean_absolute_percentage_error: 4.7016\n",
      "Epoch 196/250\n",
      "\u001b[1m98/98\u001b[0m \u001b[32m━━━━━━━━━━━━━━━━━━━━\u001b[0m\u001b[37m\u001b[0m \u001b[1m0s\u001b[0m 4ms/step - loss: 1700507.6250 - mae: 655.4585 - mean_absolute_percentage_error: 4.6440\n",
      "Epoch 197/250\n",
      "\u001b[1m98/98\u001b[0m \u001b[32m━━━━━━━━━━━━━━━━━━━━\u001b[0m\u001b[37m\u001b[0m \u001b[1m0s\u001b[0m 5ms/step - loss: 1865733.1250 - mae: 658.5211 - mean_absolute_percentage_error: 4.7628\n",
      "Epoch 198/250\n",
      "\u001b[1m98/98\u001b[0m \u001b[32m━━━━━━━━━━━━━━━━━━━━\u001b[0m\u001b[37m\u001b[0m \u001b[1m0s\u001b[0m 5ms/step - loss: 1618728.7500 - mae: 651.0692 - mean_absolute_percentage_error: 4.7909\n",
      "Epoch 199/250\n",
      "\u001b[1m98/98\u001b[0m \u001b[32m━━━━━━━━━━━━━━━━━━━━\u001b[0m\u001b[37m\u001b[0m \u001b[1m0s\u001b[0m 5ms/step - loss: 1913286.3750 - mae: 685.4076 - mean_absolute_percentage_error: 5.0977\n",
      "Epoch 200/250\n",
      "\u001b[1m98/98\u001b[0m \u001b[32m━━━━━━━━━━━━━━━━━━━━\u001b[0m\u001b[37m\u001b[0m \u001b[1m0s\u001b[0m 4ms/step - loss: 1530552.0000 - mae: 640.5200 - mean_absolute_percentage_error: 4.7251\n",
      "Epoch 201/250\n",
      "\u001b[1m98/98\u001b[0m \u001b[32m━━━━━━━━━━━━━━━━━━━━\u001b[0m\u001b[37m\u001b[0m \u001b[1m0s\u001b[0m 4ms/step - loss: 1867729.3750 - mae: 685.7108 - mean_absolute_percentage_error: 4.8486\n",
      "Epoch 202/250\n",
      "\u001b[1m98/98\u001b[0m \u001b[32m━━━━━━━━━━━━━━━━━━━━\u001b[0m\u001b[37m\u001b[0m \u001b[1m0s\u001b[0m 5ms/step - loss: 1424467.1250 - mae: 606.2770 - mean_absolute_percentage_error: 4.5680\n",
      "Epoch 203/250\n",
      "\u001b[1m98/98\u001b[0m \u001b[32m━━━━━━━━━━━━━━━━━━━━\u001b[0m\u001b[37m\u001b[0m \u001b[1m1s\u001b[0m 8ms/step - loss: 1673014.2500 - mae: 646.5715 - mean_absolute_percentage_error: 4.7296\n",
      "Epoch 204/250\n",
      "\u001b[1m98/98\u001b[0m \u001b[32m━━━━━━━━━━━━━━━━━━━━\u001b[0m\u001b[37m\u001b[0m \u001b[1m1s\u001b[0m 6ms/step - loss: 1659413.8750 - mae: 654.0309 - mean_absolute_percentage_error: 4.7966\n",
      "Epoch 205/250\n",
      "\u001b[1m98/98\u001b[0m \u001b[32m━━━━━━━━━━━━━━━━━━━━\u001b[0m\u001b[37m\u001b[0m \u001b[1m1s\u001b[0m 12ms/step - loss: 1512583.3750 - mae: 613.1847 - mean_absolute_percentage_error: 4.5962\n",
      "Epoch 206/250\n",
      "\u001b[1m98/98\u001b[0m \u001b[32m━━━━━━━━━━━━━━━━━━━━\u001b[0m\u001b[37m\u001b[0m \u001b[1m1s\u001b[0m 8ms/step - loss: 1549441.5000 - mae: 636.9468 - mean_absolute_percentage_error: 4.6445\n",
      "Epoch 207/250\n",
      "\u001b[1m98/98\u001b[0m \u001b[32m━━━━━━━━━━━━━━━━━━━━\u001b[0m\u001b[37m\u001b[0m \u001b[1m1s\u001b[0m 9ms/step - loss: 1693623.0000 - mae: 655.1404 - mean_absolute_percentage_error: 4.6863\n",
      "Epoch 208/250\n",
      "\u001b[1m98/98\u001b[0m \u001b[32m━━━━━━━━━━━━━━━━━━━━\u001b[0m\u001b[37m\u001b[0m \u001b[1m1s\u001b[0m 8ms/step - loss: 1664223.0000 - mae: 648.2777 - mean_absolute_percentage_error: 4.6480\n",
      "Epoch 209/250\n",
      "\u001b[1m98/98\u001b[0m \u001b[32m━━━━━━━━━━━━━━━━━━━━\u001b[0m\u001b[37m\u001b[0m \u001b[1m1s\u001b[0m 6ms/step - loss: 1743539.3750 - mae: 667.4841 - mean_absolute_percentage_error: 4.8965\n",
      "Epoch 210/250\n",
      "\u001b[1m98/98\u001b[0m \u001b[32m━━━━━━━━━━━━━━━━━━━━\u001b[0m\u001b[37m\u001b[0m \u001b[1m1s\u001b[0m 5ms/step - loss: 1713373.0000 - mae: 651.7740 - mean_absolute_percentage_error: 4.6940\n",
      "Epoch 211/250\n",
      "\u001b[1m98/98\u001b[0m \u001b[32m━━━━━━━━━━━━━━━━━━━━\u001b[0m\u001b[37m\u001b[0m \u001b[1m1s\u001b[0m 8ms/step - loss: 1490426.1250 - mae: 614.0646 - mean_absolute_percentage_error: 4.6636\n",
      "Epoch 212/250\n",
      "\u001b[1m98/98\u001b[0m \u001b[32m━━━━━━━━━━━━━━━━━━━━\u001b[0m\u001b[37m\u001b[0m \u001b[1m1s\u001b[0m 5ms/step - loss: 1624327.6250 - mae: 656.4031 - mean_absolute_percentage_error: 4.8905\n",
      "Epoch 213/250\n",
      "\u001b[1m98/98\u001b[0m \u001b[32m━━━━━━━━━━━━━━━━━━━━\u001b[0m\u001b[37m\u001b[0m \u001b[1m1s\u001b[0m 7ms/step - loss: 1709869.8750 - mae: 646.1408 - mean_absolute_percentage_error: 4.7746\n",
      "Epoch 214/250\n",
      "\u001b[1m98/98\u001b[0m \u001b[32m━━━━━━━━━━━━━━━━━━━━\u001b[0m\u001b[37m\u001b[0m \u001b[1m1s\u001b[0m 7ms/step - loss: 1685307.2500 - mae: 647.9648 - mean_absolute_percentage_error: 4.7697\n",
      "Epoch 215/250\n",
      "\u001b[1m98/98\u001b[0m \u001b[32m━━━━━━━━━━━━━━━━━━━━\u001b[0m\u001b[37m\u001b[0m \u001b[1m1s\u001b[0m 6ms/step - loss: 1835114.0000 - mae: 670.2896 - mean_absolute_percentage_error: 4.7943\n",
      "Epoch 216/250\n",
      "\u001b[1m98/98\u001b[0m \u001b[32m━━━━━━━━━━━━━━━━━━━━\u001b[0m\u001b[37m\u001b[0m \u001b[1m0s\u001b[0m 4ms/step - loss: 1640548.2500 - mae: 647.6363 - mean_absolute_percentage_error: 4.6957\n",
      "Epoch 217/250\n",
      "\u001b[1m98/98\u001b[0m \u001b[32m━━━━━━━━━━━━━━━━━━━━\u001b[0m\u001b[37m\u001b[0m \u001b[1m1s\u001b[0m 6ms/step - loss: 1749890.5000 - mae: 657.9731 - mean_absolute_percentage_error: 4.7291\n",
      "Epoch 218/250\n",
      "\u001b[1m98/98\u001b[0m \u001b[32m━━━━━━━━━━━━━━━━━━━━\u001b[0m\u001b[37m\u001b[0m \u001b[1m0s\u001b[0m 5ms/step - loss: 1602054.8750 - mae: 653.0684 - mean_absolute_percentage_error: 4.8039\n",
      "Epoch 219/250\n",
      "\u001b[1m98/98\u001b[0m \u001b[32m━━━━━━━━━━━━━━━━━━━━\u001b[0m\u001b[37m\u001b[0m \u001b[1m0s\u001b[0m 4ms/step - loss: 1515014.8750 - mae: 628.0626 - mean_absolute_percentage_error: 4.6531\n",
      "Epoch 220/250\n",
      "\u001b[1m98/98\u001b[0m \u001b[32m━━━━━━━━━━━━━━━━━━━━\u001b[0m\u001b[37m\u001b[0m \u001b[1m0s\u001b[0m 4ms/step - loss: 1786035.5000 - mae: 668.7119 - mean_absolute_percentage_error: 4.7789\n",
      "Epoch 221/250\n",
      "\u001b[1m98/98\u001b[0m \u001b[32m━━━━━━━━━━━━━━━━━━━━\u001b[0m\u001b[37m\u001b[0m \u001b[1m0s\u001b[0m 4ms/step - loss: 1789363.5000 - mae: 665.6506 - mean_absolute_percentage_error: 4.7578\n",
      "Epoch 222/250\n",
      "\u001b[1m98/98\u001b[0m \u001b[32m━━━━━━━━━━━━━━━━━━━━\u001b[0m\u001b[37m\u001b[0m \u001b[1m0s\u001b[0m 4ms/step - loss: 1928623.0000 - mae: 689.1465 - mean_absolute_percentage_error: 4.9048\n",
      "Epoch 223/250\n",
      "\u001b[1m98/98\u001b[0m \u001b[32m━━━━━━━━━━━━━━━━━━━━\u001b[0m\u001b[37m\u001b[0m \u001b[1m0s\u001b[0m 4ms/step - loss: 1567107.3750 - mae: 639.7175 - mean_absolute_percentage_error: 4.7920\n",
      "Epoch 224/250\n",
      "\u001b[1m98/98\u001b[0m \u001b[32m━━━━━━━━━━━━━━━━━━━━\u001b[0m\u001b[37m\u001b[0m \u001b[1m0s\u001b[0m 4ms/step - loss: 1647564.3750 - mae: 654.9028 - mean_absolute_percentage_error: 4.7261\n",
      "Epoch 225/250\n",
      "\u001b[1m98/98\u001b[0m \u001b[32m━━━━━━━━━━━━━━━━━━━━\u001b[0m\u001b[37m\u001b[0m \u001b[1m0s\u001b[0m 4ms/step - loss: 1581440.0000 - mae: 640.7217 - mean_absolute_percentage_error: 4.5965\n",
      "Epoch 226/250\n",
      "\u001b[1m98/98\u001b[0m \u001b[32m━━━━━━━━━━━━━━━━━━━━\u001b[0m\u001b[37m\u001b[0m \u001b[1m0s\u001b[0m 4ms/step - loss: 1692832.6250 - mae: 642.6774 - mean_absolute_percentage_error: 4.5931\n",
      "Epoch 227/250\n",
      "\u001b[1m98/98\u001b[0m \u001b[32m━━━━━━━━━━━━━━━━━━━━\u001b[0m\u001b[37m\u001b[0m \u001b[1m0s\u001b[0m 4ms/step - loss: 1925302.3750 - mae: 666.1188 - mean_absolute_percentage_error: 4.7360\n",
      "Epoch 228/250\n",
      "\u001b[1m98/98\u001b[0m \u001b[32m━━━━━━━━━━━━━━━━━━━━\u001b[0m\u001b[37m\u001b[0m \u001b[1m0s\u001b[0m 4ms/step - loss: 1697069.6250 - mae: 661.0558 - mean_absolute_percentage_error: 4.8953\n",
      "Epoch 229/250\n",
      "\u001b[1m98/98\u001b[0m \u001b[32m━━━━━━━━━━━━━━━━━━━━\u001b[0m\u001b[37m\u001b[0m \u001b[1m0s\u001b[0m 4ms/step - loss: 1494168.0000 - mae: 634.4882 - mean_absolute_percentage_error: 4.7008\n",
      "Epoch 230/250\n",
      "\u001b[1m98/98\u001b[0m \u001b[32m━━━━━━━━━━━━━━━━━━━━\u001b[0m\u001b[37m\u001b[0m \u001b[1m0s\u001b[0m 4ms/step - loss: 1692190.8750 - mae: 640.8024 - mean_absolute_percentage_error: 4.6122\n",
      "Epoch 231/250\n",
      "\u001b[1m98/98\u001b[0m \u001b[32m━━━━━━━━━━━━━━━━━━━━\u001b[0m\u001b[37m\u001b[0m \u001b[1m0s\u001b[0m 4ms/step - loss: 1569093.0000 - mae: 628.4502 - mean_absolute_percentage_error: 4.7080\n",
      "Epoch 232/250\n",
      "\u001b[1m98/98\u001b[0m \u001b[32m━━━━━━━━━━━━━━━━━━━━\u001b[0m\u001b[37m\u001b[0m \u001b[1m0s\u001b[0m 4ms/step - loss: 1613382.5000 - mae: 638.7293 - mean_absolute_percentage_error: 4.6472\n",
      "Epoch 233/250\n",
      "\u001b[1m98/98\u001b[0m \u001b[32m━━━━━━━━━━━━━━━━━━━━\u001b[0m\u001b[37m\u001b[0m \u001b[1m0s\u001b[0m 5ms/step - loss: 1646218.6250 - mae: 637.3800 - mean_absolute_percentage_error: 4.6586\n",
      "Epoch 234/250\n",
      "\u001b[1m98/98\u001b[0m \u001b[32m━━━━━━━━━━━━━━━━━━━━\u001b[0m\u001b[37m\u001b[0m \u001b[1m0s\u001b[0m 4ms/step - loss: 1648251.1250 - mae: 651.0089 - mean_absolute_percentage_error: 4.6597\n",
      "Epoch 235/250\n",
      "\u001b[1m98/98\u001b[0m \u001b[32m━━━━━━━━━━━━━━━━━━━━\u001b[0m\u001b[37m\u001b[0m \u001b[1m0s\u001b[0m 4ms/step - loss: 1632339.0000 - mae: 646.0043 - mean_absolute_percentage_error: 4.7189\n",
      "Epoch 236/250\n",
      "\u001b[1m98/98\u001b[0m \u001b[32m━━━━━━━━━━━━━━━━━━━━\u001b[0m\u001b[37m\u001b[0m \u001b[1m0s\u001b[0m 4ms/step - loss: 1768251.7500 - mae: 671.2256 - mean_absolute_percentage_error: 4.7736\n",
      "Epoch 237/250\n",
      "\u001b[1m98/98\u001b[0m \u001b[32m━━━━━━━━━━━━━━━━━━━━\u001b[0m\u001b[37m\u001b[0m \u001b[1m0s\u001b[0m 5ms/step - loss: 1625309.1250 - mae: 640.6396 - mean_absolute_percentage_error: 4.6645\n",
      "Epoch 238/250\n",
      "\u001b[1m98/98\u001b[0m \u001b[32m━━━━━━━━━━━━━━━━━━━━\u001b[0m\u001b[37m\u001b[0m \u001b[1m0s\u001b[0m 4ms/step - loss: 1403557.3750 - mae: 619.4194 - mean_absolute_percentage_error: 4.5612\n",
      "Epoch 239/250\n",
      "\u001b[1m98/98\u001b[0m \u001b[32m━━━━━━━━━━━━━━━━━━━━\u001b[0m\u001b[37m\u001b[0m \u001b[1m0s\u001b[0m 4ms/step - loss: 1727159.3750 - mae: 653.4769 - mean_absolute_percentage_error: 4.8253\n",
      "Epoch 240/250\n",
      "\u001b[1m98/98\u001b[0m \u001b[32m━━━━━━━━━━━━━━━━━━━━\u001b[0m\u001b[37m\u001b[0m \u001b[1m0s\u001b[0m 4ms/step - loss: 1616233.6250 - mae: 632.6348 - mean_absolute_percentage_error: 4.8326\n",
      "Epoch 241/250\n",
      "\u001b[1m98/98\u001b[0m \u001b[32m━━━━━━━━━━━━━━━━━━━━\u001b[0m\u001b[37m\u001b[0m \u001b[1m0s\u001b[0m 4ms/step - loss: 1762144.6250 - mae: 680.5441 - mean_absolute_percentage_error: 4.8083\n",
      "Epoch 242/250\n",
      "\u001b[1m98/98\u001b[0m \u001b[32m━━━━━━━━━━━━━━━━━━━━\u001b[0m\u001b[37m\u001b[0m \u001b[1m0s\u001b[0m 4ms/step - loss: 1509453.7500 - mae: 615.3444 - mean_absolute_percentage_error: 4.6009\n",
      "Epoch 243/250\n",
      "\u001b[1m98/98\u001b[0m \u001b[32m━━━━━━━━━━━━━━━━━━━━\u001b[0m\u001b[37m\u001b[0m \u001b[1m0s\u001b[0m 4ms/step - loss: 1862056.0000 - mae: 676.6904 - mean_absolute_percentage_error: 4.8135\n",
      "Epoch 244/250\n",
      "\u001b[1m98/98\u001b[0m \u001b[32m━━━━━━━━━━━━━━━━━━━━\u001b[0m\u001b[37m\u001b[0m \u001b[1m0s\u001b[0m 4ms/step - loss: 1629826.2500 - mae: 665.2692 - mean_absolute_percentage_error: 4.9680\n",
      "Epoch 245/250\n",
      "\u001b[1m98/98\u001b[0m \u001b[32m━━━━━━━━━━━━━━━━━━━━\u001b[0m\u001b[37m\u001b[0m \u001b[1m0s\u001b[0m 4ms/step - loss: 1675762.8750 - mae: 655.1092 - mean_absolute_percentage_error: 4.8399\n",
      "Epoch 246/250\n",
      "\u001b[1m98/98\u001b[0m \u001b[32m━━━━━━━━━━━━━━━━━━━━\u001b[0m\u001b[37m\u001b[0m \u001b[1m0s\u001b[0m 4ms/step - loss: 1937098.0000 - mae: 694.1988 - mean_absolute_percentage_error: 4.9135\n",
      "Epoch 247/250\n",
      "\u001b[1m98/98\u001b[0m \u001b[32m━━━━━━━━━━━━━━━━━━━━\u001b[0m\u001b[37m\u001b[0m \u001b[1m0s\u001b[0m 4ms/step - loss: 1645402.7500 - mae: 647.5557 - mean_absolute_percentage_error: 4.7106\n",
      "Epoch 248/250\n",
      "\u001b[1m98/98\u001b[0m \u001b[32m━━━━━━━━━━━━━━━━━━━━\u001b[0m\u001b[37m\u001b[0m \u001b[1m0s\u001b[0m 4ms/step - loss: 1632074.6250 - mae: 645.1299 - mean_absolute_percentage_error: 4.7669\n",
      "Epoch 249/250\n",
      "\u001b[1m98/98\u001b[0m \u001b[32m━━━━━━━━━━━━━━━━━━━━\u001b[0m\u001b[37m\u001b[0m \u001b[1m0s\u001b[0m 4ms/step - loss: 1696455.3750 - mae: 654.9796 - mean_absolute_percentage_error: 4.7332\n",
      "Epoch 250/250\n",
      "\u001b[1m98/98\u001b[0m \u001b[32m━━━━━━━━━━━━━━━━━━━━\u001b[0m\u001b[37m\u001b[0m \u001b[1m0s\u001b[0m 4ms/step - loss: 1541806.3750 - mae: 642.6310 - mean_absolute_percentage_error: 4.7663\n",
      "\u001b[1m11/11\u001b[0m \u001b[32m━━━━━━━━━━━━━━━━━━━━\u001b[0m\u001b[37m\u001b[0m \u001b[1m0s\u001b[0m 11ms/step\n",
      "Final Test Mean Absolute Error: 717.9814538568841\n",
      "Final Test Root Mean Squared Error: 1167.2964618134376\n",
      "Final Test Mean Absolute Percentage Error: 1.7735556\n"
     ]
    }
   ],
   "source": [
    "# Seed\n",
    "seed_value = 123\n",
    "tf.random.set_seed(seed_value)\n",
    "np.random.seed(seed_value)\n",
    "random.seed(seed_value)\n",
    "\n",
    "\n",
    "best_hps = tuner.get_best_hyperparameters()[0]\n",
    "best_model = tuner.hypermodel.build(best_hps)\n",
    "# Train the final model \n",
    "final_model = tuner.hypermodel.build(best_hps)\n",
    "history = final_model.fit(\n",
    "    x_train_full, y_train_full,\n",
    "    epochs=250,\n",
    "    batch_size=32,\n",
    "    verbose=1\n",
    ")\n",
    "\n",
    "# Evaluate the final model on the test data\n",
    "predictions = final_model.predict(X_test)\n",
    "final_mae = mean_absolute_error(y_test, predictions)\n",
    "final_rmse = np.sqrt(mean_squared_error(y_test, predictions))\n",
    "final_mape = tf.keras.losses.MAPE(y_test, predictions)\n",
    "\n",
    "print('Final Test Mean Absolute Error:', final_mae)\n",
    "print('Final Test Root Mean Squared Error:', final_rmse)\n",
    "print('Final Test Mean Absolute Percentage Error:', np.mean(final_mape))\n",
    "\n",
    "# Save the final model\n",
    "final_model.save('best_CNNLSTM3DREG.keras')"
   ]
  },
  {
   "cell_type": "code",
   "execution_count": 4,
   "metadata": {},
   "outputs": [
    {
     "data": {
      "text/plain": [
       "[1.8290087,\n",
       " 2.309341,\n",
       " 1.7107006,\n",
       " 1.6557555,\n",
       " 2.412346,\n",
       " 1.5593584,\n",
       " 2.1630604,\n",
       " 2.2620049,\n",
       " 1.8840046,\n",
       " 1.6857538,\n",
       " 1.9063671,\n",
       " 1.5720459,\n",
       " 2.6419058,\n",
       " 1.5537686,\n",
       " 2.3508227,\n",
       " 2.492752,\n",
       " 3.5617156,\n",
       " 1.6510354,\n",
       " 1.5557767,\n",
       " 2.0128965,\n",
       " 1.5608063,\n",
       " 1.5633347,\n",
       " 1.7675742,\n",
       " 1.9439223,\n",
       " 1.5584742,\n",
       " 1.71946,\n",
       " 1.5820928,\n",
       " 2.927818,\n",
       " 1.7724288,\n",
       " 1.5578203]"
      ]
     },
     "execution_count": 4,
     "metadata": {},
     "output_type": "execute_result"
    }
   ],
   "source": [
    "mape_list "
   ]
  },
  {
   "cell_type": "code",
   "execution_count": null,
   "metadata": {},
   "outputs": [],
   "source": []
  }
 ],
 "metadata": {
  "kernelspec": {
   "display_name": "base",
   "language": "python",
   "name": "python3"
  },
  "language_info": {
   "codemirror_mode": {
    "name": "ipython",
    "version": 3
   },
   "file_extension": ".py",
   "mimetype": "text/x-python",
   "name": "python",
   "nbconvert_exporter": "python",
   "pygments_lexer": "ipython3",
   "version": "3.11.7"
  }
 },
 "nbformat": 4,
 "nbformat_minor": 2
}

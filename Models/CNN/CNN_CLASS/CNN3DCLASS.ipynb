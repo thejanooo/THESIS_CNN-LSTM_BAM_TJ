{
 "cells": [
  {
   "cell_type": "code",
   "execution_count": 1,
   "metadata": {},
   "outputs": [
    {
     "name": "stdout",
     "output_type": "stream",
     "text": [
      "Reloading Tuner from my_dir/CNN-3D-CLASS-3/tuner0.json\n"
     ]
    },
    {
     "name": "stderr",
     "output_type": "stream",
     "text": [
      "/opt/anaconda3/lib/python3.11/site-packages/keras/src/layers/convolutional/base_conv.py:107: UserWarning: Do not pass an `input_shape`/`input_dim` argument to a layer. When using Sequential models, prefer using an `Input(shape)` object as the first layer in the model instead.\n",
      "  super().__init__(activity_regularizer=activity_regularizer, **kwargs)\n"
     ]
    },
    {
     "data": {
      "text/html": [
       "<pre style=\"white-space:pre;overflow-x:auto;line-height:normal;font-family:Menlo,'DejaVu Sans Mono',consolas,'Courier New',monospace\"><span style=\"font-weight: bold\">Model: \"sequential\"</span>\n",
       "</pre>\n"
      ],
      "text/plain": [
       "\u001b[1mModel: \"sequential\"\u001b[0m\n"
      ]
     },
     "metadata": {},
     "output_type": "display_data"
    },
    {
     "data": {
      "text/html": [
       "<pre style=\"white-space:pre;overflow-x:auto;line-height:normal;font-family:Menlo,'DejaVu Sans Mono',consolas,'Courier New',monospace\">┏━━━━━━━━━━━━━━━━━━━━━━━━━━━━━━━━━┳━━━━━━━━━━━━━━━━━━━━━━━━┳━━━━━━━━━━━━━━━┓\n",
       "┃<span style=\"font-weight: bold\"> Layer (type)                    </span>┃<span style=\"font-weight: bold\"> Output Shape           </span>┃<span style=\"font-weight: bold\">       Param # </span>┃\n",
       "┡━━━━━━━━━━━━━━━━━━━━━━━━━━━━━━━━━╇━━━━━━━━━━━━━━━━━━━━━━━━╇━━━━━━━━━━━━━━━┩\n",
       "│ conv2d (<span style=\"color: #0087ff; text-decoration-color: #0087ff\">Conv2D</span>)                 │ (<span style=\"color: #00d7ff; text-decoration-color: #00d7ff\">None</span>, <span style=\"color: #00af00; text-decoration-color: #00af00\">3</span>, <span style=\"color: #00af00; text-decoration-color: #00af00\">23</span>, <span style=\"color: #00af00; text-decoration-color: #00af00\">120</span>)     │         <span style=\"color: #00af00; text-decoration-color: #00af00\">1,200</span> │\n",
       "├─────────────────────────────────┼────────────────────────┼───────────────┤\n",
       "│ max_pooling2d (<span style=\"color: #0087ff; text-decoration-color: #0087ff\">MaxPooling2D</span>)    │ (<span style=\"color: #00d7ff; text-decoration-color: #00d7ff\">None</span>, <span style=\"color: #00af00; text-decoration-color: #00af00\">1</span>, <span style=\"color: #00af00; text-decoration-color: #00af00\">8</span>, <span style=\"color: #00af00; text-decoration-color: #00af00\">120</span>)      │             <span style=\"color: #00af00; text-decoration-color: #00af00\">0</span> │\n",
       "├─────────────────────────────────┼────────────────────────┼───────────────┤\n",
       "│ conv2d_1 (<span style=\"color: #0087ff; text-decoration-color: #0087ff\">Conv2D</span>)               │ (<span style=\"color: #00d7ff; text-decoration-color: #00d7ff\">None</span>, <span style=\"color: #00af00; text-decoration-color: #00af00\">1</span>, <span style=\"color: #00af00; text-decoration-color: #00af00\">8</span>, <span style=\"color: #00af00; text-decoration-color: #00af00\">120</span>)      │       <span style=\"color: #00af00; text-decoration-color: #00af00\">129,720</span> │\n",
       "├─────────────────────────────────┼────────────────────────┼───────────────┤\n",
       "│ max_pooling2d_1 (<span style=\"color: #0087ff; text-decoration-color: #0087ff\">MaxPooling2D</span>)  │ (<span style=\"color: #00d7ff; text-decoration-color: #00d7ff\">None</span>, <span style=\"color: #00af00; text-decoration-color: #00af00\">1</span>, <span style=\"color: #00af00; text-decoration-color: #00af00\">3</span>, <span style=\"color: #00af00; text-decoration-color: #00af00\">120</span>)      │             <span style=\"color: #00af00; text-decoration-color: #00af00\">0</span> │\n",
       "├─────────────────────────────────┼────────────────────────┼───────────────┤\n",
       "│ conv2d_2 (<span style=\"color: #0087ff; text-decoration-color: #0087ff\">Conv2D</span>)               │ (<span style=\"color: #00d7ff; text-decoration-color: #00d7ff\">None</span>, <span style=\"color: #00af00; text-decoration-color: #00af00\">1</span>, <span style=\"color: #00af00; text-decoration-color: #00af00\">3</span>, <span style=\"color: #00af00; text-decoration-color: #00af00\">120</span>)      │       <span style=\"color: #00af00; text-decoration-color: #00af00\">129,720</span> │\n",
       "├─────────────────────────────────┼────────────────────────┼───────────────┤\n",
       "│ max_pooling2d_2 (<span style=\"color: #0087ff; text-decoration-color: #0087ff\">MaxPooling2D</span>)  │ (<span style=\"color: #00d7ff; text-decoration-color: #00d7ff\">None</span>, <span style=\"color: #00af00; text-decoration-color: #00af00\">1</span>, <span style=\"color: #00af00; text-decoration-color: #00af00\">1</span>, <span style=\"color: #00af00; text-decoration-color: #00af00\">120</span>)      │             <span style=\"color: #00af00; text-decoration-color: #00af00\">0</span> │\n",
       "├─────────────────────────────────┼────────────────────────┼───────────────┤\n",
       "│ flatten (<span style=\"color: #0087ff; text-decoration-color: #0087ff\">Flatten</span>)               │ (<span style=\"color: #00d7ff; text-decoration-color: #00d7ff\">None</span>, <span style=\"color: #00af00; text-decoration-color: #00af00\">120</span>)            │             <span style=\"color: #00af00; text-decoration-color: #00af00\">0</span> │\n",
       "├─────────────────────────────────┼────────────────────────┼───────────────┤\n",
       "│ dense (<span style=\"color: #0087ff; text-decoration-color: #0087ff\">Dense</span>)                   │ (<span style=\"color: #00d7ff; text-decoration-color: #00d7ff\">None</span>, <span style=\"color: #00af00; text-decoration-color: #00af00\">1</span>)              │           <span style=\"color: #00af00; text-decoration-color: #00af00\">121</span> │\n",
       "└─────────────────────────────────┴────────────────────────┴───────────────┘\n",
       "</pre>\n"
      ],
      "text/plain": [
       "┏━━━━━━━━━━━━━━━━━━━━━━━━━━━━━━━━━┳━━━━━━━━━━━━━━━━━━━━━━━━┳━━━━━━━━━━━━━━━┓\n",
       "┃\u001b[1m \u001b[0m\u001b[1mLayer (type)                   \u001b[0m\u001b[1m \u001b[0m┃\u001b[1m \u001b[0m\u001b[1mOutput Shape          \u001b[0m\u001b[1m \u001b[0m┃\u001b[1m \u001b[0m\u001b[1m      Param #\u001b[0m\u001b[1m \u001b[0m┃\n",
       "┡━━━━━━━━━━━━━━━━━━━━━━━━━━━━━━━━━╇━━━━━━━━━━━━━━━━━━━━━━━━╇━━━━━━━━━━━━━━━┩\n",
       "│ conv2d (\u001b[38;5;33mConv2D\u001b[0m)                 │ (\u001b[38;5;45mNone\u001b[0m, \u001b[38;5;34m3\u001b[0m, \u001b[38;5;34m23\u001b[0m, \u001b[38;5;34m120\u001b[0m)     │         \u001b[38;5;34m1,200\u001b[0m │\n",
       "├─────────────────────────────────┼────────────────────────┼───────────────┤\n",
       "│ max_pooling2d (\u001b[38;5;33mMaxPooling2D\u001b[0m)    │ (\u001b[38;5;45mNone\u001b[0m, \u001b[38;5;34m1\u001b[0m, \u001b[38;5;34m8\u001b[0m, \u001b[38;5;34m120\u001b[0m)      │             \u001b[38;5;34m0\u001b[0m │\n",
       "├─────────────────────────────────┼────────────────────────┼───────────────┤\n",
       "│ conv2d_1 (\u001b[38;5;33mConv2D\u001b[0m)               │ (\u001b[38;5;45mNone\u001b[0m, \u001b[38;5;34m1\u001b[0m, \u001b[38;5;34m8\u001b[0m, \u001b[38;5;34m120\u001b[0m)      │       \u001b[38;5;34m129,720\u001b[0m │\n",
       "├─────────────────────────────────┼────────────────────────┼───────────────┤\n",
       "│ max_pooling2d_1 (\u001b[38;5;33mMaxPooling2D\u001b[0m)  │ (\u001b[38;5;45mNone\u001b[0m, \u001b[38;5;34m1\u001b[0m, \u001b[38;5;34m3\u001b[0m, \u001b[38;5;34m120\u001b[0m)      │             \u001b[38;5;34m0\u001b[0m │\n",
       "├─────────────────────────────────┼────────────────────────┼───────────────┤\n",
       "│ conv2d_2 (\u001b[38;5;33mConv2D\u001b[0m)               │ (\u001b[38;5;45mNone\u001b[0m, \u001b[38;5;34m1\u001b[0m, \u001b[38;5;34m3\u001b[0m, \u001b[38;5;34m120\u001b[0m)      │       \u001b[38;5;34m129,720\u001b[0m │\n",
       "├─────────────────────────────────┼────────────────────────┼───────────────┤\n",
       "│ max_pooling2d_2 (\u001b[38;5;33mMaxPooling2D\u001b[0m)  │ (\u001b[38;5;45mNone\u001b[0m, \u001b[38;5;34m1\u001b[0m, \u001b[38;5;34m1\u001b[0m, \u001b[38;5;34m120\u001b[0m)      │             \u001b[38;5;34m0\u001b[0m │\n",
       "├─────────────────────────────────┼────────────────────────┼───────────────┤\n",
       "│ flatten (\u001b[38;5;33mFlatten\u001b[0m)               │ (\u001b[38;5;45mNone\u001b[0m, \u001b[38;5;34m120\u001b[0m)            │             \u001b[38;5;34m0\u001b[0m │\n",
       "├─────────────────────────────────┼────────────────────────┼───────────────┤\n",
       "│ dense (\u001b[38;5;33mDense\u001b[0m)                   │ (\u001b[38;5;45mNone\u001b[0m, \u001b[38;5;34m1\u001b[0m)              │           \u001b[38;5;34m121\u001b[0m │\n",
       "└─────────────────────────────────┴────────────────────────┴───────────────┘\n"
      ]
     },
     "metadata": {},
     "output_type": "display_data"
    },
    {
     "data": {
      "text/html": [
       "<pre style=\"white-space:pre;overflow-x:auto;line-height:normal;font-family:Menlo,'DejaVu Sans Mono',consolas,'Courier New',monospace\"><span style=\"font-weight: bold\"> Total params: </span><span style=\"color: #00af00; text-decoration-color: #00af00\">260,761</span> (1018.60 KB)\n",
       "</pre>\n"
      ],
      "text/plain": [
       "\u001b[1m Total params: \u001b[0m\u001b[38;5;34m260,761\u001b[0m (1018.60 KB)\n"
      ]
     },
     "metadata": {},
     "output_type": "display_data"
    },
    {
     "data": {
      "text/html": [
       "<pre style=\"white-space:pre;overflow-x:auto;line-height:normal;font-family:Menlo,'DejaVu Sans Mono',consolas,'Courier New',monospace\"><span style=\"font-weight: bold\"> Trainable params: </span><span style=\"color: #00af00; text-decoration-color: #00af00\">260,761</span> (1018.60 KB)\n",
       "</pre>\n"
      ],
      "text/plain": [
       "\u001b[1m Trainable params: \u001b[0m\u001b[38;5;34m260,761\u001b[0m (1018.60 KB)\n"
      ]
     },
     "metadata": {},
     "output_type": "display_data"
    },
    {
     "data": {
      "text/html": [
       "<pre style=\"white-space:pre;overflow-x:auto;line-height:normal;font-family:Menlo,'DejaVu Sans Mono',consolas,'Courier New',monospace\"><span style=\"font-weight: bold\"> Non-trainable params: </span><span style=\"color: #00af00; text-decoration-color: #00af00\">0</span> (0.00 B)\n",
       "</pre>\n"
      ],
      "text/plain": [
       "\u001b[1m Non-trainable params: \u001b[0m\u001b[38;5;34m0\u001b[0m (0.00 B)\n"
      ]
     },
     "metadata": {},
     "output_type": "display_data"
    },
    {
     "name": "stdout",
     "output_type": "stream",
     "text": [
      "None\n"
     ]
    }
   ],
   "source": [
    "import pandas as pd\n",
    "import numpy as np\n",
    "from sklearn.preprocessing import MinMaxScaler\n",
    "from keras.models import Sequential\n",
    "from keras.layers import Conv2D, MaxPooling2D, Dense, Flatten,Input\n",
    "from keras.optimizers import Adam\n",
    "import tensorflow as tf\n",
    "from keras_tuner import RandomSearch, BayesianOptimization\n",
    "import keras\n",
    "from keras.callbacks import EarlyStopping\n",
    "from sklearn.metrics import accuracy_score, f1_score, precision_score, recall_score\n",
    "import random\n",
    "\n",
    " \n",
    "\n",
    "# Load the data\n",
    "data = pd.read_csv('../../../Data/Final_df/BTC_FINAL_df_class.csv')\n",
    "\n",
    "\n",
    "# MAke the date the index\n",
    "data.set_index('Date', inplace=True)\n",
    "\n",
    "seed_value = 123\n",
    "tf.random.set_seed(seed_value)\n",
    "np.random.seed(seed_value)\n",
    "random.seed(seed_value)\n",
    "\n",
    "# Normalize the data\n",
    "# List of columns to scale\n",
    "columns_to_scale = ['Open', 'High', 'Low','Close', 'Volume', 'RSI', 'ATR', 'MACD', 'MFI',\n",
    "                    'EMA', 'SMA', 'OBV', 'GTrends_Interest', 'Sentiment_Bullish',\n",
    "                    'Price_oil', 'Price_gold', 'Price_NASDAQ', 'Price_SP500', 'Price_NYSE',\n",
    "                    'Interest_Rate', 'hash_rate', 'users']\n",
    "\n",
    "# Initialize the scaler\n",
    "scaler = MinMaxScaler(feature_range=(0, 1))\n",
    "\n",
    "# Scale the selected columns\n",
    "data[columns_to_scale] = scaler.fit_transform(data[columns_to_scale])\n",
    "\n",
    "# Train and test data\n",
    "training_size = int(len(data) * 0.9)\n",
    "training_data = data[:training_size]\n",
    "test_data = data[training_size:]\n",
    "\n",
    "train_data = training_data[:int(len(training_data) * 0.9)]\n",
    "val_data = training_data[int(len(training_data) * 0.9):]\n",
    "\n",
    "\n",
    "# Define the function to create the dataset\n",
    "def create_dataset(data, window_size, target_index):\n",
    "    X, y = [], []\n",
    "    for i in range(len(data) - window_size):\n",
    "        X.append(data.iloc[i:(i + window_size)].values)  \n",
    "        y.append(data.iloc[i + window_size, target_index])\n",
    "    return np.array(X), np.array(y)\n",
    "\n",
    "# Forecast Horizon\n",
    "window_size = 3\n",
    "\n",
    "# Target index ('Close')\n",
    "close_index = 22\n",
    "\n",
    "# Create the dataset\n",
    "X_train, y_train = create_dataset(train_data, window_size, close_index)\n",
    "X_test, y_test = create_dataset(test_data, window_size, close_index)\n",
    "X_val, y_val = create_dataset(val_data, window_size, close_index)\n",
    "X_train_full, y_train_full = create_dataset(training_data, window_size, close_index)\n",
    "\n",
    "\n",
    "# Reshape the data\n",
    "X_train = X_train.reshape((X_train.shape[0], window_size, X_train.shape[2], 1))\n",
    "X_test = X_test.reshape((X_test.shape[0], window_size, X_test.shape[2], 1))\n",
    "X_val = X_val.reshape((X_val.shape[0], window_size, X_val.shape[2], 1))\n",
    "X_train_full = X_train_full.reshape((X_train_full.shape[0], window_size, X_train_full.shape[2], 1))\n",
    "\n",
    "\n",
    "# Define a model-building function\n",
    "def build_model(hp):\n",
    "    model = Sequential()\n",
    "    filters = hp.Int('filters', min_value=10, max_value=150, step=5)\n",
    "    pool = hp.Choice('pool_size', values=[2, 3])\n",
    "    model.add(Conv2D(filters=filters,\n",
    "                    kernel_size=3, activation='relu', padding='same', input_shape=(X_train.shape[1], X_train.shape[2], 1)))\n",
    "    model.add(MaxPooling2D(pool_size=pool, padding='same'))\n",
    "    \n",
    "    model.add(Conv2D(filters=filters, \n",
    "                     kernel_size=3, activation='relu', padding='same'))\n",
    "    model.add(MaxPooling2D(pool_size=pool, padding='same'))\n",
    "\n",
    "    model.add(Conv2D(filters=filters, \n",
    "                     kernel_size=3, activation='relu', padding='same'))\n",
    "    model.add(MaxPooling2D(pool_size=pool,padding='same'))\n",
    "\n",
    "    model.add(Flatten())\n",
    "\n",
    "    model.add(Dense(1, activation='sigmoid'))  \n",
    "    \n",
    "    model.compile(optimizer=Adam(\n",
    "        learning_rate=hp.Choice('learning_rate', values=[1e-2, 1e-3, 1e-4])),\n",
    "        loss='binary_crossentropy',  \n",
    "        metrics=['accuracy'])  \n",
    "    \n",
    "    return model\n",
    "\n",
    "# Try1:CNN-3D-CLASS\n",
    "# Bets : CNN-3D-CLASS-2\n",
    "# Best : CNN-3D-CLASS-3\n",
    "\n",
    "# Instantiate the tuner\n",
    "tuner = RandomSearch(\n",
    "    build_model,\n",
    "    objective='val_accuracy', \n",
    "    max_trials=200,\n",
    "    executions_per_trial=1,\n",
    "    directory='my_dir',\n",
    "    project_name='CNN-3D-CLASS-3',\n",
    "    overwrite=False\n",
    ")\n",
    "\n",
    "\n",
    "# Configure EarlyStopping\n",
    "early_stopping = EarlyStopping(\n",
    "    monitor='val_accuracy',   \n",
    "    patience=15,          \n",
    "    restore_best_weights=True  \n",
    ")\n",
    "\n",
    "# Execute the search with EarlyStopping\n",
    "tuner.search(\n",
    "    X_train, y_train,  \n",
    "    epochs=100,\n",
    "    batch_size=32,\n",
    "    validation_data=(X_val, y_val),  \n",
    "    verbose=2,\n",
    "    callbacks=[early_stopping]\n",
    ")\n",
    "\n",
    "# Get the best model\n",
    "best_hps = tuner.get_best_hyperparameters()[0]\n",
    "best_model = tuner.hypermodel.build(best_hps)\n",
    "\n",
    "print(best_model.summary())"
   ]
  },
  {
   "cell_type": "code",
   "execution_count": 10,
   "metadata": {},
   "outputs": [
    {
     "name": "stderr",
     "output_type": "stream",
     "text": [
      "/opt/anaconda3/lib/python3.11/site-packages/keras/src/layers/convolutional/base_conv.py:107: UserWarning: Do not pass an `input_shape`/`input_dim` argument to a layer. When using Sequential models, prefer using an `Input(shape)` object as the first layer in the model instead.\n",
      "  super().__init__(activity_regularizer=activity_regularizer, **kwargs)\n"
     ]
    },
    {
     "name": "stdout",
     "output_type": "stream",
     "text": [
      "iteration:  0\n",
      "\u001b[1m11/11\u001b[0m \u001b[32m━━━━━━━━━━━━━━━━━━━━\u001b[0m\u001b[37m\u001b[0m \u001b[1m0s\u001b[0m 3ms/step \n",
      "iteration:  1\n"
     ]
    },
    {
     "name": "stderr",
     "output_type": "stream",
     "text": [
      "/opt/anaconda3/lib/python3.11/site-packages/keras/src/layers/convolutional/base_conv.py:107: UserWarning: Do not pass an `input_shape`/`input_dim` argument to a layer. When using Sequential models, prefer using an `Input(shape)` object as the first layer in the model instead.\n",
      "  super().__init__(activity_regularizer=activity_regularizer, **kwargs)\n"
     ]
    },
    {
     "name": "stdout",
     "output_type": "stream",
     "text": [
      "\u001b[1m11/11\u001b[0m \u001b[32m━━━━━━━━━━━━━━━━━━━━\u001b[0m\u001b[37m\u001b[0m \u001b[1m0s\u001b[0m 3ms/step \n",
      "iteration:  2\n"
     ]
    },
    {
     "name": "stderr",
     "output_type": "stream",
     "text": [
      "/opt/anaconda3/lib/python3.11/site-packages/keras/src/layers/convolutional/base_conv.py:107: UserWarning: Do not pass an `input_shape`/`input_dim` argument to a layer. When using Sequential models, prefer using an `Input(shape)` object as the first layer in the model instead.\n",
      "  super().__init__(activity_regularizer=activity_regularizer, **kwargs)\n"
     ]
    },
    {
     "name": "stdout",
     "output_type": "stream",
     "text": [
      "\u001b[1m11/11\u001b[0m \u001b[32m━━━━━━━━━━━━━━━━━━━━\u001b[0m\u001b[37m\u001b[0m \u001b[1m0s\u001b[0m 4ms/step \n",
      "iteration:  3\n"
     ]
    },
    {
     "name": "stderr",
     "output_type": "stream",
     "text": [
      "/opt/anaconda3/lib/python3.11/site-packages/keras/src/layers/convolutional/base_conv.py:107: UserWarning: Do not pass an `input_shape`/`input_dim` argument to a layer. When using Sequential models, prefer using an `Input(shape)` object as the first layer in the model instead.\n",
      "  super().__init__(activity_regularizer=activity_regularizer, **kwargs)\n"
     ]
    },
    {
     "name": "stdout",
     "output_type": "stream",
     "text": [
      "\u001b[1m11/11\u001b[0m \u001b[32m━━━━━━━━━━━━━━━━━━━━\u001b[0m\u001b[37m\u001b[0m \u001b[1m0s\u001b[0m 3ms/step \n",
      "iteration:  4\n"
     ]
    },
    {
     "name": "stderr",
     "output_type": "stream",
     "text": [
      "/opt/anaconda3/lib/python3.11/site-packages/keras/src/layers/convolutional/base_conv.py:107: UserWarning: Do not pass an `input_shape`/`input_dim` argument to a layer. When using Sequential models, prefer using an `Input(shape)` object as the first layer in the model instead.\n",
      "  super().__init__(activity_regularizer=activity_regularizer, **kwargs)\n"
     ]
    },
    {
     "name": "stdout",
     "output_type": "stream",
     "text": [
      "\u001b[1m11/11\u001b[0m \u001b[32m━━━━━━━━━━━━━━━━━━━━\u001b[0m\u001b[37m\u001b[0m \u001b[1m0s\u001b[0m 6ms/step\n",
      "iteration:  5\n"
     ]
    },
    {
     "name": "stderr",
     "output_type": "stream",
     "text": [
      "/opt/anaconda3/lib/python3.11/site-packages/keras/src/layers/convolutional/base_conv.py:107: UserWarning: Do not pass an `input_shape`/`input_dim` argument to a layer. When using Sequential models, prefer using an `Input(shape)` object as the first layer in the model instead.\n",
      "  super().__init__(activity_regularizer=activity_regularizer, **kwargs)\n"
     ]
    },
    {
     "name": "stdout",
     "output_type": "stream",
     "text": [
      "\u001b[1m11/11\u001b[0m \u001b[32m━━━━━━━━━━━━━━━━━━━━\u001b[0m\u001b[37m\u001b[0m \u001b[1m0s\u001b[0m 5ms/step \n",
      "iteration:  6\n"
     ]
    },
    {
     "name": "stderr",
     "output_type": "stream",
     "text": [
      "/opt/anaconda3/lib/python3.11/site-packages/keras/src/layers/convolutional/base_conv.py:107: UserWarning: Do not pass an `input_shape`/`input_dim` argument to a layer. When using Sequential models, prefer using an `Input(shape)` object as the first layer in the model instead.\n",
      "  super().__init__(activity_regularizer=activity_regularizer, **kwargs)\n"
     ]
    },
    {
     "name": "stdout",
     "output_type": "stream",
     "text": [
      "\u001b[1m11/11\u001b[0m \u001b[32m━━━━━━━━━━━━━━━━━━━━\u001b[0m\u001b[37m\u001b[0m \u001b[1m0s\u001b[0m 5ms/step\n",
      "iteration:  7\n"
     ]
    },
    {
     "name": "stderr",
     "output_type": "stream",
     "text": [
      "/opt/anaconda3/lib/python3.11/site-packages/keras/src/layers/convolutional/base_conv.py:107: UserWarning: Do not pass an `input_shape`/`input_dim` argument to a layer. When using Sequential models, prefer using an `Input(shape)` object as the first layer in the model instead.\n",
      "  super().__init__(activity_regularizer=activity_regularizer, **kwargs)\n"
     ]
    },
    {
     "name": "stdout",
     "output_type": "stream",
     "text": [
      "\u001b[1m11/11\u001b[0m \u001b[32m━━━━━━━━━━━━━━━━━━━━\u001b[0m\u001b[37m\u001b[0m \u001b[1m0s\u001b[0m 5ms/step \n",
      "iteration:  8\n"
     ]
    },
    {
     "name": "stderr",
     "output_type": "stream",
     "text": [
      "/opt/anaconda3/lib/python3.11/site-packages/keras/src/layers/convolutional/base_conv.py:107: UserWarning: Do not pass an `input_shape`/`input_dim` argument to a layer. When using Sequential models, prefer using an `Input(shape)` object as the first layer in the model instead.\n",
      "  super().__init__(activity_regularizer=activity_regularizer, **kwargs)\n"
     ]
    },
    {
     "name": "stdout",
     "output_type": "stream",
     "text": [
      "\u001b[1m11/11\u001b[0m \u001b[32m━━━━━━━━━━━━━━━━━━━━\u001b[0m\u001b[37m\u001b[0m \u001b[1m0s\u001b[0m 5ms/step \n",
      "iteration:  9\n"
     ]
    },
    {
     "name": "stderr",
     "output_type": "stream",
     "text": [
      "/opt/anaconda3/lib/python3.11/site-packages/keras/src/layers/convolutional/base_conv.py:107: UserWarning: Do not pass an `input_shape`/`input_dim` argument to a layer. When using Sequential models, prefer using an `Input(shape)` object as the first layer in the model instead.\n",
      "  super().__init__(activity_regularizer=activity_regularizer, **kwargs)\n"
     ]
    },
    {
     "name": "stdout",
     "output_type": "stream",
     "text": [
      "\u001b[1m11/11\u001b[0m \u001b[32m━━━━━━━━━━━━━━━━━━━━\u001b[0m\u001b[37m\u001b[0m \u001b[1m0s\u001b[0m 5ms/step \n",
      "iteration:  10\n"
     ]
    },
    {
     "name": "stderr",
     "output_type": "stream",
     "text": [
      "/opt/anaconda3/lib/python3.11/site-packages/keras/src/layers/convolutional/base_conv.py:107: UserWarning: Do not pass an `input_shape`/`input_dim` argument to a layer. When using Sequential models, prefer using an `Input(shape)` object as the first layer in the model instead.\n",
      "  super().__init__(activity_regularizer=activity_regularizer, **kwargs)\n"
     ]
    },
    {
     "name": "stdout",
     "output_type": "stream",
     "text": [
      "\u001b[1m11/11\u001b[0m \u001b[32m━━━━━━━━━━━━━━━━━━━━\u001b[0m\u001b[37m\u001b[0m \u001b[1m0s\u001b[0m 5ms/step \n",
      "iteration:  11\n"
     ]
    },
    {
     "name": "stderr",
     "output_type": "stream",
     "text": [
      "/opt/anaconda3/lib/python3.11/site-packages/keras/src/layers/convolutional/base_conv.py:107: UserWarning: Do not pass an `input_shape`/`input_dim` argument to a layer. When using Sequential models, prefer using an `Input(shape)` object as the first layer in the model instead.\n",
      "  super().__init__(activity_regularizer=activity_regularizer, **kwargs)\n"
     ]
    },
    {
     "name": "stdout",
     "output_type": "stream",
     "text": [
      "\u001b[1m11/11\u001b[0m \u001b[32m━━━━━━━━━━━━━━━━━━━━\u001b[0m\u001b[37m\u001b[0m \u001b[1m0s\u001b[0m 4ms/step \n",
      "iteration:  12\n"
     ]
    },
    {
     "name": "stderr",
     "output_type": "stream",
     "text": [
      "/opt/anaconda3/lib/python3.11/site-packages/keras/src/layers/convolutional/base_conv.py:107: UserWarning: Do not pass an `input_shape`/`input_dim` argument to a layer. When using Sequential models, prefer using an `Input(shape)` object as the first layer in the model instead.\n",
      "  super().__init__(activity_regularizer=activity_regularizer, **kwargs)\n"
     ]
    },
    {
     "name": "stdout",
     "output_type": "stream",
     "text": [
      "\u001b[1m11/11\u001b[0m \u001b[32m━━━━━━━━━━━━━━━━━━━━\u001b[0m\u001b[37m\u001b[0m \u001b[1m0s\u001b[0m 5ms/step \n",
      "iteration:  13\n"
     ]
    },
    {
     "name": "stderr",
     "output_type": "stream",
     "text": [
      "/opt/anaconda3/lib/python3.11/site-packages/keras/src/layers/convolutional/base_conv.py:107: UserWarning: Do not pass an `input_shape`/`input_dim` argument to a layer. When using Sequential models, prefer using an `Input(shape)` object as the first layer in the model instead.\n",
      "  super().__init__(activity_regularizer=activity_regularizer, **kwargs)\n"
     ]
    },
    {
     "name": "stdout",
     "output_type": "stream",
     "text": [
      "\u001b[1m11/11\u001b[0m \u001b[32m━━━━━━━━━━━━━━━━━━━━\u001b[0m\u001b[37m\u001b[0m \u001b[1m0s\u001b[0m 4ms/step \n",
      "iteration:  14\n"
     ]
    },
    {
     "name": "stderr",
     "output_type": "stream",
     "text": [
      "/opt/anaconda3/lib/python3.11/site-packages/keras/src/layers/convolutional/base_conv.py:107: UserWarning: Do not pass an `input_shape`/`input_dim` argument to a layer. When using Sequential models, prefer using an `Input(shape)` object as the first layer in the model instead.\n",
      "  super().__init__(activity_regularizer=activity_regularizer, **kwargs)\n"
     ]
    },
    {
     "name": "stdout",
     "output_type": "stream",
     "text": [
      "\u001b[1m11/11\u001b[0m \u001b[32m━━━━━━━━━━━━━━━━━━━━\u001b[0m\u001b[37m\u001b[0m \u001b[1m0s\u001b[0m 4ms/step \n",
      "iteration:  15\n"
     ]
    },
    {
     "name": "stderr",
     "output_type": "stream",
     "text": [
      "/opt/anaconda3/lib/python3.11/site-packages/keras/src/layers/convolutional/base_conv.py:107: UserWarning: Do not pass an `input_shape`/`input_dim` argument to a layer. When using Sequential models, prefer using an `Input(shape)` object as the first layer in the model instead.\n",
      "  super().__init__(activity_regularizer=activity_regularizer, **kwargs)\n"
     ]
    },
    {
     "name": "stdout",
     "output_type": "stream",
     "text": [
      "\u001b[1m11/11\u001b[0m \u001b[32m━━━━━━━━━━━━━━━━━━━━\u001b[0m\u001b[37m\u001b[0m \u001b[1m0s\u001b[0m 5ms/step\n",
      "iteration:  16\n"
     ]
    },
    {
     "name": "stderr",
     "output_type": "stream",
     "text": [
      "/opt/anaconda3/lib/python3.11/site-packages/keras/src/layers/convolutional/base_conv.py:107: UserWarning: Do not pass an `input_shape`/`input_dim` argument to a layer. When using Sequential models, prefer using an `Input(shape)` object as the first layer in the model instead.\n",
      "  super().__init__(activity_regularizer=activity_regularizer, **kwargs)\n"
     ]
    },
    {
     "name": "stdout",
     "output_type": "stream",
     "text": [
      "\u001b[1m11/11\u001b[0m \u001b[32m━━━━━━━━━━━━━━━━━━━━\u001b[0m\u001b[37m\u001b[0m \u001b[1m0s\u001b[0m 5ms/step \n",
      "iteration:  17\n"
     ]
    },
    {
     "name": "stderr",
     "output_type": "stream",
     "text": [
      "/opt/anaconda3/lib/python3.11/site-packages/keras/src/layers/convolutional/base_conv.py:107: UserWarning: Do not pass an `input_shape`/`input_dim` argument to a layer. When using Sequential models, prefer using an `Input(shape)` object as the first layer in the model instead.\n",
      "  super().__init__(activity_regularizer=activity_regularizer, **kwargs)\n"
     ]
    },
    {
     "name": "stdout",
     "output_type": "stream",
     "text": [
      "\u001b[1m11/11\u001b[0m \u001b[32m━━━━━━━━━━━━━━━━━━━━\u001b[0m\u001b[37m\u001b[0m \u001b[1m0s\u001b[0m 5ms/step \n",
      "iteration:  18\n"
     ]
    },
    {
     "name": "stderr",
     "output_type": "stream",
     "text": [
      "/opt/anaconda3/lib/python3.11/site-packages/keras/src/layers/convolutional/base_conv.py:107: UserWarning: Do not pass an `input_shape`/`input_dim` argument to a layer. When using Sequential models, prefer using an `Input(shape)` object as the first layer in the model instead.\n",
      "  super().__init__(activity_regularizer=activity_regularizer, **kwargs)\n"
     ]
    },
    {
     "name": "stdout",
     "output_type": "stream",
     "text": [
      "\u001b[1m11/11\u001b[0m \u001b[32m━━━━━━━━━━━━━━━━━━━━\u001b[0m\u001b[37m\u001b[0m \u001b[1m0s\u001b[0m 5ms/step\n",
      "iteration:  19\n"
     ]
    },
    {
     "name": "stderr",
     "output_type": "stream",
     "text": [
      "/opt/anaconda3/lib/python3.11/site-packages/keras/src/layers/convolutional/base_conv.py:107: UserWarning: Do not pass an `input_shape`/`input_dim` argument to a layer. When using Sequential models, prefer using an `Input(shape)` object as the first layer in the model instead.\n",
      "  super().__init__(activity_regularizer=activity_regularizer, **kwargs)\n"
     ]
    },
    {
     "name": "stdout",
     "output_type": "stream",
     "text": [
      "\u001b[1m11/11\u001b[0m \u001b[32m━━━━━━━━━━━━━━━━━━━━\u001b[0m\u001b[37m\u001b[0m \u001b[1m0s\u001b[0m 4ms/step \n",
      "iteration:  20\n"
     ]
    },
    {
     "name": "stderr",
     "output_type": "stream",
     "text": [
      "/opt/anaconda3/lib/python3.11/site-packages/keras/src/layers/convolutional/base_conv.py:107: UserWarning: Do not pass an `input_shape`/`input_dim` argument to a layer. When using Sequential models, prefer using an `Input(shape)` object as the first layer in the model instead.\n",
      "  super().__init__(activity_regularizer=activity_regularizer, **kwargs)\n"
     ]
    },
    {
     "name": "stdout",
     "output_type": "stream",
     "text": [
      "\u001b[1m11/11\u001b[0m \u001b[32m━━━━━━━━━━━━━━━━━━━━\u001b[0m\u001b[37m\u001b[0m \u001b[1m0s\u001b[0m 6ms/step\n",
      "iteration:  21\n"
     ]
    },
    {
     "name": "stderr",
     "output_type": "stream",
     "text": [
      "/opt/anaconda3/lib/python3.11/site-packages/keras/src/layers/convolutional/base_conv.py:107: UserWarning: Do not pass an `input_shape`/`input_dim` argument to a layer. When using Sequential models, prefer using an `Input(shape)` object as the first layer in the model instead.\n",
      "  super().__init__(activity_regularizer=activity_regularizer, **kwargs)\n"
     ]
    },
    {
     "name": "stdout",
     "output_type": "stream",
     "text": [
      "\u001b[1m11/11\u001b[0m \u001b[32m━━━━━━━━━━━━━━━━━━━━\u001b[0m\u001b[37m\u001b[0m \u001b[1m0s\u001b[0m 5ms/step\n",
      "iteration:  22\n"
     ]
    },
    {
     "name": "stderr",
     "output_type": "stream",
     "text": [
      "/opt/anaconda3/lib/python3.11/site-packages/keras/src/layers/convolutional/base_conv.py:107: UserWarning: Do not pass an `input_shape`/`input_dim` argument to a layer. When using Sequential models, prefer using an `Input(shape)` object as the first layer in the model instead.\n",
      "  super().__init__(activity_regularizer=activity_regularizer, **kwargs)\n"
     ]
    },
    {
     "name": "stdout",
     "output_type": "stream",
     "text": [
      "\u001b[1m11/11\u001b[0m \u001b[32m━━━━━━━━━━━━━━━━━━━━\u001b[0m\u001b[37m\u001b[0m \u001b[1m0s\u001b[0m 5ms/step \n",
      "iteration:  23\n"
     ]
    },
    {
     "name": "stderr",
     "output_type": "stream",
     "text": [
      "/opt/anaconda3/lib/python3.11/site-packages/keras/src/layers/convolutional/base_conv.py:107: UserWarning: Do not pass an `input_shape`/`input_dim` argument to a layer. When using Sequential models, prefer using an `Input(shape)` object as the first layer in the model instead.\n",
      "  super().__init__(activity_regularizer=activity_regularizer, **kwargs)\n"
     ]
    },
    {
     "name": "stdout",
     "output_type": "stream",
     "text": [
      "\u001b[1m11/11\u001b[0m \u001b[32m━━━━━━━━━━━━━━━━━━━━\u001b[0m\u001b[37m\u001b[0m \u001b[1m0s\u001b[0m 5ms/step \n",
      "iteration:  24\n"
     ]
    },
    {
     "name": "stderr",
     "output_type": "stream",
     "text": [
      "/opt/anaconda3/lib/python3.11/site-packages/keras/src/layers/convolutional/base_conv.py:107: UserWarning: Do not pass an `input_shape`/`input_dim` argument to a layer. When using Sequential models, prefer using an `Input(shape)` object as the first layer in the model instead.\n",
      "  super().__init__(activity_regularizer=activity_regularizer, **kwargs)\n"
     ]
    },
    {
     "name": "stdout",
     "output_type": "stream",
     "text": [
      "\u001b[1m11/11\u001b[0m \u001b[32m━━━━━━━━━━━━━━━━━━━━\u001b[0m\u001b[37m\u001b[0m \u001b[1m0s\u001b[0m 4ms/step \n",
      "iteration:  25\n"
     ]
    },
    {
     "name": "stderr",
     "output_type": "stream",
     "text": [
      "/opt/anaconda3/lib/python3.11/site-packages/keras/src/layers/convolutional/base_conv.py:107: UserWarning: Do not pass an `input_shape`/`input_dim` argument to a layer. When using Sequential models, prefer using an `Input(shape)` object as the first layer in the model instead.\n",
      "  super().__init__(activity_regularizer=activity_regularizer, **kwargs)\n"
     ]
    },
    {
     "name": "stdout",
     "output_type": "stream",
     "text": [
      "\u001b[1m11/11\u001b[0m \u001b[32m━━━━━━━━━━━━━━━━━━━━\u001b[0m\u001b[37m\u001b[0m \u001b[1m0s\u001b[0m 5ms/step \n",
      "iteration:  26\n"
     ]
    },
    {
     "name": "stderr",
     "output_type": "stream",
     "text": [
      "/opt/anaconda3/lib/python3.11/site-packages/keras/src/layers/convolutional/base_conv.py:107: UserWarning: Do not pass an `input_shape`/`input_dim` argument to a layer. When using Sequential models, prefer using an `Input(shape)` object as the first layer in the model instead.\n",
      "  super().__init__(activity_regularizer=activity_regularizer, **kwargs)\n"
     ]
    },
    {
     "name": "stdout",
     "output_type": "stream",
     "text": [
      "\u001b[1m11/11\u001b[0m \u001b[32m━━━━━━━━━━━━━━━━━━━━\u001b[0m\u001b[37m\u001b[0m \u001b[1m0s\u001b[0m 5ms/step \n",
      "iteration:  27\n"
     ]
    },
    {
     "name": "stderr",
     "output_type": "stream",
     "text": [
      "/opt/anaconda3/lib/python3.11/site-packages/keras/src/layers/convolutional/base_conv.py:107: UserWarning: Do not pass an `input_shape`/`input_dim` argument to a layer. When using Sequential models, prefer using an `Input(shape)` object as the first layer in the model instead.\n",
      "  super().__init__(activity_regularizer=activity_regularizer, **kwargs)\n"
     ]
    },
    {
     "name": "stdout",
     "output_type": "stream",
     "text": [
      "\u001b[1m11/11\u001b[0m \u001b[32m━━━━━━━━━━━━━━━━━━━━\u001b[0m\u001b[37m\u001b[0m \u001b[1m0s\u001b[0m 14ms/step\n",
      "iteration:  28\n"
     ]
    },
    {
     "name": "stderr",
     "output_type": "stream",
     "text": [
      "/opt/anaconda3/lib/python3.11/site-packages/keras/src/layers/convolutional/base_conv.py:107: UserWarning: Do not pass an `input_shape`/`input_dim` argument to a layer. When using Sequential models, prefer using an `Input(shape)` object as the first layer in the model instead.\n",
      "  super().__init__(activity_regularizer=activity_regularizer, **kwargs)\n"
     ]
    },
    {
     "name": "stdout",
     "output_type": "stream",
     "text": [
      "\u001b[1m11/11\u001b[0m \u001b[32m━━━━━━━━━━━━━━━━━━━━\u001b[0m\u001b[37m\u001b[0m \u001b[1m0s\u001b[0m 5ms/step\n",
      "iteration:  29\n"
     ]
    },
    {
     "name": "stderr",
     "output_type": "stream",
     "text": [
      "/opt/anaconda3/lib/python3.11/site-packages/keras/src/layers/convolutional/base_conv.py:107: UserWarning: Do not pass an `input_shape`/`input_dim` argument to a layer. When using Sequential models, prefer using an `Input(shape)` object as the first layer in the model instead.\n",
      "  super().__init__(activity_regularizer=activity_regularizer, **kwargs)\n"
     ]
    },
    {
     "name": "stdout",
     "output_type": "stream",
     "text": [
      "\u001b[1m11/11\u001b[0m \u001b[32m━━━━━━━━━━━━━━━━━━━━\u001b[0m\u001b[37m\u001b[0m \u001b[1m0s\u001b[0m 4ms/step \n",
      "Accuracy: 0.47884057971014493\n",
      "F1: 0.38499868999622905\n",
      "Precision: 0.47952017570407374\n",
      "Recall: 0.3373333333333333\n"
     ]
    }
   ],
   "source": [
    "# Fit the model n times and averages the metrics\n",
    "n = 30\n",
    "accuracy_list = []\n",
    "f1_list = []\n",
    "precision_list = []\n",
    "recall_list = []\n",
    "\n",
    "for _ in range(n):\n",
    "    best_hps = tuner.get_best_hyperparameters()[0]\n",
    "    best_model = tuner.hypermodel.build(best_hps)\n",
    "    print(\"iteration: \", _)\n",
    "    history = best_model.fit(\n",
    "        X_train_full, y_train_full,\n",
    "        epochs=250,\n",
    "        batch_size=32,\n",
    "        verbose=0\n",
    "    )\n",
    "    predictions = best_model.predict(X_test)\n",
    "    test_pred = (predictions > 0.5).astype(int)\n",
    "\n",
    "    accuracy = accuracy_score(y_test, test_pred)\n",
    "    f1 = f1_score(y_test, test_pred)\n",
    "    precision = precision_score(y_test, test_pred)\n",
    "    recall = recall_score(y_test, test_pred)\n",
    "\n",
    "    accuracy_list.append(accuracy)\n",
    "    f1_list.append(f1)\n",
    "    precision_list.append(precision)\n",
    "    recall_list.append(recall)\n",
    "\n",
    "# Calculate the average metrics\n",
    "average_accuracy = np.mean(accuracy_list)\n",
    "average_f1 = np.mean(f1_list)\n",
    "average_precision = np.mean(precision_list)\n",
    "average_recall = np.mean(recall_list)\n",
    "    \n",
    "# Print the average metrics\n",
    "print('Accuracy:', average_accuracy)\n",
    "print('F1:', average_f1)\n",
    "print('Precision:', average_precision)\n",
    "print('Recall:', average_recall)"
   ]
  },
  {
   "cell_type": "code",
   "execution_count": 8,
   "metadata": {},
   "outputs": [
    {
     "name": "stdout",
     "output_type": "stream",
     "text": [
      "Epoch 1/100\n"
     ]
    },
    {
     "name": "stderr",
     "output_type": "stream",
     "text": [
      "/opt/anaconda3/lib/python3.11/site-packages/keras/src/layers/convolutional/base_conv.py:107: UserWarning: Do not pass an `input_shape`/`input_dim` argument to a layer. When using Sequential models, prefer using an `Input(shape)` object as the first layer in the model instead.\n",
      "  super().__init__(activity_regularizer=activity_regularizer, **kwargs)\n"
     ]
    },
    {
     "name": "stdout",
     "output_type": "stream",
     "text": [
      "98/98 - 1s - 10ms/step - accuracy: 0.5198 - loss: 0.6929\n",
      "Epoch 2/100\n",
      "98/98 - 0s - 4ms/step - accuracy: 0.5285 - loss: 0.6911\n",
      "Epoch 3/100\n",
      "98/98 - 0s - 4ms/step - accuracy: 0.5233 - loss: 0.6897\n",
      "Epoch 4/100\n",
      "98/98 - 0s - 4ms/step - accuracy: 0.5217 - loss: 0.6887\n",
      "Epoch 5/100\n",
      "98/98 - 0s - 4ms/step - accuracy: 0.5240 - loss: 0.6883\n",
      "Epoch 6/100\n",
      "98/98 - 0s - 4ms/step - accuracy: 0.5233 - loss: 0.6879\n",
      "Epoch 7/100\n",
      "98/98 - 0s - 4ms/step - accuracy: 0.5269 - loss: 0.6871\n",
      "Epoch 8/100\n",
      "98/98 - 0s - 4ms/step - accuracy: 0.5275 - loss: 0.6868\n",
      "Epoch 9/100\n",
      "98/98 - 0s - 4ms/step - accuracy: 0.5342 - loss: 0.6862\n",
      "Epoch 10/100\n",
      "98/98 - 0s - 4ms/step - accuracy: 0.5355 - loss: 0.6858\n",
      "Epoch 11/100\n",
      "98/98 - 0s - 4ms/step - accuracy: 0.5342 - loss: 0.6858\n",
      "Epoch 12/100\n",
      "98/98 - 0s - 3ms/step - accuracy: 0.5486 - loss: 0.6852\n",
      "Epoch 13/100\n",
      "98/98 - 0s - 4ms/step - accuracy: 0.5489 - loss: 0.6843\n",
      "Epoch 14/100\n",
      "98/98 - 0s - 4ms/step - accuracy: 0.5460 - loss: 0.6844\n",
      "Epoch 15/100\n",
      "98/98 - 0s - 4ms/step - accuracy: 0.5531 - loss: 0.6836\n",
      "Epoch 16/100\n",
      "98/98 - 0s - 4ms/step - accuracy: 0.5614 - loss: 0.6830\n",
      "Epoch 17/100\n",
      "98/98 - 0s - 3ms/step - accuracy: 0.5630 - loss: 0.6829\n",
      "Epoch 18/100\n",
      "98/98 - 0s - 3ms/step - accuracy: 0.5649 - loss: 0.6825\n",
      "Epoch 19/100\n",
      "98/98 - 0s - 4ms/step - accuracy: 0.5614 - loss: 0.6823\n",
      "Epoch 20/100\n",
      "98/98 - 0s - 4ms/step - accuracy: 0.5668 - loss: 0.6819\n",
      "Epoch 21/100\n",
      "98/98 - 0s - 4ms/step - accuracy: 0.5723 - loss: 0.6810\n",
      "Epoch 22/100\n",
      "98/98 - 0s - 4ms/step - accuracy: 0.5643 - loss: 0.6814\n",
      "Epoch 23/100\n",
      "98/98 - 0s - 4ms/step - accuracy: 0.5691 - loss: 0.6814\n",
      "Epoch 24/100\n",
      "98/98 - 0s - 4ms/step - accuracy: 0.5700 - loss: 0.6801\n",
      "Epoch 25/100\n",
      "98/98 - 0s - 4ms/step - accuracy: 0.5716 - loss: 0.6791\n",
      "Epoch 26/100\n",
      "98/98 - 0s - 4ms/step - accuracy: 0.5694 - loss: 0.6795\n",
      "Epoch 27/100\n",
      "98/98 - 0s - 4ms/step - accuracy: 0.5754 - loss: 0.6782\n",
      "Epoch 28/100\n",
      "98/98 - 0s - 4ms/step - accuracy: 0.5812 - loss: 0.6768\n",
      "Epoch 29/100\n",
      "98/98 - 0s - 4ms/step - accuracy: 0.5790 - loss: 0.6761\n",
      "Epoch 30/100\n",
      "98/98 - 0s - 4ms/step - accuracy: 0.5809 - loss: 0.6751\n",
      "Epoch 31/100\n",
      "98/98 - 0s - 4ms/step - accuracy: 0.5806 - loss: 0.6744\n",
      "Epoch 32/100\n",
      "98/98 - 0s - 3ms/step - accuracy: 0.5822 - loss: 0.6734\n",
      "Epoch 33/100\n",
      "98/98 - 0s - 4ms/step - accuracy: 0.5825 - loss: 0.6724\n",
      "Epoch 34/100\n",
      "98/98 - 0s - 3ms/step - accuracy: 0.5831 - loss: 0.6720\n",
      "Epoch 35/100\n",
      "98/98 - 0s - 3ms/step - accuracy: 0.5870 - loss: 0.6711\n",
      "Epoch 36/100\n",
      "98/98 - 0s - 3ms/step - accuracy: 0.5921 - loss: 0.6700\n",
      "Epoch 37/100\n",
      "98/98 - 0s - 3ms/step - accuracy: 0.5921 - loss: 0.6690\n",
      "Epoch 38/100\n",
      "98/98 - 0s - 3ms/step - accuracy: 0.5863 - loss: 0.6682\n",
      "Epoch 39/100\n",
      "98/98 - 0s - 3ms/step - accuracy: 0.5921 - loss: 0.6667\n",
      "Epoch 40/100\n",
      "98/98 - 0s - 4ms/step - accuracy: 0.5937 - loss: 0.6657\n",
      "Epoch 41/100\n",
      "98/98 - 0s - 4ms/step - accuracy: 0.5953 - loss: 0.6648\n",
      "Epoch 42/100\n",
      "98/98 - 0s - 3ms/step - accuracy: 0.5969 - loss: 0.6637\n",
      "Epoch 43/100\n",
      "98/98 - 0s - 3ms/step - accuracy: 0.5972 - loss: 0.6626\n",
      "Epoch 44/100\n",
      "98/98 - 0s - 3ms/step - accuracy: 0.6029 - loss: 0.6606\n",
      "Epoch 45/100\n",
      "98/98 - 0s - 3ms/step - accuracy: 0.6033 - loss: 0.6597\n",
      "Epoch 46/100\n",
      "98/98 - 0s - 4ms/step - accuracy: 0.6029 - loss: 0.6589\n",
      "Epoch 47/100\n",
      "98/98 - 0s - 3ms/step - accuracy: 0.6010 - loss: 0.6576\n",
      "Epoch 48/100\n",
      "98/98 - 0s - 4ms/step - accuracy: 0.6001 - loss: 0.6564\n",
      "Epoch 49/100\n",
      "98/98 - 0s - 4ms/step - accuracy: 0.6042 - loss: 0.6546\n",
      "Epoch 50/100\n",
      "98/98 - 0s - 4ms/step - accuracy: 0.6106 - loss: 0.6532\n",
      "Epoch 51/100\n",
      "98/98 - 0s - 4ms/step - accuracy: 0.6087 - loss: 0.6510\n",
      "Epoch 52/100\n",
      "98/98 - 0s - 4ms/step - accuracy: 0.6167 - loss: 0.6489\n",
      "Epoch 53/100\n",
      "98/98 - 0s - 4ms/step - accuracy: 0.6151 - loss: 0.6475\n",
      "Epoch 54/100\n",
      "98/98 - 0s - 4ms/step - accuracy: 0.6090 - loss: 0.6471\n",
      "Epoch 55/100\n",
      "98/98 - 0s - 4ms/step - accuracy: 0.6119 - loss: 0.6457\n",
      "Epoch 56/100\n",
      "98/98 - 0s - 4ms/step - accuracy: 0.6183 - loss: 0.6433\n",
      "Epoch 57/100\n",
      "98/98 - 0s - 4ms/step - accuracy: 0.6215 - loss: 0.6415\n",
      "Epoch 58/100\n",
      "98/98 - 0s - 4ms/step - accuracy: 0.6205 - loss: 0.6393\n",
      "Epoch 59/100\n",
      "98/98 - 0s - 3ms/step - accuracy: 0.6183 - loss: 0.6392\n",
      "Epoch 60/100\n",
      "98/98 - 0s - 4ms/step - accuracy: 0.6215 - loss: 0.6393\n",
      "Epoch 61/100\n",
      "98/98 - 0s - 4ms/step - accuracy: 0.6167 - loss: 0.6396\n",
      "Epoch 62/100\n",
      "98/98 - 0s - 3ms/step - accuracy: 0.6160 - loss: 0.6399\n",
      "Epoch 63/100\n",
      "98/98 - 0s - 4ms/step - accuracy: 0.6186 - loss: 0.6369\n",
      "Epoch 64/100\n",
      "98/98 - 0s - 5ms/step - accuracy: 0.6240 - loss: 0.6357\n",
      "Epoch 65/100\n",
      "98/98 - 0s - 4ms/step - accuracy: 0.6282 - loss: 0.6332\n",
      "Epoch 66/100\n",
      "98/98 - 0s - 4ms/step - accuracy: 0.6279 - loss: 0.6315\n",
      "Epoch 67/100\n",
      "98/98 - 0s - 4ms/step - accuracy: 0.6324 - loss: 0.6286\n",
      "Epoch 68/100\n",
      "98/98 - 0s - 3ms/step - accuracy: 0.6330 - loss: 0.6263\n",
      "Epoch 69/100\n",
      "98/98 - 0s - 3ms/step - accuracy: 0.6365 - loss: 0.6255\n",
      "Epoch 70/100\n",
      "98/98 - 0s - 3ms/step - accuracy: 0.6349 - loss: 0.6232\n",
      "Epoch 71/100\n",
      "98/98 - 0s - 3ms/step - accuracy: 0.6375 - loss: 0.6227\n",
      "Epoch 72/100\n",
      "98/98 - 0s - 4ms/step - accuracy: 0.6387 - loss: 0.6210\n",
      "Epoch 73/100\n",
      "98/98 - 0s - 3ms/step - accuracy: 0.6378 - loss: 0.6194\n",
      "Epoch 74/100\n",
      "98/98 - 0s - 3ms/step - accuracy: 0.6426 - loss: 0.6179\n",
      "Epoch 75/100\n",
      "98/98 - 0s - 3ms/step - accuracy: 0.6416 - loss: 0.6155\n",
      "Epoch 76/100\n",
      "98/98 - 0s - 3ms/step - accuracy: 0.6461 - loss: 0.6145\n",
      "Epoch 77/100\n",
      "98/98 - 0s - 3ms/step - accuracy: 0.6445 - loss: 0.6123\n",
      "Epoch 78/100\n",
      "98/98 - 0s - 4ms/step - accuracy: 0.6435 - loss: 0.6110\n",
      "Epoch 79/100\n",
      "98/98 - 0s - 4ms/step - accuracy: 0.6477 - loss: 0.6081\n",
      "Epoch 80/100\n",
      "98/98 - 1s - 6ms/step - accuracy: 0.6471 - loss: 0.6058\n",
      "Epoch 81/100\n",
      "98/98 - 0s - 4ms/step - accuracy: 0.6554 - loss: 0.6025\n",
      "Epoch 82/100\n",
      "98/98 - 0s - 4ms/step - accuracy: 0.6579 - loss: 0.6011\n",
      "Epoch 83/100\n",
      "98/98 - 0s - 4ms/step - accuracy: 0.6608 - loss: 0.5991\n",
      "Epoch 84/100\n",
      "98/98 - 0s - 4ms/step - accuracy: 0.6646 - loss: 0.5971\n",
      "Epoch 85/100\n",
      "98/98 - 0s - 5ms/step - accuracy: 0.6698 - loss: 0.5944\n",
      "Epoch 86/100\n",
      "98/98 - 0s - 4ms/step - accuracy: 0.6701 - loss: 0.5916\n",
      "Epoch 87/100\n",
      "98/98 - 0s - 4ms/step - accuracy: 0.6698 - loss: 0.5895\n",
      "Epoch 88/100\n",
      "98/98 - 0s - 4ms/step - accuracy: 0.6723 - loss: 0.5865\n",
      "Epoch 89/100\n",
      "98/98 - 0s - 3ms/step - accuracy: 0.6714 - loss: 0.5849\n",
      "Epoch 90/100\n",
      "98/98 - 0s - 4ms/step - accuracy: 0.6749 - loss: 0.5808\n",
      "Epoch 91/100\n",
      "98/98 - 0s - 4ms/step - accuracy: 0.6739 - loss: 0.5784\n",
      "Epoch 92/100\n",
      "98/98 - 0s - 4ms/step - accuracy: 0.6803 - loss: 0.5758\n",
      "Epoch 93/100\n",
      "98/98 - 0s - 5ms/step - accuracy: 0.6813 - loss: 0.5713\n",
      "Epoch 94/100\n",
      "98/98 - 0s - 4ms/step - accuracy: 0.6880 - loss: 0.5680\n",
      "Epoch 95/100\n",
      "98/98 - 0s - 4ms/step - accuracy: 0.6902 - loss: 0.5636\n",
      "Epoch 96/100\n",
      "98/98 - 1s - 6ms/step - accuracy: 0.6937 - loss: 0.5609\n",
      "Epoch 97/100\n",
      "98/98 - 0s - 3ms/step - accuracy: 0.6963 - loss: 0.5591\n",
      "Epoch 98/100\n",
      "98/98 - 0s - 3ms/step - accuracy: 0.6995 - loss: 0.5554\n",
      "Epoch 99/100\n",
      "98/98 - 0s - 3ms/step - accuracy: 0.7017 - loss: 0.5543\n",
      "Epoch 100/100\n",
      "98/98 - 0s - 4ms/step - accuracy: 0.7075 - loss: 0.5503\n",
      "\u001b[1m11/11\u001b[0m \u001b[32m━━━━━━━━━━━━━━━━━━━━\u001b[0m\u001b[37m\u001b[0m \u001b[1m0s\u001b[0m 4ms/step \n",
      "Final Model Metrics:\n",
      "Accuracy: 0.518840579710145\n",
      "F1: 0.5310734463276836\n",
      "Precision: 0.5251396648044693\n",
      "Recall: 0.5371428571428571\n"
     ]
    }
   ],
   "source": [
    "# Seed \n",
    "seed_value = 42\n",
    "tf.random.set_seed(seed_value)\n",
    "np.random.seed(seed_value)\n",
    "random.seed(seed_value)\n",
    "\n",
    "# Train the final model \n",
    "final_model = tuner.hypermodel.build(best_hps)\n",
    "history = final_model.fit(\n",
    "    X_train_full, y_train_full,\n",
    "    epochs=100,\n",
    "    batch_size=32,\n",
    "    verbose=2\n",
    ")\n",
    "\n",
    "# Evaluate the final model on the test data\n",
    "predictions = final_model.predict(X_test)\n",
    "test_pred = (predictions > 0.5).astype(int)\n",
    "\n",
    "final_accuracy = accuracy_score(y_test, test_pred)\n",
    "final_f1 = f1_score(y_test, test_pred)\n",
    "final_precision = precision_score(y_test, test_pred)\n",
    "final_recall = recall_score(y_test, test_pred)\n",
    "\n",
    "# Print the final metrics\n",
    "print('Final Model Metrics:')\n",
    "print('Accuracy:', final_accuracy)\n",
    "print('F1:', final_f1)\n",
    "print('Precision:', final_precision)\n",
    "print('Recall:', final_recall)\n",
    "\n",
    "# Save the model\n",
    "#final_model.save('best_CNN3DCLASS.keras')\n"
   ]
  },
  {
   "cell_type": "code",
   "execution_count": null,
   "metadata": {},
   "outputs": [],
   "source": []
  }
 ],
 "metadata": {
  "kernelspec": {
   "display_name": "base",
   "language": "python",
   "name": "python3"
  },
  "language_info": {
   "codemirror_mode": {
    "name": "ipython",
    "version": 3
   },
   "file_extension": ".py",
   "mimetype": "text/x-python",
   "name": "python",
   "nbconvert_exporter": "python",
   "pygments_lexer": "ipython3",
   "version": "3.11.4"
  }
 },
 "nbformat": 4,
 "nbformat_minor": 2
}

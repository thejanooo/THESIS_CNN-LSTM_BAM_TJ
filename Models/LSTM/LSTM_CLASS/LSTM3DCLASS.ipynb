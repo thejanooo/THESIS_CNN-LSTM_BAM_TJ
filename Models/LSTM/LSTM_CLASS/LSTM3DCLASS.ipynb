{
 "cells": [
  {
   "cell_type": "code",
   "execution_count": 8,
   "metadata": {},
   "outputs": [
    {
     "name": "stdout",
     "output_type": "stream",
     "text": [
      "Reloading Tuner from my_dir/LSTM-3D-CLASS/tuner0.json\n",
      "Results summary\n",
      "Results in my_dir/LSTM-3D-CLASS\n",
      "Showing 10 best trials\n",
      "Objective(name=\"val_accuracy\", direction=\"max\")\n",
      "\n",
      "Trial 10 summary\n",
      "Hyperparameters:\n",
      "units: 130\n",
      "learning_rate: 0.0001\n",
      "Score: 0.5369774699211121\n",
      "\n",
      "Trial 16 summary\n",
      "Hyperparameters:\n",
      "units: 180\n",
      "learning_rate: 0.001\n",
      "Score: 0.5369774699211121\n",
      "\n",
      "Trial 06 summary\n",
      "Hyperparameters:\n",
      "units: 100\n",
      "learning_rate: 0.0001\n",
      "Score: 0.5337620377540588\n",
      "\n",
      "Trial 23 summary\n",
      "Hyperparameters:\n",
      "units: 170\n",
      "learning_rate: 0.001\n",
      "Score: 0.5337620377540588\n",
      "\n",
      "Trial 02 summary\n",
      "Hyperparameters:\n",
      "units: 150\n",
      "learning_rate: 0.001\n",
      "Score: 0.5337620377540588\n",
      "\n",
      "Trial 15 summary\n",
      "Hyperparameters:\n",
      "units: 160\n",
      "learning_rate: 0.001\n",
      "Score: 0.5305466055870056\n",
      "\n",
      "Trial 08 summary\n",
      "Hyperparameters:\n",
      "units: 140\n",
      "learning_rate: 0.001\n",
      "Score: 0.5305466055870056\n",
      "\n",
      "Trial 03 summary\n",
      "Hyperparameters:\n",
      "units: 190\n",
      "learning_rate: 0.001\n",
      "Score: 0.5305466055870056\n",
      "\n",
      "Trial 18 summary\n",
      "Hyperparameters:\n",
      "units: 110\n",
      "learning_rate: 0.001\n",
      "Score: 0.5305466055870056\n",
      "\n",
      "Trial 28 summary\n",
      "Hyperparameters:\n",
      "units: 140\n",
      "learning_rate: 0.0001\n",
      "Score: 0.5305466055870056\n",
      "None\n"
     ]
    },
    {
     "name": "stderr",
     "output_type": "stream",
     "text": [
      "/opt/anaconda3/lib/python3.11/site-packages/keras/src/layers/rnn/rnn.py:204: UserWarning: Do not pass an `input_shape`/`input_dim` argument to a layer. When using Sequential models, prefer using an `Input(shape)` object as the first layer in the model instead.\n",
      "  super().__init__(**kwargs)\n"
     ]
    }
   ],
   "source": [
    "import pandas as pd\n",
    "import numpy as np\n",
    "from sklearn.preprocessing import MinMaxScaler\n",
    "from tensorflow.keras.models import Sequential\n",
    "from tensorflow.keras.layers import LSTM, Dense, Dropout\n",
    "from keras.optimizers import Adam\n",
    "import tensorflow as tf\n",
    "from keras_tuner import RandomSearch\n",
    "import keras\n",
    "from keras.callbacks import EarlyStopping\n",
    "from tensorflow.keras import backend as K\n",
    "from sklearn.metrics import accuracy_score, f1_score, precision_score, recall_score\n",
    "import random\n",
    "\n",
    "# Load the data\n",
    "data = pd.read_csv('../../../Data/Final_df/BTC_FINAL_df_class.csv')\n",
    "\n",
    "# MAke the date the index\n",
    "data.set_index('Date', inplace=True)\n",
    "\n",
    "\n",
    "seed_value = 42\n",
    "tf.random.set_seed(seed_value)\n",
    "np.random.seed(seed_value)\n",
    "random.seed(seed_value)\n",
    "\n",
    "# Normalize the data\n",
    "# List of columns to scale\n",
    "columns_to_scale = ['Open', 'High', 'Low', 'Close', 'Volume', 'RSI', 'ATR', 'MACD', 'MFI',\n",
    "                    'EMA', 'SMA', 'OBV', 'GTrends_Interest', 'Sentiment_Bullish',\n",
    "                    'Price_oil', 'Price_gold', 'Price_NASDAQ', 'Price_SP500', 'Price_NYSE',\n",
    "                    'Interest_Rate', 'hash_rate', 'users','Target' ]\n",
    "\n",
    "# Initialize the scaler\n",
    "scaler = MinMaxScaler(feature_range=(0, 1))\n",
    "\n",
    "# Scale the selected columns\n",
    "data[columns_to_scale] = scaler.fit_transform(data[columns_to_scale])\n",
    "\n",
    "# Train and test data\n",
    "training_size = int(len(data) * 0.9)\n",
    "training_data = data[:training_size]\n",
    "test_data = data[training_size:]\n",
    "\n",
    "train_data = training_data[:int(len(training_data) * 0.9)]\n",
    "val_data = training_data[int(len(training_data) * 0.9):]\n",
    "\n",
    "# Define the function to create the dataset\n",
    "def create_dataset(data, window_size, target_index):\n",
    "    X, y = [], []\n",
    "    for i in range(len(data) - window_size):\n",
    "        X.append(data.iloc[i:(i + window_size)].values)  \n",
    "        y.append(data.iloc[i + window_size, target_index])\n",
    "    return np.array(X), np.array(y)\n",
    "\n",
    "# Forecast Horizon\n",
    "window_size = 3\n",
    "\n",
    "# Target index ('Close')\n",
    "close_index = 22\n",
    "\n",
    "# Create the dataset\n",
    "X_train, y_train = create_dataset(train_data, window_size, close_index)\n",
    "X_test, y_test = create_dataset(test_data, window_size, close_index)\n",
    "X_val, y_val = create_dataset(val_data, window_size, close_index)\n",
    "x_train_full, y_train_full = create_dataset(training_data, window_size, close_index)\n",
    "\n",
    "# Reshape the data\n",
    "X_train = X_train.reshape((X_train.shape[0], window_size, X_train.shape[2]))\n",
    "X_test = X_test.reshape((X_test.shape[0], window_size, X_test.shape[2]))\n",
    "X_val = X_val.reshape((X_val.shape[0], window_size, X_val.shape[2]))\n",
    "x_train_full = x_train_full.reshape((x_train_full.shape[0], window_size, x_train_full.shape[2]))\n",
    "\n",
    "def build_model(hp):\n",
    "    model = Sequential()\n",
    "    \n",
    "        # First LSTM layer\n",
    "    units=hp.Int('units', min_value=100, max_value=200, step=10)\n",
    "    model.add(LSTM(units=units,\n",
    "                    return_sequences=True, input_shape=(3, 23)))\n",
    "    \n",
    "    model.add(LSTM(units=units,\n",
    "                    return_sequences=True))\n",
    "    \n",
    "    model.add(LSTM(units=units,\n",
    "                   return_sequences=False))\n",
    "    \n",
    "    model.add(Dense(units=1, activation='sigmoid'))\n",
    "\n",
    "    model.compile(optimizer=Adam(\n",
    "        learning_rate=hp.Choice('learning_rate', values=[1e-2, 1e-3, 1e-4])),\n",
    "        loss='binary_crossentropy',\n",
    "        metrics=['accuracy'])\n",
    "    \n",
    "    return model\n",
    "\n",
    "#TRy 1: LSTM-3D-CLASS\n",
    "# Instantiate the tuner\n",
    "tuner = RandomSearch(\n",
    "    build_model,\n",
    "    objective='val_accuracy', \n",
    "    max_trials=35,\n",
    "    executions_per_trial=1,\n",
    "    directory='my_dir',\n",
    "    project_name='LSTM-3D-CLASS',\n",
    "    overwrite=False\n",
    ")\n",
    "\n",
    "\n",
    "# Configure EarlyStopping\n",
    "early_stopping = EarlyStopping(\n",
    "    monitor='val_accuracy',   \n",
    "    patience=15,          \n",
    "    restore_best_weights=True  \n",
    ")\n",
    "\n",
    "# Execute the search with EarlyStopping\n",
    "tuner.search(\n",
    "    X_train, y_train,  \n",
    "    epochs=35,\n",
    "    batch_size=32,\n",
    "    validation_data=(X_val, y_val),  \n",
    "    verbose=2,\n",
    "    callbacks=[early_stopping]\n",
    ")\n",
    "\n",
    "# Get the best model\n",
    "best_hps = tuner.get_best_hyperparameters()[0]\n",
    "best_model = tuner.hypermodel.build(best_hps)\n",
    "\n",
    "print(best_model.summary())"
   ]
  },
  {
   "cell_type": "code",
   "execution_count": 2,
   "metadata": {},
   "outputs": [
    {
     "name": "stdout",
     "output_type": "stream",
     "text": [
      "iteration:  0\n",
      "\u001b[1m11/11\u001b[0m \u001b[32m━━━━━━━━━━━━━━━━━━━━\u001b[0m\u001b[37m\u001b[0m \u001b[1m1s\u001b[0m 77ms/step\n"
     ]
    },
    {
     "name": "stderr",
     "output_type": "stream",
     "text": [
      "/opt/anaconda3/lib/python3.11/site-packages/keras/src/layers/rnn/rnn.py:204: UserWarning: Do not pass an `input_shape`/`input_dim` argument to a layer. When using Sequential models, prefer using an `Input(shape)` object as the first layer in the model instead.\n",
      "  super().__init__(**kwargs)\n"
     ]
    },
    {
     "name": "stdout",
     "output_type": "stream",
     "text": [
      "iteration:  1\n",
      "\u001b[1m11/11\u001b[0m \u001b[32m━━━━━━━━━━━━━━━━━━━━\u001b[0m\u001b[37m\u001b[0m \u001b[1m1s\u001b[0m 67ms/step\n"
     ]
    },
    {
     "name": "stderr",
     "output_type": "stream",
     "text": [
      "/opt/anaconda3/lib/python3.11/site-packages/keras/src/layers/rnn/rnn.py:204: UserWarning: Do not pass an `input_shape`/`input_dim` argument to a layer. When using Sequential models, prefer using an `Input(shape)` object as the first layer in the model instead.\n",
      "  super().__init__(**kwargs)\n"
     ]
    },
    {
     "name": "stdout",
     "output_type": "stream",
     "text": [
      "iteration:  2\n",
      "\u001b[1m11/11\u001b[0m \u001b[32m━━━━━━━━━━━━━━━━━━━━\u001b[0m\u001b[37m\u001b[0m \u001b[1m1s\u001b[0m 71ms/step\n"
     ]
    },
    {
     "name": "stderr",
     "output_type": "stream",
     "text": [
      "/opt/anaconda3/lib/python3.11/site-packages/keras/src/layers/rnn/rnn.py:204: UserWarning: Do not pass an `input_shape`/`input_dim` argument to a layer. When using Sequential models, prefer using an `Input(shape)` object as the first layer in the model instead.\n",
      "  super().__init__(**kwargs)\n"
     ]
    },
    {
     "name": "stdout",
     "output_type": "stream",
     "text": [
      "iteration:  3\n",
      "\u001b[1m11/11\u001b[0m \u001b[32m━━━━━━━━━━━━━━━━━━━━\u001b[0m\u001b[37m\u001b[0m \u001b[1m1s\u001b[0m 91ms/step\n"
     ]
    },
    {
     "name": "stderr",
     "output_type": "stream",
     "text": [
      "/opt/anaconda3/lib/python3.11/site-packages/keras/src/layers/rnn/rnn.py:204: UserWarning: Do not pass an `input_shape`/`input_dim` argument to a layer. When using Sequential models, prefer using an `Input(shape)` object as the first layer in the model instead.\n",
      "  super().__init__(**kwargs)\n"
     ]
    },
    {
     "name": "stdout",
     "output_type": "stream",
     "text": [
      "iteration:  4\n",
      "\u001b[1m11/11\u001b[0m \u001b[32m━━━━━━━━━━━━━━━━━━━━\u001b[0m\u001b[37m\u001b[0m \u001b[1m1s\u001b[0m 97ms/step\n"
     ]
    },
    {
     "name": "stderr",
     "output_type": "stream",
     "text": [
      "/opt/anaconda3/lib/python3.11/site-packages/keras/src/layers/rnn/rnn.py:204: UserWarning: Do not pass an `input_shape`/`input_dim` argument to a layer. When using Sequential models, prefer using an `Input(shape)` object as the first layer in the model instead.\n",
      "  super().__init__(**kwargs)\n"
     ]
    },
    {
     "name": "stdout",
     "output_type": "stream",
     "text": [
      "iteration:  5\n",
      "\u001b[1m11/11\u001b[0m \u001b[32m━━━━━━━━━━━━━━━━━━━━\u001b[0m\u001b[37m\u001b[0m \u001b[1m1s\u001b[0m 73ms/step\n",
      "iteration:  6\n"
     ]
    },
    {
     "name": "stderr",
     "output_type": "stream",
     "text": [
      "/opt/anaconda3/lib/python3.11/site-packages/keras/src/layers/rnn/rnn.py:204: UserWarning: Do not pass an `input_shape`/`input_dim` argument to a layer. When using Sequential models, prefer using an `Input(shape)` object as the first layer in the model instead.\n",
      "  super().__init__(**kwargs)\n"
     ]
    },
    {
     "name": "stdout",
     "output_type": "stream",
     "text": [
      "\u001b[1m11/11\u001b[0m \u001b[32m━━━━━━━━━━━━━━━━━━━━\u001b[0m\u001b[37m\u001b[0m \u001b[1m2s\u001b[0m 114ms/step\n"
     ]
    },
    {
     "name": "stderr",
     "output_type": "stream",
     "text": [
      "/opt/anaconda3/lib/python3.11/site-packages/keras/src/layers/rnn/rnn.py:204: UserWarning: Do not pass an `input_shape`/`input_dim` argument to a layer. When using Sequential models, prefer using an `Input(shape)` object as the first layer in the model instead.\n",
      "  super().__init__(**kwargs)\n"
     ]
    },
    {
     "name": "stdout",
     "output_type": "stream",
     "text": [
      "iteration:  7\n",
      "\u001b[1m11/11\u001b[0m \u001b[32m━━━━━━━━━━━━━━━━━━━━\u001b[0m\u001b[37m\u001b[0m \u001b[1m2s\u001b[0m 99ms/step\n",
      "iteration:  8\n"
     ]
    },
    {
     "name": "stderr",
     "output_type": "stream",
     "text": [
      "/opt/anaconda3/lib/python3.11/site-packages/keras/src/layers/rnn/rnn.py:204: UserWarning: Do not pass an `input_shape`/`input_dim` argument to a layer. When using Sequential models, prefer using an `Input(shape)` object as the first layer in the model instead.\n",
      "  super().__init__(**kwargs)\n"
     ]
    },
    {
     "name": "stdout",
     "output_type": "stream",
     "text": [
      "\u001b[1m11/11\u001b[0m \u001b[32m━━━━━━━━━━━━━━━━━━━━\u001b[0m\u001b[37m\u001b[0m \u001b[1m1s\u001b[0m 50ms/step\n",
      "iteration:  9\n"
     ]
    },
    {
     "name": "stderr",
     "output_type": "stream",
     "text": [
      "/opt/anaconda3/lib/python3.11/site-packages/keras/src/layers/rnn/rnn.py:204: UserWarning: Do not pass an `input_shape`/`input_dim` argument to a layer. When using Sequential models, prefer using an `Input(shape)` object as the first layer in the model instead.\n",
      "  super().__init__(**kwargs)\n"
     ]
    },
    {
     "name": "stdout",
     "output_type": "stream",
     "text": [
      "\u001b[1m11/11\u001b[0m \u001b[32m━━━━━━━━━━━━━━━━━━━━\u001b[0m\u001b[37m\u001b[0m \u001b[1m2s\u001b[0m 115ms/step\n"
     ]
    },
    {
     "name": "stderr",
     "output_type": "stream",
     "text": [
      "/opt/anaconda3/lib/python3.11/site-packages/keras/src/layers/rnn/rnn.py:204: UserWarning: Do not pass an `input_shape`/`input_dim` argument to a layer. When using Sequential models, prefer using an `Input(shape)` object as the first layer in the model instead.\n",
      "  super().__init__(**kwargs)\n"
     ]
    },
    {
     "name": "stdout",
     "output_type": "stream",
     "text": [
      "iteration:  10\n",
      "\u001b[1m11/11\u001b[0m \u001b[32m━━━━━━━━━━━━━━━━━━━━\u001b[0m\u001b[37m\u001b[0m \u001b[1m1s\u001b[0m 57ms/step\n"
     ]
    },
    {
     "name": "stderr",
     "output_type": "stream",
     "text": [
      "/opt/anaconda3/lib/python3.11/site-packages/keras/src/layers/rnn/rnn.py:204: UserWarning: Do not pass an `input_shape`/`input_dim` argument to a layer. When using Sequential models, prefer using an `Input(shape)` object as the first layer in the model instead.\n",
      "  super().__init__(**kwargs)\n"
     ]
    },
    {
     "name": "stdout",
     "output_type": "stream",
     "text": [
      "iteration:  11\n",
      "\u001b[1m11/11\u001b[0m \u001b[32m━━━━━━━━━━━━━━━━━━━━\u001b[0m\u001b[37m\u001b[0m \u001b[1m1s\u001b[0m 91ms/step\n",
      "iteration:  12\n"
     ]
    },
    {
     "name": "stderr",
     "output_type": "stream",
     "text": [
      "/opt/anaconda3/lib/python3.11/site-packages/keras/src/layers/rnn/rnn.py:204: UserWarning: Do not pass an `input_shape`/`input_dim` argument to a layer. When using Sequential models, prefer using an `Input(shape)` object as the first layer in the model instead.\n",
      "  super().__init__(**kwargs)\n"
     ]
    },
    {
     "name": "stdout",
     "output_type": "stream",
     "text": [
      "\u001b[1m11/11\u001b[0m \u001b[32m━━━━━━━━━━━━━━━━━━━━\u001b[0m\u001b[37m\u001b[0m \u001b[1m1s\u001b[0m 64ms/step\n",
      "iteration:  13\n"
     ]
    },
    {
     "name": "stderr",
     "output_type": "stream",
     "text": [
      "/opt/anaconda3/lib/python3.11/site-packages/keras/src/layers/rnn/rnn.py:204: UserWarning: Do not pass an `input_shape`/`input_dim` argument to a layer. When using Sequential models, prefer using an `Input(shape)` object as the first layer in the model instead.\n",
      "  super().__init__(**kwargs)\n"
     ]
    },
    {
     "name": "stdout",
     "output_type": "stream",
     "text": [
      "\u001b[1m11/11\u001b[0m \u001b[32m━━━━━━━━━━━━━━━━━━━━\u001b[0m\u001b[37m\u001b[0m \u001b[1m1s\u001b[0m 97ms/step\n",
      "iteration:  14\n"
     ]
    },
    {
     "name": "stderr",
     "output_type": "stream",
     "text": [
      "/opt/anaconda3/lib/python3.11/site-packages/keras/src/layers/rnn/rnn.py:204: UserWarning: Do not pass an `input_shape`/`input_dim` argument to a layer. When using Sequential models, prefer using an `Input(shape)` object as the first layer in the model instead.\n",
      "  super().__init__(**kwargs)\n"
     ]
    },
    {
     "name": "stdout",
     "output_type": "stream",
     "text": [
      "\u001b[1m11/11\u001b[0m \u001b[32m━━━━━━━━━━━━━━━━━━━━\u001b[0m\u001b[37m\u001b[0m \u001b[1m1s\u001b[0m 39ms/step\n",
      "iteration:  15\n"
     ]
    },
    {
     "name": "stderr",
     "output_type": "stream",
     "text": [
      "/opt/anaconda3/lib/python3.11/site-packages/keras/src/layers/rnn/rnn.py:204: UserWarning: Do not pass an `input_shape`/`input_dim` argument to a layer. When using Sequential models, prefer using an `Input(shape)` object as the first layer in the model instead.\n",
      "  super().__init__(**kwargs)\n"
     ]
    },
    {
     "name": "stdout",
     "output_type": "stream",
     "text": [
      "\u001b[1m11/11\u001b[0m \u001b[32m━━━━━━━━━━━━━━━━━━━━\u001b[0m\u001b[37m\u001b[0m \u001b[1m1s\u001b[0m 51ms/step\n",
      "iteration:  16\n"
     ]
    },
    {
     "name": "stderr",
     "output_type": "stream",
     "text": [
      "/opt/anaconda3/lib/python3.11/site-packages/keras/src/layers/rnn/rnn.py:204: UserWarning: Do not pass an `input_shape`/`input_dim` argument to a layer. When using Sequential models, prefer using an `Input(shape)` object as the first layer in the model instead.\n",
      "  super().__init__(**kwargs)\n"
     ]
    },
    {
     "name": "stdout",
     "output_type": "stream",
     "text": [
      "\u001b[1m11/11\u001b[0m \u001b[32m━━━━━━━━━━━━━━━━━━━━\u001b[0m\u001b[37m\u001b[0m \u001b[1m1s\u001b[0m 76ms/step\n",
      "iteration:  17\n"
     ]
    },
    {
     "name": "stderr",
     "output_type": "stream",
     "text": [
      "/opt/anaconda3/lib/python3.11/site-packages/keras/src/layers/rnn/rnn.py:204: UserWarning: Do not pass an `input_shape`/`input_dim` argument to a layer. When using Sequential models, prefer using an `Input(shape)` object as the first layer in the model instead.\n",
      "  super().__init__(**kwargs)\n"
     ]
    },
    {
     "name": "stdout",
     "output_type": "stream",
     "text": [
      "\u001b[1m11/11\u001b[0m \u001b[32m━━━━━━━━━━━━━━━━━━━━\u001b[0m\u001b[37m\u001b[0m \u001b[1m1s\u001b[0m 45ms/step\n",
      "iteration:  18\n"
     ]
    },
    {
     "name": "stderr",
     "output_type": "stream",
     "text": [
      "/opt/anaconda3/lib/python3.11/site-packages/keras/src/layers/rnn/rnn.py:204: UserWarning: Do not pass an `input_shape`/`input_dim` argument to a layer. When using Sequential models, prefer using an `Input(shape)` object as the first layer in the model instead.\n",
      "  super().__init__(**kwargs)\n"
     ]
    },
    {
     "name": "stdout",
     "output_type": "stream",
     "text": [
      "\u001b[1m11/11\u001b[0m \u001b[32m━━━━━━━━━━━━━━━━━━━━\u001b[0m\u001b[37m\u001b[0m \u001b[1m1s\u001b[0m 32ms/step\n",
      "iteration:  19\n"
     ]
    },
    {
     "name": "stderr",
     "output_type": "stream",
     "text": [
      "/opt/anaconda3/lib/python3.11/site-packages/keras/src/layers/rnn/rnn.py:204: UserWarning: Do not pass an `input_shape`/`input_dim` argument to a layer. When using Sequential models, prefer using an `Input(shape)` object as the first layer in the model instead.\n",
      "  super().__init__(**kwargs)\n"
     ]
    },
    {
     "name": "stdout",
     "output_type": "stream",
     "text": [
      "\u001b[1m11/11\u001b[0m \u001b[32m━━━━━━━━━━━━━━━━━━━━\u001b[0m\u001b[37m\u001b[0m \u001b[1m1s\u001b[0m 31ms/step\n",
      "iteration:  20\n"
     ]
    },
    {
     "name": "stderr",
     "output_type": "stream",
     "text": [
      "/opt/anaconda3/lib/python3.11/site-packages/keras/src/layers/rnn/rnn.py:204: UserWarning: Do not pass an `input_shape`/`input_dim` argument to a layer. When using Sequential models, prefer using an `Input(shape)` object as the first layer in the model instead.\n",
      "  super().__init__(**kwargs)\n"
     ]
    },
    {
     "name": "stdout",
     "output_type": "stream",
     "text": [
      "\u001b[1m11/11\u001b[0m \u001b[32m━━━━━━━━━━━━━━━━━━━━\u001b[0m\u001b[37m\u001b[0m \u001b[1m1s\u001b[0m 33ms/step\n",
      "iteration:  21\n"
     ]
    },
    {
     "name": "stderr",
     "output_type": "stream",
     "text": [
      "/opt/anaconda3/lib/python3.11/site-packages/keras/src/layers/rnn/rnn.py:204: UserWarning: Do not pass an `input_shape`/`input_dim` argument to a layer. When using Sequential models, prefer using an `Input(shape)` object as the first layer in the model instead.\n",
      "  super().__init__(**kwargs)\n"
     ]
    },
    {
     "name": "stdout",
     "output_type": "stream",
     "text": [
      "\u001b[1m11/11\u001b[0m \u001b[32m━━━━━━━━━━━━━━━━━━━━\u001b[0m\u001b[37m\u001b[0m \u001b[1m1s\u001b[0m 54ms/step\n",
      "iteration:  22\n"
     ]
    },
    {
     "name": "stderr",
     "output_type": "stream",
     "text": [
      "/opt/anaconda3/lib/python3.11/site-packages/keras/src/layers/rnn/rnn.py:204: UserWarning: Do not pass an `input_shape`/`input_dim` argument to a layer. When using Sequential models, prefer using an `Input(shape)` object as the first layer in the model instead.\n",
      "  super().__init__(**kwargs)\n"
     ]
    },
    {
     "name": "stdout",
     "output_type": "stream",
     "text": [
      "\u001b[1m11/11\u001b[0m \u001b[32m━━━━━━━━━━━━━━━━━━━━\u001b[0m\u001b[37m\u001b[0m \u001b[1m1s\u001b[0m 32ms/step\n",
      "iteration:  23\n"
     ]
    },
    {
     "name": "stderr",
     "output_type": "stream",
     "text": [
      "/opt/anaconda3/lib/python3.11/site-packages/keras/src/layers/rnn/rnn.py:204: UserWarning: Do not pass an `input_shape`/`input_dim` argument to a layer. When using Sequential models, prefer using an `Input(shape)` object as the first layer in the model instead.\n",
      "  super().__init__(**kwargs)\n"
     ]
    },
    {
     "name": "stdout",
     "output_type": "stream",
     "text": [
      "\u001b[1m11/11\u001b[0m \u001b[32m━━━━━━━━━━━━━━━━━━━━\u001b[0m\u001b[37m\u001b[0m \u001b[1m1s\u001b[0m 35ms/step\n",
      "iteration:  24\n"
     ]
    },
    {
     "name": "stderr",
     "output_type": "stream",
     "text": [
      "/opt/anaconda3/lib/python3.11/site-packages/keras/src/layers/rnn/rnn.py:204: UserWarning: Do not pass an `input_shape`/`input_dim` argument to a layer. When using Sequential models, prefer using an `Input(shape)` object as the first layer in the model instead.\n",
      "  super().__init__(**kwargs)\n"
     ]
    },
    {
     "name": "stdout",
     "output_type": "stream",
     "text": [
      "\u001b[1m11/11\u001b[0m \u001b[32m━━━━━━━━━━━━━━━━━━━━\u001b[0m\u001b[37m\u001b[0m \u001b[1m1s\u001b[0m 34ms/step\n"
     ]
    },
    {
     "name": "stderr",
     "output_type": "stream",
     "text": [
      "/opt/anaconda3/lib/python3.11/site-packages/keras/src/layers/rnn/rnn.py:204: UserWarning: Do not pass an `input_shape`/`input_dim` argument to a layer. When using Sequential models, prefer using an `Input(shape)` object as the first layer in the model instead.\n",
      "  super().__init__(**kwargs)\n"
     ]
    },
    {
     "name": "stdout",
     "output_type": "stream",
     "text": [
      "iteration:  25\n",
      "\u001b[1m11/11\u001b[0m \u001b[32m━━━━━━━━━━━━━━━━━━━━\u001b[0m\u001b[37m\u001b[0m \u001b[1m1s\u001b[0m 32ms/step\n",
      "iteration:  26\n"
     ]
    },
    {
     "name": "stderr",
     "output_type": "stream",
     "text": [
      "/opt/anaconda3/lib/python3.11/site-packages/keras/src/layers/rnn/rnn.py:204: UserWarning: Do not pass an `input_shape`/`input_dim` argument to a layer. When using Sequential models, prefer using an `Input(shape)` object as the first layer in the model instead.\n",
      "  super().__init__(**kwargs)\n"
     ]
    },
    {
     "name": "stdout",
     "output_type": "stream",
     "text": [
      "\u001b[1m11/11\u001b[0m \u001b[32m━━━━━━━━━━━━━━━━━━━━\u001b[0m\u001b[37m\u001b[0m \u001b[1m1s\u001b[0m 31ms/step\n",
      "iteration:  27\n"
     ]
    },
    {
     "name": "stderr",
     "output_type": "stream",
     "text": [
      "/opt/anaconda3/lib/python3.11/site-packages/keras/src/layers/rnn/rnn.py:204: UserWarning: Do not pass an `input_shape`/`input_dim` argument to a layer. When using Sequential models, prefer using an `Input(shape)` object as the first layer in the model instead.\n",
      "  super().__init__(**kwargs)\n"
     ]
    },
    {
     "name": "stdout",
     "output_type": "stream",
     "text": [
      "\u001b[1m11/11\u001b[0m \u001b[32m━━━━━━━━━━━━━━━━━━━━\u001b[0m\u001b[37m\u001b[0m \u001b[1m0s\u001b[0m 22ms/step\n",
      "iteration:  28\n"
     ]
    },
    {
     "name": "stderr",
     "output_type": "stream",
     "text": [
      "/opt/anaconda3/lib/python3.11/site-packages/keras/src/layers/rnn/rnn.py:204: UserWarning: Do not pass an `input_shape`/`input_dim` argument to a layer. When using Sequential models, prefer using an `Input(shape)` object as the first layer in the model instead.\n",
      "  super().__init__(**kwargs)\n"
     ]
    },
    {
     "name": "stdout",
     "output_type": "stream",
     "text": [
      "\u001b[1m11/11\u001b[0m \u001b[32m━━━━━━━━━━━━━━━━━━━━\u001b[0m\u001b[37m\u001b[0m \u001b[1m0s\u001b[0m 23ms/step\n",
      "iteration:  29\n"
     ]
    },
    {
     "name": "stderr",
     "output_type": "stream",
     "text": [
      "/opt/anaconda3/lib/python3.11/site-packages/keras/src/layers/rnn/rnn.py:204: UserWarning: Do not pass an `input_shape`/`input_dim` argument to a layer. When using Sequential models, prefer using an `Input(shape)` object as the first layer in the model instead.\n",
      "  super().__init__(**kwargs)\n"
     ]
    },
    {
     "name": "stdout",
     "output_type": "stream",
     "text": [
      "\u001b[1m11/11\u001b[0m \u001b[32m━━━━━━━━━━━━━━━━━━━━\u001b[0m\u001b[37m\u001b[0m \u001b[1m1s\u001b[0m 35ms/step\n",
      "Accuracy: 0.5428985507246378\n",
      "F1: 0.6061393896462501\n",
      "Precision: 0.5375339291169351\n",
      "Recall: 0.7083809523809526\n"
     ]
    }
   ],
   "source": [
    "# Fit the model n times and averages the metrics\n",
    "n = 30\n",
    "accuracy_list = []\n",
    "f1_list = []\n",
    "precision_list = []\n",
    "recall_list = []\n",
    "\n",
    "for _ in range(n):\n",
    "    best_hps = tuner.get_best_hyperparameters()[0]\n",
    "    best_model = tuner.hypermodel.build(best_hps)\n",
    "    print(\"iteration: \", _)\n",
    "    history = best_model.fit(\n",
    "        x_train_full, y_train_full,\n",
    "        epochs=250,\n",
    "        batch_size=32,\n",
    "        verbose=0\n",
    "    )\n",
    "    predictions = best_model.predict(X_test)\n",
    "    test_pred = (predictions > 0.5).astype(int)\n",
    "\n",
    "    accuracy = accuracy_score(y_test, test_pred)\n",
    "    f1 = f1_score(y_test, test_pred)\n",
    "    precision = precision_score(y_test, test_pred)\n",
    "    recall = recall_score(y_test, test_pred)\n",
    "\n",
    "    accuracy_list.append(accuracy)\n",
    "    f1_list.append(f1)\n",
    "    precision_list.append(precision)\n",
    "    recall_list.append(recall)\n",
    "\n",
    "# Calculate the average metrics\n",
    "average_accuracy = np.mean(accuracy_list)\n",
    "average_f1 = np.mean(f1_list)\n",
    "average_precision = np.mean(precision_list)\n",
    "average_recall = np.mean(recall_list)\n",
    "    \n",
    "# Print the average metrics\n",
    "print('Accuracy:', average_accuracy)\n",
    "print('F1:', average_f1)\n",
    "print('Precision:', average_precision)\n",
    "print('Recall:', average_recall)"
   ]
  },
  {
   "cell_type": "code",
   "execution_count": 3,
   "metadata": {},
   "outputs": [
    {
     "name": "stdout",
     "output_type": "stream",
     "text": [
      "Epoch 1/250\n"
     ]
    },
    {
     "name": "stderr",
     "output_type": "stream",
     "text": [
      "/opt/anaconda3/lib/python3.11/site-packages/keras/src/layers/rnn/rnn.py:204: UserWarning: Do not pass an `input_shape`/`input_dim` argument to a layer. When using Sequential models, prefer using an `Input(shape)` object as the first layer in the model instead.\n",
      "  super().__init__(**kwargs)\n"
     ]
    },
    {
     "name": "stdout",
     "output_type": "stream",
     "text": [
      "98/98 - 3s - 31ms/step - accuracy: 0.5189 - loss: 0.6927\n",
      "Epoch 2/250\n",
      "98/98 - 1s - 10ms/step - accuracy: 0.5275 - loss: 0.6916\n",
      "Epoch 3/250\n",
      "98/98 - 1s - 10ms/step - accuracy: 0.5246 - loss: 0.6908\n",
      "Epoch 4/250\n",
      "98/98 - 1s - 9ms/step - accuracy: 0.5230 - loss: 0.6903\n",
      "Epoch 5/250\n",
      "98/98 - 1s - 9ms/step - accuracy: 0.5272 - loss: 0.6900\n",
      "Epoch 6/250\n",
      "98/98 - 1s - 9ms/step - accuracy: 0.5249 - loss: 0.6898\n",
      "Epoch 7/250\n",
      "98/98 - 1s - 10ms/step - accuracy: 0.5291 - loss: 0.6896\n",
      "Epoch 8/250\n",
      "98/98 - 1s - 9ms/step - accuracy: 0.5304 - loss: 0.6894\n",
      "Epoch 9/250\n",
      "98/98 - 1s - 9ms/step - accuracy: 0.5307 - loss: 0.6893\n",
      "Epoch 10/250\n",
      "98/98 - 1s - 9ms/step - accuracy: 0.5313 - loss: 0.6891\n",
      "Epoch 11/250\n",
      "98/98 - 1s - 10ms/step - accuracy: 0.5301 - loss: 0.6890\n",
      "Epoch 12/250\n",
      "98/98 - 1s - 10ms/step - accuracy: 0.5297 - loss: 0.6888\n",
      "Epoch 13/250\n",
      "98/98 - 1s - 10ms/step - accuracy: 0.5310 - loss: 0.6887\n",
      "Epoch 14/250\n",
      "98/98 - 1s - 9ms/step - accuracy: 0.5320 - loss: 0.6885\n",
      "Epoch 15/250\n",
      "98/98 - 1s - 9ms/step - accuracy: 0.5316 - loss: 0.6884\n",
      "Epoch 16/250\n",
      "98/98 - 1s - 9ms/step - accuracy: 0.5326 - loss: 0.6883\n",
      "Epoch 17/250\n",
      "98/98 - 1s - 10ms/step - accuracy: 0.5323 - loss: 0.6881\n",
      "Epoch 18/250\n",
      "98/98 - 1s - 10ms/step - accuracy: 0.5332 - loss: 0.6880\n",
      "Epoch 19/250\n",
      "98/98 - 1s - 9ms/step - accuracy: 0.5329 - loss: 0.6879\n",
      "Epoch 20/250\n",
      "98/98 - 1s - 9ms/step - accuracy: 0.5332 - loss: 0.6878\n",
      "Epoch 21/250\n",
      "98/98 - 1s - 9ms/step - accuracy: 0.5348 - loss: 0.6877\n",
      "Epoch 22/250\n",
      "98/98 - 1s - 10ms/step - accuracy: 0.5336 - loss: 0.6876\n",
      "Epoch 23/250\n",
      "98/98 - 1s - 9ms/step - accuracy: 0.5332 - loss: 0.6875\n",
      "Epoch 24/250\n",
      "98/98 - 1s - 10ms/step - accuracy: 0.5352 - loss: 0.6874\n",
      "Epoch 25/250\n",
      "98/98 - 1s - 9ms/step - accuracy: 0.5342 - loss: 0.6873\n",
      "Epoch 26/250\n",
      "98/98 - 1s - 10ms/step - accuracy: 0.5326 - loss: 0.6873\n",
      "Epoch 27/250\n",
      "98/98 - 1s - 10ms/step - accuracy: 0.5336 - loss: 0.6872\n",
      "Epoch 28/250\n",
      "98/98 - 1s - 9ms/step - accuracy: 0.5352 - loss: 0.6871\n",
      "Epoch 29/250\n",
      "98/98 - 1s - 10ms/step - accuracy: 0.5348 - loss: 0.6871\n",
      "Epoch 30/250\n",
      "98/98 - 1s - 9ms/step - accuracy: 0.5345 - loss: 0.6870\n",
      "Epoch 31/250\n",
      "98/98 - 1s - 9ms/step - accuracy: 0.5339 - loss: 0.6869\n",
      "Epoch 32/250\n",
      "98/98 - 1s - 9ms/step - accuracy: 0.5355 - loss: 0.6869\n",
      "Epoch 33/250\n",
      "98/98 - 1s - 10ms/step - accuracy: 0.5348 - loss: 0.6868\n",
      "Epoch 34/250\n",
      "98/98 - 1s - 10ms/step - accuracy: 0.5355 - loss: 0.6868\n",
      "Epoch 35/250\n",
      "98/98 - 1s - 10ms/step - accuracy: 0.5332 - loss: 0.6867\n",
      "Epoch 36/250\n",
      "98/98 - 1s - 10ms/step - accuracy: 0.5316 - loss: 0.6867\n",
      "Epoch 37/250\n",
      "98/98 - 1s - 10ms/step - accuracy: 0.5313 - loss: 0.6866\n",
      "Epoch 38/250\n",
      "98/98 - 1s - 9ms/step - accuracy: 0.5326 - loss: 0.6866\n",
      "Epoch 39/250\n",
      "98/98 - 1s - 10ms/step - accuracy: 0.5332 - loss: 0.6865\n",
      "Epoch 40/250\n",
      "98/98 - 1s - 10ms/step - accuracy: 0.5352 - loss: 0.6865\n",
      "Epoch 41/250\n",
      "98/98 - 1s - 10ms/step - accuracy: 0.5348 - loss: 0.6864\n",
      "Epoch 42/250\n",
      "98/98 - 1s - 10ms/step - accuracy: 0.5348 - loss: 0.6864\n",
      "Epoch 43/250\n",
      "98/98 - 1s - 9ms/step - accuracy: 0.5329 - loss: 0.6863\n",
      "Epoch 44/250\n",
      "98/98 - 1s - 9ms/step - accuracy: 0.5336 - loss: 0.6863\n",
      "Epoch 45/250\n",
      "98/98 - 1s - 9ms/step - accuracy: 0.5345 - loss: 0.6862\n",
      "Epoch 46/250\n",
      "98/98 - 1s - 9ms/step - accuracy: 0.5355 - loss: 0.6862\n",
      "Epoch 47/250\n",
      "98/98 - 1s - 10ms/step - accuracy: 0.5345 - loss: 0.6861\n",
      "Epoch 48/250\n",
      "98/98 - 1s - 10ms/step - accuracy: 0.5361 - loss: 0.6861\n",
      "Epoch 49/250\n",
      "98/98 - 1s - 10ms/step - accuracy: 0.5371 - loss: 0.6860\n",
      "Epoch 50/250\n",
      "98/98 - 1s - 9ms/step - accuracy: 0.5374 - loss: 0.6860\n",
      "Epoch 51/250\n",
      "98/98 - 1s - 10ms/step - accuracy: 0.5371 - loss: 0.6859\n",
      "Epoch 52/250\n",
      "98/98 - 1s - 10ms/step - accuracy: 0.5384 - loss: 0.6859\n",
      "Epoch 53/250\n",
      "98/98 - 1s - 10ms/step - accuracy: 0.5400 - loss: 0.6858\n",
      "Epoch 54/250\n",
      "98/98 - 1s - 10ms/step - accuracy: 0.5403 - loss: 0.6858\n",
      "Epoch 55/250\n",
      "98/98 - 1s - 10ms/step - accuracy: 0.5416 - loss: 0.6858\n",
      "Epoch 56/250\n",
      "98/98 - 1s - 10ms/step - accuracy: 0.5422 - loss: 0.6857\n",
      "Epoch 57/250\n",
      "98/98 - 1s - 10ms/step - accuracy: 0.5425 - loss: 0.6857\n",
      "Epoch 58/250\n",
      "98/98 - 1s - 10ms/step - accuracy: 0.5432 - loss: 0.6856\n",
      "Epoch 59/250\n",
      "98/98 - 1s - 10ms/step - accuracy: 0.5428 - loss: 0.6856\n",
      "Epoch 60/250\n",
      "98/98 - 1s - 10ms/step - accuracy: 0.5419 - loss: 0.6855\n",
      "Epoch 61/250\n",
      "98/98 - 1s - 10ms/step - accuracy: 0.5422 - loss: 0.6855\n",
      "Epoch 62/250\n",
      "98/98 - 1s - 10ms/step - accuracy: 0.5416 - loss: 0.6854\n",
      "Epoch 63/250\n",
      "98/98 - 1s - 11ms/step - accuracy: 0.5425 - loss: 0.6854\n",
      "Epoch 64/250\n",
      "98/98 - 1s - 10ms/step - accuracy: 0.5412 - loss: 0.6853\n",
      "Epoch 65/250\n",
      "98/98 - 1s - 9ms/step - accuracy: 0.5416 - loss: 0.6853\n",
      "Epoch 66/250\n",
      "98/98 - 1s - 10ms/step - accuracy: 0.5435 - loss: 0.6852\n",
      "Epoch 67/250\n",
      "98/98 - 1s - 10ms/step - accuracy: 0.5444 - loss: 0.6852\n",
      "Epoch 68/250\n",
      "98/98 - 1s - 10ms/step - accuracy: 0.5435 - loss: 0.6852\n",
      "Epoch 69/250\n",
      "98/98 - 1s - 9ms/step - accuracy: 0.5432 - loss: 0.6851\n",
      "Epoch 70/250\n",
      "98/98 - 1s - 10ms/step - accuracy: 0.5422 - loss: 0.6851\n",
      "Epoch 71/250\n",
      "98/98 - 1s - 10ms/step - accuracy: 0.5416 - loss: 0.6850\n",
      "Epoch 72/250\n",
      "98/98 - 1s - 10ms/step - accuracy: 0.5412 - loss: 0.6850\n",
      "Epoch 73/250\n",
      "98/98 - 1s - 10ms/step - accuracy: 0.5422 - loss: 0.6849\n",
      "Epoch 74/250\n",
      "98/98 - 1s - 10ms/step - accuracy: 0.5425 - loss: 0.6849\n",
      "Epoch 75/250\n",
      "98/98 - 1s - 9ms/step - accuracy: 0.5444 - loss: 0.6848\n",
      "Epoch 76/250\n",
      "98/98 - 1s - 10ms/step - accuracy: 0.5432 - loss: 0.6848\n",
      "Epoch 77/250\n",
      "98/98 - 1s - 10ms/step - accuracy: 0.5432 - loss: 0.6848\n",
      "Epoch 78/250\n",
      "98/98 - 1s - 10ms/step - accuracy: 0.5428 - loss: 0.6847\n",
      "Epoch 79/250\n",
      "98/98 - 1s - 10ms/step - accuracy: 0.5428 - loss: 0.6847\n",
      "Epoch 80/250\n",
      "98/98 - 1s - 9ms/step - accuracy: 0.5428 - loss: 0.6846\n",
      "Epoch 81/250\n",
      "98/98 - 1s - 10ms/step - accuracy: 0.5448 - loss: 0.6846\n",
      "Epoch 82/250\n",
      "98/98 - 1s - 9ms/step - accuracy: 0.5444 - loss: 0.6846\n",
      "Epoch 83/250\n",
      "98/98 - 1s - 10ms/step - accuracy: 0.5432 - loss: 0.6845\n",
      "Epoch 84/250\n",
      "98/98 - 1s - 10ms/step - accuracy: 0.5451 - loss: 0.6845\n",
      "Epoch 85/250\n",
      "98/98 - 1s - 10ms/step - accuracy: 0.5470 - loss: 0.6844\n",
      "Epoch 86/250\n",
      "98/98 - 1s - 10ms/step - accuracy: 0.5460 - loss: 0.6844\n",
      "Epoch 87/250\n",
      "98/98 - 1s - 10ms/step - accuracy: 0.5457 - loss: 0.6844\n",
      "Epoch 88/250\n",
      "98/98 - 1s - 9ms/step - accuracy: 0.5470 - loss: 0.6843\n",
      "Epoch 89/250\n",
      "98/98 - 1s - 10ms/step - accuracy: 0.5457 - loss: 0.6843\n",
      "Epoch 90/250\n",
      "98/98 - 1s - 10ms/step - accuracy: 0.5451 - loss: 0.6843\n",
      "Epoch 91/250\n",
      "98/98 - 1s - 10ms/step - accuracy: 0.5457 - loss: 0.6842\n",
      "Epoch 92/250\n",
      "98/98 - 1s - 10ms/step - accuracy: 0.5467 - loss: 0.6842\n",
      "Epoch 93/250\n",
      "98/98 - 1s - 10ms/step - accuracy: 0.5454 - loss: 0.6842\n",
      "Epoch 94/250\n",
      "98/98 - 1s - 10ms/step - accuracy: 0.5464 - loss: 0.6841\n",
      "Epoch 95/250\n",
      "98/98 - 1s - 10ms/step - accuracy: 0.5473 - loss: 0.6841\n",
      "Epoch 96/250\n",
      "98/98 - 1s - 10ms/step - accuracy: 0.5470 - loss: 0.6841\n",
      "Epoch 97/250\n",
      "98/98 - 1s - 10ms/step - accuracy: 0.5480 - loss: 0.6840\n",
      "Epoch 98/250\n",
      "98/98 - 1s - 9ms/step - accuracy: 0.5476 - loss: 0.6840\n",
      "Epoch 99/250\n",
      "98/98 - 1s - 10ms/step - accuracy: 0.5480 - loss: 0.6840\n",
      "Epoch 100/250\n",
      "98/98 - 1s - 10ms/step - accuracy: 0.5486 - loss: 0.6839\n",
      "Epoch 101/250\n",
      "98/98 - 1s - 10ms/step - accuracy: 0.5483 - loss: 0.6839\n",
      "Epoch 102/250\n",
      "98/98 - 1s - 10ms/step - accuracy: 0.5483 - loss: 0.6839\n",
      "Epoch 103/250\n",
      "98/98 - 1s - 10ms/step - accuracy: 0.5483 - loss: 0.6838\n",
      "Epoch 104/250\n",
      "98/98 - 1s - 9ms/step - accuracy: 0.5480 - loss: 0.6838\n",
      "Epoch 105/250\n",
      "98/98 - 1s - 9ms/step - accuracy: 0.5473 - loss: 0.6838\n",
      "Epoch 106/250\n",
      "98/98 - 1s - 10ms/step - accuracy: 0.5473 - loss: 0.6838\n",
      "Epoch 107/250\n",
      "98/98 - 1s - 10ms/step - accuracy: 0.5480 - loss: 0.6837\n",
      "Epoch 108/250\n",
      "98/98 - 1s - 10ms/step - accuracy: 0.5486 - loss: 0.6837\n",
      "Epoch 109/250\n",
      "98/98 - 1s - 10ms/step - accuracy: 0.5480 - loss: 0.6837\n",
      "Epoch 110/250\n",
      "98/98 - 1s - 10ms/step - accuracy: 0.5473 - loss: 0.6837\n",
      "Epoch 111/250\n",
      "98/98 - 1s - 10ms/step - accuracy: 0.5486 - loss: 0.6836\n",
      "Epoch 112/250\n",
      "98/98 - 1s - 10ms/step - accuracy: 0.5502 - loss: 0.6836\n",
      "Epoch 113/250\n",
      "98/98 - 1s - 10ms/step - accuracy: 0.5515 - loss: 0.6836\n",
      "Epoch 114/250\n",
      "98/98 - 1s - 10ms/step - accuracy: 0.5515 - loss: 0.6836\n",
      "Epoch 115/250\n",
      "98/98 - 1s - 10ms/step - accuracy: 0.5515 - loss: 0.6835\n",
      "Epoch 116/250\n",
      "98/98 - 1s - 10ms/step - accuracy: 0.5527 - loss: 0.6835\n",
      "Epoch 117/250\n",
      "98/98 - 1s - 10ms/step - accuracy: 0.5527 - loss: 0.6835\n",
      "Epoch 118/250\n",
      "98/98 - 1s - 10ms/step - accuracy: 0.5534 - loss: 0.6835\n",
      "Epoch 119/250\n",
      "98/98 - 1s - 10ms/step - accuracy: 0.5534 - loss: 0.6834\n",
      "Epoch 120/250\n",
      "98/98 - 1s - 10ms/step - accuracy: 0.5537 - loss: 0.6834\n",
      "Epoch 121/250\n",
      "98/98 - 1s - 10ms/step - accuracy: 0.5540 - loss: 0.6834\n",
      "Epoch 122/250\n",
      "98/98 - 1s - 10ms/step - accuracy: 0.5531 - loss: 0.6834\n",
      "Epoch 123/250\n",
      "98/98 - 1s - 10ms/step - accuracy: 0.5540 - loss: 0.6833\n",
      "Epoch 124/250\n",
      "98/98 - 1s - 10ms/step - accuracy: 0.5540 - loss: 0.6833\n",
      "Epoch 125/250\n",
      "98/98 - 1s - 10ms/step - accuracy: 0.5537 - loss: 0.6833\n",
      "Epoch 126/250\n",
      "98/98 - 1s - 10ms/step - accuracy: 0.5534 - loss: 0.6833\n",
      "Epoch 127/250\n",
      "98/98 - 1s - 10ms/step - accuracy: 0.5527 - loss: 0.6832\n",
      "Epoch 128/250\n",
      "98/98 - 1s - 10ms/step - accuracy: 0.5534 - loss: 0.6832\n",
      "Epoch 129/250\n",
      "98/98 - 1s - 10ms/step - accuracy: 0.5527 - loss: 0.6832\n",
      "Epoch 130/250\n",
      "98/98 - 1s - 10ms/step - accuracy: 0.5521 - loss: 0.6832\n",
      "Epoch 131/250\n",
      "98/98 - 1s - 10ms/step - accuracy: 0.5518 - loss: 0.6832\n",
      "Epoch 132/250\n",
      "98/98 - 1s - 10ms/step - accuracy: 0.5515 - loss: 0.6831\n",
      "Epoch 133/250\n",
      "98/98 - 1s - 10ms/step - accuracy: 0.5515 - loss: 0.6831\n",
      "Epoch 134/250\n",
      "98/98 - 1s - 10ms/step - accuracy: 0.5515 - loss: 0.6831\n",
      "Epoch 135/250\n",
      "98/98 - 1s - 10ms/step - accuracy: 0.5512 - loss: 0.6831\n",
      "Epoch 136/250\n",
      "98/98 - 1s - 10ms/step - accuracy: 0.5515 - loss: 0.6830\n",
      "Epoch 137/250\n",
      "98/98 - 1s - 10ms/step - accuracy: 0.5515 - loss: 0.6830\n",
      "Epoch 138/250\n",
      "98/98 - 1s - 10ms/step - accuracy: 0.5512 - loss: 0.6830\n",
      "Epoch 139/250\n",
      "98/98 - 1s - 10ms/step - accuracy: 0.5502 - loss: 0.6830\n",
      "Epoch 140/250\n",
      "98/98 - 1s - 10ms/step - accuracy: 0.5502 - loss: 0.6829\n",
      "Epoch 141/250\n",
      "98/98 - 1s - 10ms/step - accuracy: 0.5496 - loss: 0.6829\n",
      "Epoch 142/250\n",
      "98/98 - 1s - 10ms/step - accuracy: 0.5499 - loss: 0.6829\n",
      "Epoch 143/250\n",
      "98/98 - 1s - 10ms/step - accuracy: 0.5492 - loss: 0.6829\n",
      "Epoch 144/250\n",
      "98/98 - 1s - 10ms/step - accuracy: 0.5492 - loss: 0.6828\n",
      "Epoch 145/250\n",
      "98/98 - 1s - 10ms/step - accuracy: 0.5483 - loss: 0.6828\n",
      "Epoch 146/250\n",
      "98/98 - 1s - 11ms/step - accuracy: 0.5480 - loss: 0.6828\n",
      "Epoch 147/250\n",
      "98/98 - 1s - 10ms/step - accuracy: 0.5486 - loss: 0.6828\n",
      "Epoch 148/250\n",
      "98/98 - 1s - 9ms/step - accuracy: 0.5483 - loss: 0.6827\n",
      "Epoch 149/250\n",
      "98/98 - 1s - 10ms/step - accuracy: 0.5480 - loss: 0.6827\n",
      "Epoch 150/250\n",
      "98/98 - 1s - 10ms/step - accuracy: 0.5476 - loss: 0.6827\n",
      "Epoch 151/250\n",
      "98/98 - 1s - 10ms/step - accuracy: 0.5476 - loss: 0.6827\n",
      "Epoch 152/250\n",
      "98/98 - 1s - 10ms/step - accuracy: 0.5473 - loss: 0.6826\n",
      "Epoch 153/250\n",
      "98/98 - 1s - 10ms/step - accuracy: 0.5473 - loss: 0.6826\n",
      "Epoch 154/250\n",
      "98/98 - 1s - 10ms/step - accuracy: 0.5470 - loss: 0.6826\n",
      "Epoch 155/250\n",
      "98/98 - 1s - 10ms/step - accuracy: 0.5473 - loss: 0.6826\n",
      "Epoch 156/250\n",
      "98/98 - 1s - 10ms/step - accuracy: 0.5476 - loss: 0.6825\n",
      "Epoch 157/250\n",
      "98/98 - 1s - 10ms/step - accuracy: 0.5480 - loss: 0.6825\n",
      "Epoch 158/250\n",
      "98/98 - 1s - 11ms/step - accuracy: 0.5492 - loss: 0.6825\n",
      "Epoch 159/250\n",
      "98/98 - 1s - 10ms/step - accuracy: 0.5489 - loss: 0.6825\n",
      "Epoch 160/250\n",
      "98/98 - 1s - 10ms/step - accuracy: 0.5492 - loss: 0.6824\n",
      "Epoch 161/250\n",
      "98/98 - 1s - 10ms/step - accuracy: 0.5492 - loss: 0.6824\n",
      "Epoch 162/250\n",
      "98/98 - 1s - 10ms/step - accuracy: 0.5489 - loss: 0.6824\n",
      "Epoch 163/250\n",
      "98/98 - 1s - 10ms/step - accuracy: 0.5492 - loss: 0.6824\n",
      "Epoch 164/250\n",
      "98/98 - 1s - 10ms/step - accuracy: 0.5502 - loss: 0.6823\n",
      "Epoch 165/250\n",
      "98/98 - 1s - 10ms/step - accuracy: 0.5508 - loss: 0.6823\n",
      "Epoch 166/250\n",
      "98/98 - 1s - 10ms/step - accuracy: 0.5508 - loss: 0.6823\n",
      "Epoch 167/250\n",
      "98/98 - 1s - 10ms/step - accuracy: 0.5515 - loss: 0.6822\n",
      "Epoch 168/250\n",
      "98/98 - 1s - 10ms/step - accuracy: 0.5515 - loss: 0.6822\n",
      "Epoch 169/250\n",
      "98/98 - 1s - 10ms/step - accuracy: 0.5518 - loss: 0.6822\n",
      "Epoch 170/250\n",
      "98/98 - 1s - 10ms/step - accuracy: 0.5521 - loss: 0.6822\n",
      "Epoch 171/250\n",
      "98/98 - 1s - 10ms/step - accuracy: 0.5521 - loss: 0.6821\n",
      "Epoch 172/250\n",
      "98/98 - 1s - 10ms/step - accuracy: 0.5524 - loss: 0.6821\n",
      "Epoch 173/250\n",
      "98/98 - 1s - 10ms/step - accuracy: 0.5524 - loss: 0.6821\n",
      "Epoch 174/250\n",
      "98/98 - 1s - 10ms/step - accuracy: 0.5524 - loss: 0.6821\n",
      "Epoch 175/250\n",
      "98/98 - 1s - 10ms/step - accuracy: 0.5527 - loss: 0.6820\n",
      "Epoch 176/250\n",
      "98/98 - 1s - 10ms/step - accuracy: 0.5534 - loss: 0.6820\n",
      "Epoch 177/250\n",
      "98/98 - 1s - 10ms/step - accuracy: 0.5527 - loss: 0.6820\n",
      "Epoch 178/250\n",
      "98/98 - 1s - 10ms/step - accuracy: 0.5531 - loss: 0.6819\n",
      "Epoch 179/250\n",
      "98/98 - 1s - 10ms/step - accuracy: 0.5540 - loss: 0.6819\n",
      "Epoch 180/250\n",
      "98/98 - 1s - 10ms/step - accuracy: 0.5550 - loss: 0.6819\n",
      "Epoch 181/250\n",
      "98/98 - 1s - 10ms/step - accuracy: 0.5553 - loss: 0.6819\n",
      "Epoch 182/250\n",
      "98/98 - 1s - 10ms/step - accuracy: 0.5556 - loss: 0.6818\n",
      "Epoch 183/250\n",
      "98/98 - 1s - 10ms/step - accuracy: 0.5553 - loss: 0.6818\n",
      "Epoch 184/250\n",
      "98/98 - 1s - 10ms/step - accuracy: 0.5563 - loss: 0.6818\n",
      "Epoch 185/250\n",
      "98/98 - 1s - 10ms/step - accuracy: 0.5563 - loss: 0.6817\n",
      "Epoch 186/250\n",
      "98/98 - 1s - 9ms/step - accuracy: 0.5556 - loss: 0.6817\n",
      "Epoch 187/250\n",
      "98/98 - 1s - 10ms/step - accuracy: 0.5553 - loss: 0.6817\n",
      "Epoch 188/250\n",
      "98/98 - 1s - 10ms/step - accuracy: 0.5559 - loss: 0.6817\n",
      "Epoch 189/250\n",
      "98/98 - 1s - 10ms/step - accuracy: 0.5559 - loss: 0.6816\n",
      "Epoch 190/250\n",
      "98/98 - 1s - 10ms/step - accuracy: 0.5566 - loss: 0.6816\n",
      "Epoch 191/250\n",
      "98/98 - 1s - 10ms/step - accuracy: 0.5572 - loss: 0.6816\n",
      "Epoch 192/250\n",
      "98/98 - 1s - 10ms/step - accuracy: 0.5572 - loss: 0.6815\n",
      "Epoch 193/250\n",
      "98/98 - 1s - 11ms/step - accuracy: 0.5572 - loss: 0.6815\n",
      "Epoch 194/250\n",
      "98/98 - 1s - 10ms/step - accuracy: 0.5569 - loss: 0.6815\n",
      "Epoch 195/250\n",
      "98/98 - 1s - 10ms/step - accuracy: 0.5566 - loss: 0.6815\n",
      "Epoch 196/250\n",
      "98/98 - 1s - 10ms/step - accuracy: 0.5566 - loss: 0.6814\n",
      "Epoch 197/250\n",
      "98/98 - 1s - 10ms/step - accuracy: 0.5572 - loss: 0.6814\n",
      "Epoch 198/250\n",
      "98/98 - 1s - 10ms/step - accuracy: 0.5572 - loss: 0.6814\n",
      "Epoch 199/250\n",
      "98/98 - 1s - 10ms/step - accuracy: 0.5569 - loss: 0.6813\n",
      "Epoch 200/250\n",
      "98/98 - 1s - 10ms/step - accuracy: 0.5575 - loss: 0.6813\n",
      "Epoch 201/250\n",
      "98/98 - 1s - 10ms/step - accuracy: 0.5575 - loss: 0.6813\n",
      "Epoch 202/250\n",
      "98/98 - 1s - 10ms/step - accuracy: 0.5582 - loss: 0.6813\n",
      "Epoch 203/250\n",
      "98/98 - 1s - 10ms/step - accuracy: 0.5588 - loss: 0.6812\n",
      "Epoch 204/250\n",
      "98/98 - 1s - 10ms/step - accuracy: 0.5585 - loss: 0.6812\n",
      "Epoch 205/250\n",
      "98/98 - 1s - 10ms/step - accuracy: 0.5588 - loss: 0.6812\n",
      "Epoch 206/250\n",
      "98/98 - 1s - 10ms/step - accuracy: 0.5591 - loss: 0.6811\n",
      "Epoch 207/250\n",
      "98/98 - 1s - 10ms/step - accuracy: 0.5595 - loss: 0.6811\n",
      "Epoch 208/250\n",
      "98/98 - 1s - 10ms/step - accuracy: 0.5588 - loss: 0.6811\n",
      "Epoch 209/250\n",
      "98/98 - 1s - 10ms/step - accuracy: 0.5595 - loss: 0.6811\n",
      "Epoch 210/250\n",
      "98/98 - 1s - 10ms/step - accuracy: 0.5595 - loss: 0.6810\n",
      "Epoch 211/250\n",
      "98/98 - 1s - 11ms/step - accuracy: 0.5591 - loss: 0.6810\n",
      "Epoch 212/250\n",
      "98/98 - 1s - 10ms/step - accuracy: 0.5588 - loss: 0.6810\n",
      "Epoch 213/250\n",
      "98/98 - 1s - 10ms/step - accuracy: 0.5591 - loss: 0.6809\n",
      "Epoch 214/250\n",
      "98/98 - 1s - 10ms/step - accuracy: 0.5588 - loss: 0.6809\n",
      "Epoch 215/250\n",
      "98/98 - 1s - 10ms/step - accuracy: 0.5588 - loss: 0.6809\n",
      "Epoch 216/250\n",
      "98/98 - 1s - 9ms/step - accuracy: 0.5585 - loss: 0.6809\n",
      "Epoch 217/250\n",
      "98/98 - 1s - 11ms/step - accuracy: 0.5588 - loss: 0.6808\n",
      "Epoch 218/250\n",
      "98/98 - 1s - 9ms/step - accuracy: 0.5598 - loss: 0.6808\n",
      "Epoch 219/250\n",
      "98/98 - 1s - 9ms/step - accuracy: 0.5601 - loss: 0.6808\n",
      "Epoch 220/250\n",
      "98/98 - 1s - 10ms/step - accuracy: 0.5598 - loss: 0.6808\n",
      "Epoch 221/250\n",
      "98/98 - 1s - 10ms/step - accuracy: 0.5591 - loss: 0.6807\n",
      "Epoch 222/250\n",
      "98/98 - 1s - 10ms/step - accuracy: 0.5601 - loss: 0.6807\n",
      "Epoch 223/250\n",
      "98/98 - 1s - 9ms/step - accuracy: 0.5601 - loss: 0.6807\n",
      "Epoch 224/250\n",
      "98/98 - 1s - 10ms/step - accuracy: 0.5598 - loss: 0.6806\n",
      "Epoch 225/250\n",
      "98/98 - 1s - 10ms/step - accuracy: 0.5598 - loss: 0.6806\n",
      "Epoch 226/250\n",
      "98/98 - 1s - 10ms/step - accuracy: 0.5588 - loss: 0.6806\n",
      "Epoch 227/250\n",
      "98/98 - 1s - 10ms/step - accuracy: 0.5585 - loss: 0.6806\n",
      "Epoch 228/250\n",
      "98/98 - 1s - 10ms/step - accuracy: 0.5591 - loss: 0.6805\n",
      "Epoch 229/250\n",
      "98/98 - 1s - 10ms/step - accuracy: 0.5598 - loss: 0.6805\n",
      "Epoch 230/250\n",
      "98/98 - 1s - 10ms/step - accuracy: 0.5607 - loss: 0.6805\n",
      "Epoch 231/250\n",
      "98/98 - 1s - 9ms/step - accuracy: 0.5598 - loss: 0.6805\n",
      "Epoch 232/250\n",
      "98/98 - 1s - 9ms/step - accuracy: 0.5601 - loss: 0.6804\n",
      "Epoch 233/250\n",
      "98/98 - 1s - 6ms/step - accuracy: 0.5604 - loss: 0.6804\n",
      "Epoch 234/250\n",
      "98/98 - 1s - 6ms/step - accuracy: 0.5607 - loss: 0.6804\n",
      "Epoch 235/250\n",
      "98/98 - 1s - 6ms/step - accuracy: 0.5614 - loss: 0.6804\n",
      "Epoch 236/250\n",
      "98/98 - 1s - 6ms/step - accuracy: 0.5617 - loss: 0.6803\n",
      "Epoch 237/250\n",
      "98/98 - 1s - 6ms/step - accuracy: 0.5617 - loss: 0.6803\n",
      "Epoch 238/250\n",
      "98/98 - 1s - 7ms/step - accuracy: 0.5611 - loss: 0.6803\n",
      "Epoch 239/250\n",
      "98/98 - 1s - 6ms/step - accuracy: 0.5614 - loss: 0.6802\n",
      "Epoch 240/250\n",
      "98/98 - 1s - 6ms/step - accuracy: 0.5611 - loss: 0.6802\n",
      "Epoch 241/250\n",
      "98/98 - 1s - 6ms/step - accuracy: 0.5607 - loss: 0.6802\n",
      "Epoch 242/250\n",
      "98/98 - 1s - 6ms/step - accuracy: 0.5604 - loss: 0.6802\n",
      "Epoch 243/250\n",
      "98/98 - 1s - 6ms/step - accuracy: 0.5601 - loss: 0.6801\n",
      "Epoch 244/250\n",
      "98/98 - 1s - 5ms/step - accuracy: 0.5611 - loss: 0.6801\n",
      "Epoch 245/250\n",
      "98/98 - 1s - 6ms/step - accuracy: 0.5604 - loss: 0.6801\n",
      "Epoch 246/250\n",
      "98/98 - 1s - 7ms/step - accuracy: 0.5611 - loss: 0.6801\n",
      "Epoch 247/250\n",
      "98/98 - 1s - 5ms/step - accuracy: 0.5607 - loss: 0.6800\n",
      "Epoch 248/250\n",
      "98/98 - 1s - 5ms/step - accuracy: 0.5607 - loss: 0.6800\n",
      "Epoch 249/250\n",
      "98/98 - 1s - 6ms/step - accuracy: 0.5617 - loss: 0.6800\n",
      "Epoch 250/250\n",
      "98/98 - 1s - 5ms/step - accuracy: 0.5617 - loss: 0.6800\n",
      "\u001b[1m11/11\u001b[0m \u001b[32m━━━━━━━━━━━━━━━━━━━━\u001b[0m\u001b[37m\u001b[0m \u001b[1m0s\u001b[0m 19ms/step\n",
      "Final Model Metrics:\n",
      "Accuracy: 0.553623188405797\n",
      "F1: 0.65\n",
      "Precision: 0.539622641509434\n",
      "Recall: 0.8171428571428572\n"
     ]
    }
   ],
   "source": [
    "# Seed \n",
    "seed_value = 42\n",
    "tf.random.set_seed(seed_value)\n",
    "np.random.seed(seed_value)\n",
    "random.seed(seed_value)\n",
    "\n",
    "# Train the final model \n",
    "final_model = tuner.hypermodel.build(best_hps)\n",
    "history = final_model.fit(\n",
    "    x_train_full, y_train_full,\n",
    "    epochs=250,\n",
    "    batch_size=32,\n",
    "    verbose=2\n",
    ")\n",
    "\n",
    "# Evaluate the final model on the test data\n",
    "predictions = final_model.predict(X_test)\n",
    "test_pred = (predictions > 0.5).astype(int)\n",
    "\n",
    "final_accuracy = accuracy_score(y_test, test_pred)\n",
    "final_f1 = f1_score(y_test, test_pred)\n",
    "final_precision = precision_score(y_test, test_pred)\n",
    "final_recall = recall_score(y_test, test_pred)\n",
    "\n",
    "\n",
    "# Print the final metrics\n",
    "print('Final Model Metrics:')\n",
    "print('Accuracy:', final_accuracy)\n",
    "print('F1:', final_f1)\n",
    "print('Precision:', final_precision)\n",
    "print('Recall:', final_recall)\n",
    "\n",
    "# Save the model\n",
    "final_model.save('best_LSTM3DCLASS.keras')"
   ]
  },
  {
   "cell_type": "code",
   "execution_count": null,
   "metadata": {},
   "outputs": [],
   "source": []
  }
 ],
 "metadata": {
  "kernelspec": {
   "display_name": "base",
   "language": "python",
   "name": "python3"
  },
  "language_info": {
   "codemirror_mode": {
    "name": "ipython",
    "version": 3
   },
   "file_extension": ".py",
   "mimetype": "text/x-python",
   "name": "python",
   "nbconvert_exporter": "python",
   "pygments_lexer": "ipython3",
   "version": "3.11.7"
  }
 },
 "nbformat": 4,
 "nbformat_minor": 2
}
